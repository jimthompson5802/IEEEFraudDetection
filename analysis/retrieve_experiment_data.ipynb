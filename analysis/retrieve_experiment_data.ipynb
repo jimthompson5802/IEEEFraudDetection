{
 "cells": [
  {
   "cell_type": "markdown",
   "metadata": {},
   "source": [
    "# extract run data from an experiment"
   ]
  },
  {
   "cell_type": "code",
   "execution_count": 1,
   "metadata": {},
   "outputs": [],
   "source": [
    "import pandas as pd\n",
    "import numpy as np\n",
    "import os\n",
    "import os.path\n",
    "import sys"
   ]
  },
  {
   "cell_type": "code",
   "execution_count": 2,
   "metadata": {},
   "outputs": [],
   "source": [
    "sys.path.append(\"..\")\n",
    "from utils.experiments import extract_run_data_for_experiment"
   ]
  },
  {
   "cell_type": "code",
   "execution_count": 3,
   "metadata": {},
   "outputs": [
    {
     "data": {
      "text/html": [
       "<div>\n",
       "<style scoped>\n",
       "    .dataframe tbody tr th:only-of-type {\n",
       "        vertical-align: middle;\n",
       "    }\n",
       "\n",
       "    .dataframe tbody tr th {\n",
       "        vertical-align: top;\n",
       "    }\n",
       "\n",
       "    .dataframe thead th {\n",
       "        text-align: right;\n",
       "    }\n",
       "</style>\n",
       "<table border=\"1\" class=\"dataframe\">\n",
       "  <thead>\n",
       "    <tr style=\"text-align: right;\">\n",
       "      <th></th>\n",
       "      <th>experiment_id</th>\n",
       "      <th>run_id</th>\n",
       "      <th>lifecycle_stage</th>\n",
       "      <th>start_time</th>\n",
       "      <th>end_time</th>\n",
       "      <th>artifact_uri</th>\n",
       "      <th>mlflow.user</th>\n",
       "      <th>mlflow.runName</th>\n",
       "      <th>mlflow.source.name</th>\n",
       "      <th>mlflow.source.type</th>\n",
       "    </tr>\n",
       "  </thead>\n",
       "  <tbody>\n",
       "    <tr>\n",
       "      <th>0</th>\n",
       "      <td>0</td>\n",
       "      <td>4b20d2c58c6f44beb36528a1542f9551</td>\n",
       "      <td>active</td>\n",
       "      <td>1564264133315</td>\n",
       "      <td>1564264143469</td>\n",
       "      <td>file:///opt/project/tracking/0/4b20d2c58c6f44b...</td>\n",
       "      <td>root</td>\n",
       "      <td>eda_sample</td>\n",
       "      <td>/opt/.pycharm_helpers/pydev/pydevconsole.py</td>\n",
       "      <td>LOCAL</td>\n",
       "    </tr>\n",
       "  </tbody>\n",
       "</table>\n",
       "</div>"
      ],
      "text/plain": [
       "  experiment_id                            run_id lifecycle_stage  \\\n",
       "0             0  4b20d2c58c6f44beb36528a1542f9551          active   \n",
       "\n",
       "      start_time       end_time  \\\n",
       "0  1564264133315  1564264143469   \n",
       "\n",
       "                                        artifact_uri mlflow.user  \\\n",
       "0  file:///opt/project/tracking/0/4b20d2c58c6f44b...        root   \n",
       "\n",
       "  mlflow.runName                           mlflow.source.name  \\\n",
       "0     eda_sample  /opt/.pycharm_helpers/pydev/pydevconsole.py   \n",
       "\n",
       "  mlflow.source.type  \n",
       "0              LOCAL  "
      ]
     },
     "execution_count": 3,
     "metadata": {},
     "output_type": "execute_result"
    }
   ],
   "source": [
    "extract_run_data_for_experiment('feature_set')"
   ]
  },
  {
   "cell_type": "code",
   "execution_count": null,
   "metadata": {},
   "outputs": [],
   "source": []
  }
 ],
 "metadata": {
  "kernelspec": {
   "display_name": "Python 3",
   "language": "python",
   "name": "python3"
  },
  "language_info": {
   "codemirror_mode": {
    "name": "ipython",
    "version": 3
   },
   "file_extension": ".py",
   "mimetype": "text/x-python",
   "name": "python",
   "nbconvert_exporter": "python",
   "pygments_lexer": "ipython3",
   "version": "3.7.3"
  }
 },
 "nbformat": 4,
 "nbformat_minor": 2
}
