{
 "cells": [
  {
   "cell_type": "markdown",
   "metadata": {},
   "source": [
    "# mlbox do some hyper param analysis"
   ]
  },
  {
   "cell_type": "code",
   "execution_count": 1,
   "metadata": {},
   "outputs": [],
   "source": [
    "import pandas as pd\n",
    "import numpy as np\n",
    "import os\n",
    "import os.path\n",
    "import sys\n",
    "import tempfile\n",
    "import shutil\n",
    "import warnings\n",
    "\n",
    "import mlflow\n",
    "import tempfile"
   ]
  },
  {
   "cell_type": "code",
   "execution_count": 2,
   "metadata": {},
   "outputs": [
    {
     "name": "stderr",
     "output_type": "stream",
     "text": [
      "Using TensorFlow backend.\n",
      "/opt/conda/lib/python3.7/site-packages/tensorflow/python/util/nest.py:1287: DeprecationWarning: Using or importing the ABCs from 'collections' instead of from 'collections.abc' is deprecated, and in 3.8 it will stop working\n",
      "  _pywrap_tensorflow.RegisterType(\"Sequence\", _collections.Sequence)\n",
      "/opt/conda/lib/python3.7/site-packages/tensorflow/python/training/tracking/object_identity.py:61: DeprecationWarning: Using or importing the ABCs from 'collections' instead of from 'collections.abc' is deprecated, and in 3.8 it will stop working\n",
      "  class ObjectIdentityDictionary(collections.MutableMapping):\n",
      "/opt/conda/lib/python3.7/site-packages/keras/callbacks.py:20: DeprecationWarning: Using or importing the ABCs from 'collections' instead of from 'collections.abc' is deprecated, and in 3.8 it will stop working\n",
      "  from collections import Iterable\n"
     ]
    }
   ],
   "source": [
    "from mlbox.preprocessing import *\n",
    "from mlbox.optimisation import *\n",
    "from mlbox.prediction import *"
   ]
  },
  {
   "cell_type": "code",
   "execution_count": 3,
   "metadata": {},
   "outputs": [],
   "source": [
    "sys.path.append('..')\n",
    "from utils.kaggle import get_global_parameters\n",
    "from utils.mlflow_experiments import retrieve_artifacts, extract_run_data_for_experiment\n",
    "global_parms = get_global_parameters()"
   ]
  },
  {
   "cell_type": "code",
   "execution_count": 4,
   "metadata": {},
   "outputs": [
    {
     "data": {
      "text/plain": [
       "{'PROJ_DIR': '/opt/project'}"
      ]
     },
     "execution_count": 4,
     "metadata": {},
     "output_type": "execute_result"
    }
   ],
   "source": [
    "global_parms"
   ]
  },
  {
   "cell_type": "code",
   "execution_count": 5,
   "metadata": {},
   "outputs": [],
   "source": [
    "TMPDIR= tempfile.mkdtemp()"
   ]
  },
  {
   "cell_type": "code",
   "execution_count": 6,
   "metadata": {},
   "outputs": [],
   "source": [
    "MLBOX_SAVE='mlbox_save'"
   ]
  },
  {
   "cell_type": "code",
   "execution_count": 7,
   "metadata": {},
   "outputs": [],
   "source": [
    "try:\n",
    "    shutil.rmtree(MLBOX_SAVE)\n",
    "except:\n",
    "    pass"
   ]
  },
  {
   "cell_type": "markdown",
   "metadata": {},
   "source": [
    "## Retrieve training data"
   ]
  },
  {
   "cell_type": "code",
   "execution_count": 8,
   "metadata": {},
   "outputs": [],
   "source": [
    "# retrieve run_id for desired feature set to test\n",
    "run_info = extract_run_data_for_experiment('feature_set')\n",
    "RUN_ID = run_info.loc[run_info['mlflow.runName'] == 'feature_set_0'].run_id.values[0]\n",
    "\n",
    "retrieve_artifacts(RUN_ID, '.', TMPDIR)"
   ]
  },
  {
   "cell_type": "code",
   "execution_count": 9,
   "metadata": {},
   "outputs": [
    {
     "data": {
      "text/plain": [
       "['fs_train_df.pkl.zip',\n",
       " 'fs_valid_df.pkl.zip',\n",
       " 'fs_test_df.pkl.zip',\n",
       " 'kag_test_df.pkl.zip']"
      ]
     },
     "execution_count": 9,
     "metadata": {},
     "output_type": "execute_result"
    }
   ],
   "source": [
    "os.listdir(TMPDIR)"
   ]
  },
  {
   "cell_type": "code",
   "execution_count": 10,
   "metadata": {},
   "outputs": [],
   "source": [
    "pd.read_pickle(os.path.join(TMPDIR,'fs_train_df.pkl.zip')) \\\n",
    "    .sample(frac=0.5).drop(['TransactionID', 'TransactionDT', 'addr1'], axis=1) \\\n",
    "    .to_csv(os.path.join(TMPDIR,'fs_train_df.csv'),index=False)"
   ]
  },
  {
   "cell_type": "code",
   "execution_count": 11,
   "metadata": {},
   "outputs": [],
   "source": [
    "pd.read_pickle(os.path.join(TMPDIR,'fs_test_df.pkl.zip')) \\\n",
    "    .drop(['isFraud', 'TransactionID', 'TransactionDT', 'addr1'], axis=1) \\\n",
    "    .to_csv(os.path.join(TMPDIR,'fs_test_df.csv'),index=False)"
   ]
  },
  {
   "cell_type": "code",
   "execution_count": 12,
   "metadata": {},
   "outputs": [],
   "source": [
    "paths = [os.path.join(TMPDIR,'fs_test_df.csv'), os.path.join(TMPDIR,'fs_train_df.csv')]"
   ]
  },
  {
   "cell_type": "code",
   "execution_count": 13,
   "metadata": {},
   "outputs": [
    {
     "name": "stdout",
     "output_type": "stream",
     "text": [
      "\n",
      "reading csv : fs_test_df.csv ...\n",
      "cleaning data ...\n",
      "CPU time: 8.40943169593811 seconds\n",
      "\n",
      "reading csv : fs_train_df.csv ...\n",
      "cleaning data ...\n",
      "CPU time: 18.707637310028076 seconds\n",
      "\n",
      "> Number of common features : 131\n",
      "\n",
      "gathering and crunching for train and test datasets ...\n",
      "reindexing for train and test datasets ...\n",
      "dropping training duplicates ...\n",
      "dropping constant variables on training set ...\n",
      "\n",
      "> Number of categorical features: 18\n",
      "> Number of numerical features: 113\n",
      "> Number of training samples : 136189\n",
      "> Number of test samples : 59054\n",
      "\n",
      "> Top sparse features (% missing values on train set):\n",
      "D7       88.7\n",
      "id_04    81.0\n",
      "D8       78.5\n",
      "D9       78.5\n",
      "id_10    78.5\n",
      "dtype: float64\n",
      "\n",
      "> Task : classification\n",
      "0.0    128891\n",
      "1.0      7298\n",
      "Name: isFraud, dtype: int64\n",
      "\n",
      "encoding target ...\n"
     ]
    }
   ],
   "source": [
    "rd = Reader(sep=',', to_path=MLBOX_SAVE)\n",
    "df = rd.train_test_split(paths, 'isFraud')\n"
   ]
  },
  {
   "cell_type": "code",
   "execution_count": 14,
   "metadata": {},
   "outputs": [
    {
     "name": "stdout",
     "output_type": "stream",
     "text": [
      "\n",
      "computing drifts ...\n",
      "CPU time: 26.486151218414307 seconds\n",
      "\n",
      "> Top 10 drifts\n",
      "\n",
      "('V283', 0.19392904772153763)\n",
      "('V308', 0.1827915865385641)\n",
      "('V128', 0.14458302124146938)\n",
      "('id_29', 0.12712505846720035)\n",
      "('D3', 0.12629373985540981)\n",
      "('id_28', 0.12602481345910665)\n",
      "('D5', 0.11394767346068191)\n",
      "('id_15', 0.11295934910056138)\n",
      "('id_16', 0.11256902240638089)\n",
      "('D8', 0.08649660382151936)\n",
      "\n",
      "> Deleted variables : []\n",
      "> Drift coefficients dumped into directory : mlbox_save\n"
     ]
    }
   ],
   "source": [
    "dft = Drift_thresholder(to_path=MLBOX_SAVE)\n",
    "df = dft.fit_transform(df)"
   ]
  },
  {
   "cell_type": "code",
   "execution_count": 15,
   "metadata": {},
   "outputs": [
    {
     "name": "stderr",
     "output_type": "stream",
     "text": [
      "/opt/conda/lib/python3.7/site-packages/mlbox/optimisation/optimiser.py:74: UserWarning: Optimiser will save all your fitted models into directory 'mlbox_save/joblib'. Please clear it regularly.\n",
      "  +str(self.to_path)+\"/joblib'. Please clear it regularly.\")\n"
     ]
    }
   ],
   "source": [
    "opt = Optimiser(scoring = 'roc_auc', n_folds = 5, to_path=MLBOX_SAVE)\n"
   ]
  },
  {
   "cell_type": "code",
   "execution_count": 16,
   "metadata": {},
   "outputs": [
    {
     "name": "stdout",
     "output_type": "stream",
     "text": [
      "No parameters set. Default configuration is tested\n",
      "\n",
      "##################################################### testing hyper-parameters... #####################################################\n",
      "\n",
      ">>> NA ENCODER :{'numerical_strategy': 'mean', 'categorical_strategy': '<NULL>'}\n",
      "\n",
      ">>> CA ENCODER :{'strategy': 'label_encoding'}\n",
      "\n",
      ">>> ESTIMATOR :{'strategy': 'LightGBM', 'boosting_type': 'gbdt', 'class_weight': None, 'colsample_bytree': 0.8, 'importance_type': 'split', 'learning_rate': 0.05, 'max_depth': -1, 'min_child_samples': 20, 'min_child_weight': 0.001, 'min_split_gain': 0.0, 'n_estimators': 500, 'n_jobs': -1, 'num_leaves': 31, 'objective': None, 'random_state': None, 'reg_alpha': 0.0, 'reg_lambda': 0.0, 'silent': True, 'subsample': 0.9, 'subsample_for_bin': 200000, 'subsample_freq': 0, 'nthread': -1, 'seed': 0}\n",
      "\n"
     ]
    },
    {
     "name": "stderr",
     "output_type": "stream",
     "text": [
      "/opt/conda/lib/python3.7/site-packages/sklearn/utils/deprecation.py:66: DeprecationWarning: Class Imputer is deprecated; Imputer was deprecated in version 0.20 and will be removed in 0.22. Import impute.SimpleImputer from sklearn instead.\n",
      "  warnings.warn(msg, category=DeprecationWarning)\n",
      "/opt/conda/lib/python3.7/site-packages/sklearn/utils/deprecation.py:66: DeprecationWarning: Class Imputer is deprecated; Imputer was deprecated in version 0.20 and will be removed in 0.22. Import impute.SimpleImputer from sklearn instead.\n",
      "  warnings.warn(msg, category=DeprecationWarning)\n",
      "/opt/conda/lib/python3.7/site-packages/sklearn/utils/deprecation.py:66: DeprecationWarning: Class Imputer is deprecated; Imputer was deprecated in version 0.20 and will be removed in 0.22. Import impute.SimpleImputer from sklearn instead.\n",
      "  warnings.warn(msg, category=DeprecationWarning)\n",
      "/opt/conda/lib/python3.7/site-packages/sklearn/utils/deprecation.py:66: DeprecationWarning: Class Imputer is deprecated; Imputer was deprecated in version 0.20 and will be removed in 0.22. Import impute.SimpleImputer from sklearn instead.\n",
      "  warnings.warn(msg, category=DeprecationWarning)\n",
      "/opt/conda/lib/python3.7/site-packages/sklearn/utils/deprecation.py:66: DeprecationWarning: Class Imputer is deprecated; Imputer was deprecated in version 0.20 and will be removed in 0.22. Import impute.SimpleImputer from sklearn instead.\n",
      "  warnings.warn(msg, category=DeprecationWarning)\n"
     ]
    },
    {
     "name": "stdout",
     "output_type": "stream",
     "text": [
      "\n",
      "MEAN SCORE : roc_auc = 0.8752565818585275\n",
      "VARIANCE : 0.005424244677246336 (fold 1 = 0.8840700352362839, fold 2 = 0.8744091011024585, fold 3 = 0.8700086592900179, fold 4 = 0.8782266663355499, fold 5 = 0.8695684473283268)\n",
      "CPU time: 52.727686166763306 seconds\n",
      "\n"
     ]
    },
    {
     "data": {
      "text/plain": [
       "0.8752565818585275"
      ]
     },
     "execution_count": 16,
     "metadata": {},
     "output_type": "execute_result"
    }
   ],
   "source": [
    "\n",
    "opt.evaluate(None, df)\n"
   ]
  },
  {
   "cell_type": "code",
   "execution_count": 17,
   "metadata": {},
   "outputs": [
    {
     "name": "stdout",
     "output_type": "stream",
     "text": [
      "##################################################### testing hyper-parameters... #####################################################\n",
      ">>> NA ENCODER :{'numerical_strategy': 0, 'categorical_strategy': '<NULL>'}\n",
      ">>> CA ENCODER :{'strategy': 'entity_embedding'}    \n",
      ">>> FEATURE SELECTOR :{'strategy': 'l1', 'threshold': 0.2199021839874096}\n",
      ">>> ESTIMATOR :{'strategy': 'LightGBM', 'max_depth': 3, 'n_estimators': 100, 'boosting_type': 'gbdt', 'class_weight': None, 'colsample_bytree': 0.8, 'importance_type': 'split', 'learning_rate': 0.05, 'min_child_samples': 20, 'min_child_weight': 0.001, 'min_split_gain': 0.0, 'n_jobs': -1, 'num_leaves': 31, 'objective': None, 'random_state': None, 'reg_alpha': 0.0, 'reg_lambda': 0.0, 'silent': True, 'subsample': 0.9, 'subsample_for_bin': 200000, 'subsample_freq': 0, 'nthread': -1, 'seed': 0}\n",
      "  0%|          | 0/40 [00:00<?, ?it/s, best loss: ?]WARNING:tensorflow:From /opt/conda/lib/python3.7/site-packages/keras/backend/tensorflow_backend.py:74: The name tf.get_default_graph is deprecated. Please use tf.compat.v1.get_default_graph instead.\n",
      "\n",
      "WARNING:tensorflow:From /opt/conda/lib/python3.7/site-packages/keras/backend/tensorflow_backend.py:517: The name tf.placeholder is deprecated. Please use tf.compat.v1.placeholder instead.\n",
      "\n",
      "WARNING:tensorflow:From /opt/conda/lib/python3.7/site-packages/keras/backend/tensorflow_backend.py:4138: The name tf.random_uniform is deprecated. Please use tf.random.uniform instead.\n",
      "\n",
      "WARNING:tensorflow:From /opt/conda/lib/python3.7/site-packages/keras/backend/tensorflow_backend.py:133: The name tf.placeholder_with_default is deprecated. Please use tf.compat.v1.placeholder_with_default instead.\n",
      "\n",
      "WARNING:tensorflow:From /opt/conda/lib/python3.7/site-packages/keras/backend/tensorflow_backend.py:3445: calling dropout (from tensorflow.python.ops.nn_ops) with keep_prob is deprecated and will be removed in a future version.\n",
      "Instructions for updating:\n",
      "Please use `rate` instead of `keep_prob`. Rate should be set to `rate = 1 - keep_prob`.\n",
      "WARNING:tensorflow:From /opt/conda/lib/python3.7/site-packages/keras/backend/tensorflow_backend.py:4115: The name tf.random_normal is deprecated. Please use tf.random.normal instead.\n",
      "\n",
      "WARNING:tensorflow:From /opt/conda/lib/python3.7/site-packages/keras/optimizers.py:790: The name tf.train.Optimizer is deprecated. Please use tf.compat.v1.train.Optimizer instead.\n",
      "\n",
      "WARNING:tensorflow:From /opt/conda/lib/python3.7/site-packages/tensorflow/python/ops/nn_impl.py:180: add_dispatch_support.<locals>.wrapper (from tensorflow.python.ops.array_ops) is deprecated and will be removed in a future version.\n",
      "Instructions for updating:\n",
      "Use tf.where in 2.0, which has the same broadcast rule as np.where\n",
      "MEAN SCORE : roc_auc = 0.8374515219606515           \n",
      "VARIANCE : 0.004563078633083043 (fold 1 = 0.844047918901814, fold 2 = 0.8329650721598645, fold 3 = 0.8347755519467062, fold 4 = 0.8418055739386189, fold 5 = 0.8336634928562544)\n",
      "CPU time: 798.3829443454742 seconds                 \n",
      "##################################################### testing hyper-parameters... #####################################################\n",
      ">>> NA ENCODER :{'numerical_strategy': 0, 'categorical_strategy': '<NULL>'}      \n",
      ">>> CA ENCODER :{'strategy': 'random_projection'}                                \n",
      ">>> FEATURE SELECTOR :{'strategy': 'l1', 'threshold': 0.29915957728051795}       \n",
      ">>> ESTIMATOR :{'strategy': 'LightGBM', 'max_depth': 11, 'n_estimators': 400, 'boosting_type': 'gbdt', 'class_weight': None, 'colsample_bytree': 0.8, 'importance_type': 'split', 'learning_rate': 0.05, 'min_child_samples': 20, 'min_child_weight': 0.001, 'min_split_gain': 0.0, 'n_jobs': -1, 'num_leaves': 31, 'objective': None, 'random_state': None, 'reg_alpha': 0.0, 'reg_lambda': 0.0, 'silent': True, 'subsample': 0.9, 'subsample_for_bin': 200000, 'subsample_freq': 0, 'nthread': -1, 'seed': 0}\n",
      "MEAN SCORE : roc_auc = 0.8733452845531563                                        \n",
      "VARIANCE : 0.004498296063467522 (fold 1 = 0.8812015540949494, fold 2 = 0.8725337231386645, fold 3 = 0.8697335494745971, fold 4 = 0.8747797067926059, fold 5 = 0.8684778892649639)\n",
      "CPU time: 227.23676228523254 seconds                                             \n",
      "##################################################### testing hyper-parameters... #####################################################\n",
      ">>> NA ENCODER :{'numerical_strategy': 0, 'categorical_strategy': '<NULL>'}      \n",
      ">>> CA ENCODER :{'strategy': 'random_projection'}                                \n",
      ">>> FEATURE SELECTOR :{'strategy': 'l1', 'threshold': 0.24669475172019306}       \n",
      ">>> ESTIMATOR :{'strategy': 'LightGBM', 'max_depth': 9, 'n_estimators': 400, 'boosting_type': 'gbdt', 'class_weight': None, 'colsample_bytree': 0.8, 'importance_type': 'split', 'learning_rate': 0.05, 'min_child_samples': 20, 'min_child_weight': 0.001, 'min_split_gain': 0.0, 'n_jobs': -1, 'num_leaves': 31, 'objective': None, 'random_state': None, 'reg_alpha': 0.0, 'reg_lambda': 0.0, 'silent': True, 'subsample': 0.9, 'subsample_for_bin': 200000, 'subsample_freq': 0, 'nthread': -1, 'seed': 0}\n",
      "MEAN SCORE : roc_auc = 0.8717864338109216                                        \n",
      "VARIANCE : 0.004773288507660231 (fold 1 = 0.8799819408066564, fold 2 = 0.8711628770205453, fold 3 = 0.8682685246100263, fold 4 = 0.8733491868753772, fold 5 = 0.8661696397420033)\n",
      "CPU time: 227.16041350364685 seconds                                             \n",
      "##################################################### testing hyper-parameters... #####################################################\n",
      ">>> NA ENCODER :{'numerical_strategy': 0, 'categorical_strategy': '<NULL>'}      \n",
      ">>> CA ENCODER :{'strategy': 'entity_embedding'}                                 \n",
      ">>> FEATURE SELECTOR :{'strategy': 'l1', 'threshold': 0.24317439538632815}       \n",
      ">>> ESTIMATOR :{'strategy': 'LightGBM', 'max_depth': 5, 'n_estimators': 150, 'boosting_type': 'gbdt', 'class_weight': None, 'colsample_bytree': 0.8, 'importance_type': 'split', 'learning_rate': 0.05, 'min_child_samples': 20, 'min_child_weight': 0.001, 'min_split_gain': 0.0, 'n_jobs': -1, 'num_leaves': 31, 'objective': None, 'random_state': None, 'reg_alpha': 0.0, 'reg_lambda': 0.0, 'silent': True, 'subsample': 0.9, 'subsample_for_bin': 200000, 'subsample_freq': 0, 'nthread': -1, 'seed': 0}\n",
      "MEAN SCORE : roc_auc = 0.8560027690082359                                        \n",
      "VARIANCE : 0.004558223080267207 (fold 1 = 0.8629821608009492, fold 2 = 0.853154423385344, fold 3 = 0.8534682196882337, fold 4 = 0.8596409416810409, fold 5 = 0.8507680994856115)\n",
      "CPU time: 277.5890393257141 seconds                                              \n",
      "##################################################### testing hyper-parameters... #####################################################\n",
      ">>> NA ENCODER :{'numerical_strategy': 0, 'categorical_strategy': '<NULL>'}      \n",
      ">>> CA ENCODER :{'strategy': 'label_encoding'}                                   \n",
      ">>> FEATURE SELECTOR :{'strategy': 'l1', 'threshold': 0.20473755197519608}       \n",
      ">>> ESTIMATOR :{'strategy': 'LightGBM', 'max_depth': 9, 'n_estimators': 50, 'boosting_type': 'gbdt', 'class_weight': None, 'colsample_bytree': 0.8, 'importance_type': 'split', 'learning_rate': 0.05, 'min_child_samples': 20, 'min_child_weight': 0.001, 'min_split_gain': 0.0, 'n_jobs': -1, 'num_leaves': 31, 'objective': None, 'random_state': None, 'reg_alpha': 0.0, 'reg_lambda': 0.0, 'silent': True, 'subsample': 0.9, 'subsample_for_bin': 200000, 'subsample_freq': 0, 'nthread': -1, 'seed': 0}\n",
      "MEAN SCORE : roc_auc = 0.8521169986217867                                        \n",
      "VARIANCE : 0.004159701517469318 (fold 1 = 0.858972685104739, fold 2 = 0.8501190752016428, fold 3 = 0.849513615730521, fold 4 = 0.8546095275147088, fold 5 = 0.8473700895573215)\n",
      "CPU time: 204.449622631073 seconds                                               \n",
      "##################################################### testing hyper-parameters... #####################################################\n",
      ">>> NA ENCODER :{'numerical_strategy': 0, 'categorical_strategy': '<NULL>'}      \n",
      ">>> CA ENCODER :{'strategy': 'random_projection'}                                \n"
     ]
    },
    {
     "name": "stdout",
     "output_type": "stream",
     "text": [
      ">>> FEATURE SELECTOR :{'strategy': 'l1', 'threshold': 0.16392649211815202}       \n",
      ">>> ESTIMATOR :{'strategy': 'LightGBM', 'max_depth': 11, 'n_estimators': 200, 'boosting_type': 'gbdt', 'class_weight': None, 'colsample_bytree': 0.8, 'importance_type': 'split', 'learning_rate': 0.05, 'min_child_samples': 20, 'min_child_weight': 0.001, 'min_split_gain': 0.0, 'n_jobs': -1, 'num_leaves': 31, 'objective': None, 'random_state': None, 'reg_alpha': 0.0, 'reg_lambda': 0.0, 'silent': True, 'subsample': 0.9, 'subsample_for_bin': 200000, 'subsample_freq': 0, 'nthread': -1, 'seed': 0}\n",
      "MEAN SCORE : roc_auc = 0.8680213600725143                                        \n",
      "VARIANCE : 0.004005594222238363 (fold 1 = 0.8748128321501998, fold 2 = 0.8668949018861789, fold 3 = 0.8650236157624054, fold 4 = 0.8698726342193913, fold 5 = 0.863502816344396)\n",
      "CPU time: 217.69819116592407 seconds                                             \n",
      "##################################################### testing hyper-parameters... #####################################################\n",
      ">>> NA ENCODER :{'numerical_strategy': 0, 'categorical_strategy': '<NULL>'}      \n",
      ">>> CA ENCODER :{'strategy': 'entity_embedding'}                                 \n",
      ">>> FEATURE SELECTOR :{'strategy': 'l1', 'threshold': 0.011971723469251312}      \n",
      ">>> ESTIMATOR :{'strategy': 'LightGBM', 'max_depth': 5, 'n_estimators': 200, 'boosting_type': 'gbdt', 'class_weight': None, 'colsample_bytree': 0.8, 'importance_type': 'split', 'learning_rate': 0.05, 'min_child_samples': 20, 'min_child_weight': 0.001, 'min_split_gain': 0.0, 'n_jobs': -1, 'num_leaves': 31, 'objective': None, 'random_state': None, 'reg_alpha': 0.0, 'reg_lambda': 0.0, 'silent': True, 'subsample': 0.9, 'subsample_for_bin': 200000, 'subsample_freq': 0, 'nthread': -1, 'seed': 0}\n",
      "MEAN SCORE : roc_auc = 0.8593297245134046                                        \n",
      "VARIANCE : 0.00429872549634221 (fold 1 = 0.8657401665473703, fold 2 = 0.8576311222163531, fold 3 = 0.8568547354280012, fold 4 = 0.8626716167906165, fold 5 = 0.8537509815846818)\n",
      "CPU time: 280.02208852767944 seconds                                             \n",
      "##################################################### testing hyper-parameters... #####################################################\n",
      ">>> NA ENCODER :{'numerical_strategy': 0, 'categorical_strategy': '<NULL>'}      \n",
      ">>> CA ENCODER :{'strategy': 'label_encoding'}                                   \n",
      ">>> FEATURE SELECTOR :{'strategy': 'l1', 'threshold': 0.23616521614184516}       \n",
      ">>> ESTIMATOR :{'strategy': 'LightGBM', 'max_depth': 7, 'n_estimators': 400, 'boosting_type': 'gbdt', 'class_weight': None, 'colsample_bytree': 0.8, 'importance_type': 'split', 'learning_rate': 0.05, 'min_child_samples': 20, 'min_child_weight': 0.001, 'min_split_gain': 0.0, 'n_jobs': -1, 'num_leaves': 31, 'objective': None, 'random_state': None, 'reg_alpha': 0.0, 'reg_lambda': 0.0, 'silent': True, 'subsample': 0.9, 'subsample_for_bin': 200000, 'subsample_freq': 0, 'nthread': -1, 'seed': 0}\n",
      "MEAN SCORE : roc_auc = 0.8701867528499937                                        \n",
      "VARIANCE : 0.004214246724992701 (fold 1 = 0.877353938934048, fold 2 = 0.8697392621083923, fold 3 = 0.8671474135851214, fold 4 = 0.8716039110981406, fold 5 = 0.8650892385242667)\n",
      "CPU time: 224.88963150978088 seconds                                             \n",
      "##################################################### testing hyper-parameters... #####################################################\n",
      ">>> NA ENCODER :{'numerical_strategy': 0, 'categorical_strategy': '<NULL>'}      \n",
      ">>> CA ENCODER :{'strategy': 'label_encoding'}                                   \n",
      ">>> FEATURE SELECTOR :{'strategy': 'l1', 'threshold': 0.2949996645774442}        \n",
      ">>> ESTIMATOR :{'strategy': 'LightGBM', 'max_depth': 13, 'n_estimators': 200, 'boosting_type': 'gbdt', 'class_weight': None, 'colsample_bytree': 0.8, 'importance_type': 'split', 'learning_rate': 0.05, 'min_child_samples': 20, 'min_child_weight': 0.001, 'min_split_gain': 0.0, 'n_jobs': -1, 'num_leaves': 31, 'objective': None, 'random_state': None, 'reg_alpha': 0.0, 'reg_lambda': 0.0, 'silent': True, 'subsample': 0.9, 'subsample_for_bin': 200000, 'subsample_freq': 0, 'nthread': -1, 'seed': 0}\n",
      "MEAN SCORE : roc_auc = 0.8681790910337256                                        \n",
      "VARIANCE : 0.004313180150711773 (fold 1 = 0.8753343753835952, fold 2 = 0.8665094319569517, fold 3 = 0.8650951166812095, fold 4 = 0.8706277106081765, fold 5 = 0.8633288205386946)\n",
      "CPU time: 214.81746554374695 seconds                                             \n",
      "##################################################### testing hyper-parameters... #####################################################\n",
      ">>> NA ENCODER :{'numerical_strategy': 0, 'categorical_strategy': '<NULL>'}      \n",
      ">>> CA ENCODER :{'strategy': 'label_encoding'}                                   \n",
      ">>> FEATURE SELECTOR :{'strategy': 'l1', 'threshold': 0.1995424154997745}        \n",
      ">>> ESTIMATOR :{'strategy': 'LightGBM', 'max_depth': 7, 'n_estimators': 200, 'boosting_type': 'gbdt', 'class_weight': None, 'colsample_bytree': 0.8, 'importance_type': 'split', 'learning_rate': 0.05, 'min_child_samples': 20, 'min_child_weight': 0.001, 'min_split_gain': 0.0, 'n_jobs': -1, 'num_leaves': 31, 'objective': None, 'random_state': None, 'reg_alpha': 0.0, 'reg_lambda': 0.0, 'silent': True, 'subsample': 0.9, 'subsample_for_bin': 200000, 'subsample_freq': 0, 'nthread': -1, 'seed': 0}\n",
      "MEAN SCORE : roc_auc = 0.8643689135198434                                        \n",
      "VARIANCE : 0.004035690460125894 (fold 1 = 0.8714346444249248, fold 2 = 0.863779337695837, fold 3 = 0.8616395312132996, fold 4 = 0.8653845714111597, fold 5 = 0.859606482853995)\n",
      "CPU time: 212.5355122089386 seconds                                              \n",
      "##################################################### testing hyper-parameters... #####################################################\n",
      ">>> NA ENCODER :{'numerical_strategy': 0, 'categorical_strategy': '<NULL>'}       \n",
      ">>> CA ENCODER :{'strategy': 'label_encoding'}                                    \n",
      ">>> FEATURE SELECTOR :{'strategy': 'l1', 'threshold': 0.09201211818158578}        \n",
      ">>> ESTIMATOR :{'strategy': 'LightGBM', 'max_depth': 3, 'n_estimators': 200, 'boosting_type': 'gbdt', 'class_weight': None, 'colsample_bytree': 0.8, 'importance_type': 'split', 'learning_rate': 0.05, 'min_child_samples': 20, 'min_child_weight': 0.001, 'min_split_gain': 0.0, 'n_jobs': -1, 'num_leaves': 31, 'objective': None, 'random_state': None, 'reg_alpha': 0.0, 'reg_lambda': 0.0, 'silent': True, 'subsample': 0.9, 'subsample_for_bin': 200000, 'subsample_freq': 0, 'nthread': -1, 'seed': 0}\n",
      "MEAN SCORE : roc_auc = 0.8446496729747803                                         \n",
      "VARIANCE : 0.004976936901669829 (fold 1 = 0.8514548849626461, fold 2 = 0.8416575884501704, fold 3 = 0.8407187635841118, fold 4 = 0.849862544908812, fold 5 = 0.8395545829681611)\n",
      "CPU time: 209.1384687423706 seconds                                               \n",
      "##################################################### testing hyper-parameters... #####################################################\n",
      ">>> NA ENCODER :{'numerical_strategy': 0, 'categorical_strategy': '<NULL>'}       \n",
      ">>> CA ENCODER :{'strategy': 'entity_embedding'}                                  \n",
      ">>> FEATURE SELECTOR :{'strategy': 'l1', 'threshold': 0.24977645943598634}        \n",
      ">>> ESTIMATOR :{'strategy': 'LightGBM', 'max_depth': 7, 'n_estimators': 1200, 'boosting_type': 'gbdt', 'class_weight': None, 'colsample_bytree': 0.8, 'importance_type': 'split', 'learning_rate': 0.05, 'min_child_samples': 20, 'min_child_weight': 0.001, 'min_split_gain': 0.0, 'n_jobs': -1, 'num_leaves': 31, 'objective': None, 'random_state': None, 'reg_alpha': 0.0, 'reg_lambda': 0.0, 'silent': True, 'subsample': 0.9, 'subsample_for_bin': 200000, 'subsample_freq': 0, 'nthread': -1, 'seed': 0}\n",
      "MEAN SCORE : roc_auc = 0.8748532142033936                                         \n",
      "VARIANCE : 0.00576473215876756 (fold 1 = 0.8839069790798182, fold 2 = 0.8760264407262432, fold 3 = 0.866759485894843, fold 4 = 0.8765279073159653, fold 5 = 0.8710452580000979)\n"
     ]
    },
    {
     "name": "stdout",
     "output_type": "stream",
     "text": [
      "CPU time: 338.9890639781952 seconds                                               \n",
      "##################################################### testing hyper-parameters... #####################################################\n",
      ">>> NA ENCODER :{'numerical_strategy': 0, 'categorical_strategy': '<NULL>'}       \n",
      ">>> CA ENCODER :{'strategy': 'label_encoding'}                                    \n",
      ">>> FEATURE SELECTOR :{'strategy': 'l1', 'threshold': 0.2595065219111404}         \n",
      ">>> ESTIMATOR :{'strategy': 'LightGBM', 'max_depth': 5, 'n_estimators': 200, 'boosting_type': 'gbdt', 'class_weight': None, 'colsample_bytree': 0.8, 'importance_type': 'split', 'learning_rate': 0.05, 'min_child_samples': 20, 'min_child_weight': 0.001, 'min_split_gain': 0.0, 'n_jobs': -1, 'num_leaves': 31, 'objective': None, 'random_state': None, 'reg_alpha': 0.0, 'reg_lambda': 0.0, 'silent': True, 'subsample': 0.9, 'subsample_for_bin': 200000, 'subsample_freq': 0, 'nthread': -1, 'seed': 0}\n",
      "MEAN SCORE : roc_auc = 0.8585073729152756                                         \n",
      "VARIANCE : 0.004518269008706085 (fold 1 = 0.8654566847710279, fold 2 = 0.856745504555759, fold 3 = 0.8549030074492745, fold 4 = 0.8619838627398565, fold 5 = 0.8534478050604595)\n",
      "CPU time: 211.82168674468994 seconds                                                \n",
      "##################################################### testing hyper-parameters... #####################################################\n",
      ">>> NA ENCODER :{'numerical_strategy': 0, 'categorical_strategy': '<NULL>'}         \n",
      ">>> CA ENCODER :{'strategy': 'label_encoding'}                                      \n",
      ">>> FEATURE SELECTOR :{'strategy': 'l1', 'threshold': 0.20304418016285936}          \n",
      ">>> ESTIMATOR :{'strategy': 'LightGBM', 'max_depth': 13, 'n_estimators': 200, 'boosting_type': 'gbdt', 'class_weight': None, 'colsample_bytree': 0.8, 'importance_type': 'split', 'learning_rate': 0.05, 'min_child_samples': 20, 'min_child_weight': 0.001, 'min_split_gain': 0.0, 'n_jobs': -1, 'num_leaves': 31, 'objective': None, 'random_state': None, 'reg_alpha': 0.0, 'reg_lambda': 0.0, 'silent': True, 'subsample': 0.9, 'subsample_for_bin': 200000, 'subsample_freq': 0, 'nthread': -1, 'seed': 0}\n",
      "MEAN SCORE : roc_auc = 0.8681790910337256                                           \n",
      "VARIANCE : 0.004313180150711773 (fold 1 = 0.8753343753835952, fold 2 = 0.8665094319569517, fold 3 = 0.8650951166812095, fold 4 = 0.8706277106081765, fold 5 = 0.8633288205386946)\n",
      "CPU time: 216.47281908988953 seconds                                                \n",
      "##################################################### testing hyper-parameters... #####################################################\n",
      ">>> NA ENCODER :{'numerical_strategy': 0, 'categorical_strategy': '<NULL>'}         \n",
      ">>> CA ENCODER :{'strategy': 'entity_embedding'}                                    \n",
      ">>> FEATURE SELECTOR :{'strategy': 'l1', 'threshold': 0.06302366591671722}          \n",
      ">>> ESTIMATOR :{'strategy': 'LightGBM', 'max_depth': 5, 'n_estimators': 50, 'boosting_type': 'gbdt', 'class_weight': None, 'colsample_bytree': 0.8, 'importance_type': 'split', 'learning_rate': 0.05, 'min_child_samples': 20, 'min_child_weight': 0.001, 'min_split_gain': 0.0, 'n_jobs': -1, 'num_leaves': 31, 'objective': None, 'random_state': None, 'reg_alpha': 0.0, 'reg_lambda': 0.0, 'silent': True, 'subsample': 0.9, 'subsample_for_bin': 200000, 'subsample_freq': 0, 'nthread': -1, 'seed': 0}\n",
      "MEAN SCORE : roc_auc = 0.8449013440092672                                           \n",
      "VARIANCE : 0.004970362883139984 (fold 1 = 0.8513908395226655, fold 2 = 0.8393698513227272, fold 3 = 0.8436418518711399, fold 4 = 0.8500109093030378, fold 5 = 0.8400932680267658)\n",
      "CPU time: 271.3629343509674 seconds                                                 \n",
      "##################################################### testing hyper-parameters... #####################################################\n",
      ">>> NA ENCODER :{'numerical_strategy': 0, 'categorical_strategy': '<NULL>'}         \n",
      ">>> CA ENCODER :{'strategy': 'entity_embedding'}                                    \n",
      ">>> FEATURE SELECTOR :{'strategy': 'l1', 'threshold': 0.29216815391161344}          \n",
      ">>> ESTIMATOR :{'strategy': 'LightGBM', 'max_depth': 13, 'n_estimators': 100, 'boosting_type': 'gbdt', 'class_weight': None, 'colsample_bytree': 0.8, 'importance_type': 'split', 'learning_rate': 0.05, 'min_child_samples': 20, 'min_child_weight': 0.001, 'min_split_gain': 0.0, 'n_jobs': -1, 'num_leaves': 31, 'objective': None, 'random_state': None, 'reg_alpha': 0.0, 'reg_lambda': 0.0, 'silent': True, 'subsample': 0.9, 'subsample_for_bin': 200000, 'subsample_freq': 0, 'nthread': -1, 'seed': 0}\n",
      "MEAN SCORE : roc_auc = 0.8623437380818928                                           \n",
      "VARIANCE : 0.004380264453496209 (fold 1 = 0.8697603231259169, fold 2 = 0.8608599028373987, fold 3 = 0.8595306128088409, fold 4 = 0.8643857573159466, fold 5 = 0.8571820943213608)\n",
      "CPU time: 295.1781892776489 seconds                                                 \n",
      "##################################################### testing hyper-parameters... #####################################################\n",
      ">>> NA ENCODER :{'numerical_strategy': 0, 'categorical_strategy': '<NULL>'}         \n",
      ">>> CA ENCODER :{'strategy': 'entity_embedding'}                                    \n",
      ">>> FEATURE SELECTOR :{'strategy': 'l1', 'threshold': 0.21547834242654273}          \n",
      ">>> ESTIMATOR :{'strategy': 'LightGBM', 'max_depth': 9, 'n_estimators': 150, 'boosting_type': 'gbdt', 'class_weight': None, 'colsample_bytree': 0.8, 'importance_type': 'split', 'learning_rate': 0.05, 'min_child_samples': 20, 'min_child_weight': 0.001, 'min_split_gain': 0.0, 'n_jobs': -1, 'num_leaves': 31, 'objective': None, 'random_state': None, 'reg_alpha': 0.0, 'reg_lambda': 0.0, 'silent': True, 'subsample': 0.9, 'subsample_for_bin': 200000, 'subsample_freq': 0, 'nthread': -1, 'seed': 0}\n",
      "MEAN SCORE : roc_auc = 0.8642391333680773                                           \n",
      "VARIANCE : 0.004247623072592091 (fold 1 = 0.8712269783146205, fold 2 = 0.863982614462582, fold 3 = 0.8608303167084177, fold 4 = 0.866054670630779, fold 5 = 0.8591010867239871)\n",
      "CPU time: 299.3585250377655 seconds                                                 \n",
      "##################################################### testing hyper-parameters... #####################################################\n",
      ">>> NA ENCODER :{'numerical_strategy': 0, 'categorical_strategy': '<NULL>'}         \n",
      ">>> CA ENCODER :{'strategy': 'random_projection'}                                   \n",
      ">>> FEATURE SELECTOR :{'strategy': 'l1', 'threshold': 0.12284394571258975}          \n",
      ">>> ESTIMATOR :{'strategy': 'LightGBM', 'max_depth': 13, 'n_estimators': 400, 'boosting_type': 'gbdt', 'class_weight': None, 'colsample_bytree': 0.8, 'importance_type': 'split', 'learning_rate': 0.05, 'min_child_samples': 20, 'min_child_weight': 0.001, 'min_split_gain': 0.0, 'n_jobs': -1, 'num_leaves': 31, 'objective': None, 'random_state': None, 'reg_alpha': 0.0, 'reg_lambda': 0.0, 'silent': True, 'subsample': 0.9, 'subsample_for_bin': 200000, 'subsample_freq': 0, 'nthread': -1, 'seed': 0}\n",
      "MEAN SCORE : roc_auc = 0.8730426489778262                                           \n",
      "VARIANCE : 0.0052297560847102235 (fold 1 = 0.8817378831766538, fold 2 = 0.8728199260918039, fold 3 = 0.8685615428681355, fold 4 = 0.8751119845407492, fold 5 = 0.8669819082117883)\n",
      "CPU time: 230.9661455154419 seconds                                                 \n",
      "##################################################### testing hyper-parameters... #####################################################\n",
      ">>> NA ENCODER :{'numerical_strategy': 0, 'categorical_strategy': '<NULL>'}         \n",
      ">>> CA ENCODER :{'strategy': 'entity_embedding'}                                    \n",
      ">>> FEATURE SELECTOR :{'strategy': 'l1', 'threshold': 0.09738482992185701}          \n",
      ">>> ESTIMATOR :{'strategy': 'LightGBM', 'max_depth': 9, 'n_estimators': 150, 'boosting_type': 'gbdt', 'class_weight': None, 'colsample_bytree': 0.8, 'importance_type': 'split', 'learning_rate': 0.05, 'min_child_samples': 20, 'min_child_weight': 0.001, 'min_split_gain': 0.0, 'n_jobs': -1, 'num_leaves': 31, 'objective': None, 'random_state': None, 'reg_alpha': 0.0, 'reg_lambda': 0.0, 'silent': True, 'subsample': 0.9, 'subsample_for_bin': 200000, 'subsample_freq': 0, 'nthread': -1, 'seed': 0}\n"
     ]
    },
    {
     "name": "stdout",
     "output_type": "stream",
     "text": [
      "MEAN SCORE : roc_auc = 0.8642391333680773                                           \n",
      "VARIANCE : 0.004247623072592091 (fold 1 = 0.8712269783146205, fold 2 = 0.863982614462582, fold 3 = 0.8608303167084177, fold 4 = 0.866054670630779, fold 5 = 0.8591010867239871)\n",
      "CPU time: 284.0964801311493 seconds                                                 \n",
      "##################################################### testing hyper-parameters... #####################################################\n",
      ">>> NA ENCODER :{'numerical_strategy': 0, 'categorical_strategy': '<NULL>'}         \n",
      ">>> CA ENCODER :{'strategy': 'random_projection'}                                   \n",
      ">>> FEATURE SELECTOR :{'strategy': 'l1', 'threshold': 0.06623804333940053}          \n",
      ">>> ESTIMATOR :{'strategy': 'LightGBM', 'max_depth': 9, 'n_estimators': 800, 'boosting_type': 'gbdt', 'class_weight': None, 'colsample_bytree': 0.8, 'importance_type': 'split', 'learning_rate': 0.05, 'min_child_samples': 20, 'min_child_weight': 0.001, 'min_split_gain': 0.0, 'n_jobs': -1, 'num_leaves': 31, 'objective': None, 'random_state': None, 'reg_alpha': 0.0, 'reg_lambda': 0.0, 'silent': True, 'subsample': 0.9, 'subsample_for_bin': 200000, 'subsample_freq': 0, 'nthread': -1, 'seed': 0}\n",
      "MEAN SCORE : roc_auc = 0.8760210979133826                                           \n",
      "VARIANCE : 0.0051918020339190175 (fold 1 = 0.884506078272269, fold 2 = 0.876380039472971, fold 3 = 0.8698217631685509, fold 4 = 0.8779176270247818, fold 5 = 0.8714799816283402)\n",
      "CPU time: 253.54844880104065 seconds                                                \n",
      "##################################################### testing hyper-parameters... #####################################################\n",
      ">>> NA ENCODER :{'numerical_strategy': 0, 'categorical_strategy': '<NULL>'}         \n",
      ">>> CA ENCODER :{'strategy': 'random_projection'}                                   \n",
      ">>> FEATURE SELECTOR :{'strategy': 'l1', 'threshold': 0.028287029598593166}         \n",
      ">>> ESTIMATOR :{'strategy': 'LightGBM', 'max_depth': 7, 'n_estimators': 1200, 'boosting_type': 'gbdt', 'class_weight': None, 'colsample_bytree': 0.8, 'importance_type': 'split', 'learning_rate': 0.05, 'min_child_samples': 20, 'min_child_weight': 0.001, 'min_split_gain': 0.0, 'n_jobs': -1, 'num_leaves': 31, 'objective': None, 'random_state': None, 'reg_alpha': 0.0, 'reg_lambda': 0.0, 'silent': True, 'subsample': 0.9, 'subsample_for_bin': 200000, 'subsample_freq': 0, 'nthread': -1, 'seed': 0}\n",
      "MEAN SCORE : roc_auc = 0.8761870467763874                                           \n",
      "VARIANCE : 0.006215945598897297 (fold 1 = 0.8866126299042387, fold 2 = 0.8765039106299627, fold 3 = 0.8695758276410701, fold 4 = 0.8781311069031401, fold 5 = 0.8701117588035258)\n",
      "CPU time: 272.5330264568329 seconds                                                 \n",
      "##################################################### testing hyper-parameters... #####################################################\n",
      ">>> NA ENCODER :{'numerical_strategy': 0, 'categorical_strategy': '<NULL>'}         \n",
      ">>> CA ENCODER :{'strategy': 'random_projection'}                                   \n",
      ">>> FEATURE SELECTOR :{'strategy': 'l1', 'threshold': 0.01052271767126614}          \n",
      ">>> ESTIMATOR :{'strategy': 'LightGBM', 'max_depth': 7, 'n_estimators': 800, 'boosting_type': 'gbdt', 'class_weight': None, 'colsample_bytree': 0.8, 'importance_type': 'split', 'learning_rate': 0.05, 'min_child_samples': 20, 'min_child_weight': 0.001, 'min_split_gain': 0.0, 'n_jobs': -1, 'num_leaves': 31, 'objective': None, 'random_state': None, 'reg_alpha': 0.0, 'reg_lambda': 0.0, 'silent': True, 'subsample': 0.9, 'subsample_for_bin': 200000, 'subsample_freq': 0, 'nthread': -1, 'seed': 0}\n",
      "MEAN SCORE : roc_auc = 0.8753873690874368                                           \n",
      "VARIANCE : 0.005804845077517623 (fold 1 = 0.8854725519922503, fold 2 = 0.8756366132530978, fold 3 = 0.8701851796742894, fold 4 = 0.8764596144939996, fold 5 = 0.8691828860235477)\n",
      "CPU time: 254.61232924461365 seconds                                                \n",
      "##################################################### testing hyper-parameters... #####################################################\n",
      ">>> NA ENCODER :{'numerical_strategy': 0, 'categorical_strategy': '<NULL>'}         \n",
      ">>> CA ENCODER :{'strategy': 'random_projection'}                                   \n",
      ">>> FEATURE SELECTOR :{'strategy': 'l1', 'threshold': 0.04811157573304285}          \n",
      ">>> ESTIMATOR :{'strategy': 'LightGBM', 'max_depth': 7, 'n_estimators': 1200, 'boosting_type': 'gbdt', 'class_weight': None, 'colsample_bytree': 0.8, 'importance_type': 'split', 'learning_rate': 0.05, 'min_child_samples': 20, 'min_child_weight': 0.001, 'min_split_gain': 0.0, 'n_jobs': -1, 'num_leaves': 31, 'objective': None, 'random_state': None, 'reg_alpha': 0.0, 'reg_lambda': 0.0, 'silent': True, 'subsample': 0.9, 'subsample_for_bin': 200000, 'subsample_freq': 0, 'nthread': -1, 'seed': 0}\n",
      "MEAN SCORE : roc_auc = 0.8761870467763874                                           \n",
      "VARIANCE : 0.006215945598897297 (fold 1 = 0.8866126299042387, fold 2 = 0.8765039106299627, fold 3 = 0.8695758276410701, fold 4 = 0.8781311069031401, fold 5 = 0.8701117588035258)\n",
      "CPU time: 283.8162353038788 seconds                                                 \n",
      "##################################################### testing hyper-parameters... #####################################################\n",
      ">>> NA ENCODER :{'numerical_strategy': 0, 'categorical_strategy': '<NULL>'}         \n",
      ">>> CA ENCODER :{'strategy': 'random_projection'}                                   \n",
      ">>> FEATURE SELECTOR :{'strategy': 'l1', 'threshold': 0.038844838487977776}         \n",
      ">>> ESTIMATOR :{'strategy': 'LightGBM', 'max_depth': 7, 'n_estimators': 1200, 'boosting_type': 'gbdt', 'class_weight': None, 'colsample_bytree': 0.8, 'importance_type': 'split', 'learning_rate': 0.05, 'min_child_samples': 20, 'min_child_weight': 0.001, 'min_split_gain': 0.0, 'n_jobs': -1, 'num_leaves': 31, 'objective': None, 'random_state': None, 'reg_alpha': 0.0, 'reg_lambda': 0.0, 'silent': True, 'subsample': 0.9, 'subsample_for_bin': 200000, 'subsample_freq': 0, 'nthread': -1, 'seed': 0}\n",
      "MEAN SCORE : roc_auc = 0.8761870467763874                                           \n",
      "VARIANCE : 0.006215945598897297 (fold 1 = 0.8866126299042387, fold 2 = 0.8765039106299627, fold 3 = 0.8695758276410701, fold 4 = 0.8781311069031401, fold 5 = 0.8701117588035258)\n",
      "CPU time: 283.70643520355225 seconds                                                \n",
      "##################################################### testing hyper-parameters... #####################################################\n",
      ">>> NA ENCODER :{'numerical_strategy': 0, 'categorical_strategy': '<NULL>'}         \n",
      ">>> CA ENCODER :{'strategy': 'random_projection'}                                   \n",
      ">>> FEATURE SELECTOR :{'strategy': 'l1', 'threshold': 0.035792286684958124}         \n",
      ">>> ESTIMATOR :{'strategy': 'LightGBM', 'max_depth': 7, 'n_estimators': 1200, 'boosting_type': 'gbdt', 'class_weight': None, 'colsample_bytree': 0.8, 'importance_type': 'split', 'learning_rate': 0.05, 'min_child_samples': 20, 'min_child_weight': 0.001, 'min_split_gain': 0.0, 'n_jobs': -1, 'num_leaves': 31, 'objective': None, 'random_state': None, 'reg_alpha': 0.0, 'reg_lambda': 0.0, 'silent': True, 'subsample': 0.9, 'subsample_for_bin': 200000, 'subsample_freq': 0, 'nthread': -1, 'seed': 0}\n",
      "MEAN SCORE : roc_auc = 0.8761870467763874                                           \n",
      "VARIANCE : 0.006215945598897297 (fold 1 = 0.8866126299042387, fold 2 = 0.8765039106299627, fold 3 = 0.8695758276410701, fold 4 = 0.8781311069031401, fold 5 = 0.8701117588035258)\n",
      "CPU time: 283.3756833076477 seconds                                                 \n",
      "##################################################### testing hyper-parameters... #####################################################\n",
      ">>> NA ENCODER :{'numerical_strategy': 0, 'categorical_strategy': '<NULL>'}         \n",
      ">>> CA ENCODER :{'strategy': 'random_projection'}                                   \n",
      ">>> FEATURE SELECTOR :{'strategy': 'l1', 'threshold': 0.14613808250246602}          \n"
     ]
    },
    {
     "name": "stdout",
     "output_type": "stream",
     "text": [
      ">>> ESTIMATOR :{'strategy': 'LightGBM', 'max_depth': 7, 'n_estimators': 1200, 'boosting_type': 'gbdt', 'class_weight': None, 'colsample_bytree': 0.8, 'importance_type': 'split', 'learning_rate': 0.05, 'min_child_samples': 20, 'min_child_weight': 0.001, 'min_split_gain': 0.0, 'n_jobs': -1, 'num_leaves': 31, 'objective': None, 'random_state': None, 'reg_alpha': 0.0, 'reg_lambda': 0.0, 'silent': True, 'subsample': 0.9, 'subsample_for_bin': 200000, 'subsample_freq': 0, 'nthread': -1, 'seed': 0}\n",
      "MEAN SCORE : roc_auc = 0.8761870467763874                                           \n",
      "VARIANCE : 0.006215945598897297 (fold 1 = 0.8866126299042387, fold 2 = 0.8765039106299627, fold 3 = 0.8695758276410701, fold 4 = 0.8781311069031401, fold 5 = 0.8701117588035258)\n",
      "CPU time: 284.6590313911438 seconds                                                 \n",
      "##################################################### testing hyper-parameters... #####################################################\n",
      ">>> NA ENCODER :{'numerical_strategy': 0, 'categorical_strategy': '<NULL>'}         \n",
      ">>> CA ENCODER :{'strategy': 'random_projection'}                                   \n",
      ">>> FEATURE SELECTOR :{'strategy': 'l1', 'threshold': 0.15753081088956888}          \n",
      ">>> ESTIMATOR :{'strategy': 'LightGBM', 'max_depth': 7, 'n_estimators': 1200, 'boosting_type': 'gbdt', 'class_weight': None, 'colsample_bytree': 0.8, 'importance_type': 'split', 'learning_rate': 0.05, 'min_child_samples': 20, 'min_child_weight': 0.001, 'min_split_gain': 0.0, 'n_jobs': -1, 'num_leaves': 31, 'objective': None, 'random_state': None, 'reg_alpha': 0.0, 'reg_lambda': 0.0, 'silent': True, 'subsample': 0.9, 'subsample_for_bin': 200000, 'subsample_freq': 0, 'nthread': -1, 'seed': 0}\n",
      "MEAN SCORE : roc_auc = 0.8761870467763874                                           \n",
      "VARIANCE : 0.006215945598897297 (fold 1 = 0.8866126299042387, fold 2 = 0.8765039106299627, fold 3 = 0.8695758276410701, fold 4 = 0.8781311069031401, fold 5 = 0.8701117588035258)\n",
      "CPU time: 287.7658488750458 seconds                                                 \n",
      "##################################################### testing hyper-parameters... #####################################################\n",
      ">>> NA ENCODER :{'numerical_strategy': 0, 'categorical_strategy': '<NULL>'}         \n",
      ">>> CA ENCODER :{'strategy': 'random_projection'}                                   \n",
      ">>> FEATURE SELECTOR :{'strategy': 'l1', 'threshold': 0.17540488667771706}          \n",
      ">>> ESTIMATOR :{'strategy': 'LightGBM', 'max_depth': 11, 'n_estimators': 1200, 'boosting_type': 'gbdt', 'class_weight': None, 'colsample_bytree': 0.8, 'importance_type': 'split', 'learning_rate': 0.05, 'min_child_samples': 20, 'min_child_weight': 0.001, 'min_split_gain': 0.0, 'n_jobs': -1, 'num_leaves': 31, 'objective': None, 'random_state': None, 'reg_alpha': 0.0, 'reg_lambda': 0.0, 'silent': True, 'subsample': 0.9, 'subsample_for_bin': 200000, 'subsample_freq': 0, 'nthread': -1, 'seed': 0}\n",
      "MEAN SCORE : roc_auc = 0.8773851210459863                                           \n",
      "VARIANCE : 0.005510685410929001 (fold 1 = 0.8868827871470195, fold 2 = 0.8769723997419484, fold 3 = 0.8717322140468086, fold 4 = 0.8791054860739276, fold 5 = 0.8722327182202272)\n",
      "CPU time: 290.6710534095764 seconds                                                 \n",
      "##################################################### testing hyper-parameters... #####################################################\n",
      ">>> NA ENCODER :{'numerical_strategy': 0, 'categorical_strategy': '<NULL>'}       \n",
      ">>> CA ENCODER :{'strategy': 'random_projection'}                                 \n",
      ">>> FEATURE SELECTOR :{'strategy': 'l1', 'threshold': 0.17798659624412833}        \n",
      ">>> ESTIMATOR :{'strategy': 'LightGBM', 'max_depth': 11, 'n_estimators': 100, 'boosting_type': 'gbdt', 'class_weight': None, 'colsample_bytree': 0.8, 'importance_type': 'split', 'learning_rate': 0.05, 'min_child_samples': 20, 'min_child_weight': 0.001, 'min_split_gain': 0.0, 'n_jobs': -1, 'num_leaves': 31, 'objective': None, 'random_state': None, 'reg_alpha': 0.0, 'reg_lambda': 0.0, 'silent': True, 'subsample': 0.9, 'subsample_for_bin': 200000, 'subsample_freq': 0, 'nthread': -1, 'seed': 0}\n",
      "MEAN SCORE : roc_auc = 0.861587751785982                                          \n",
      "VARIANCE : 0.004208211411746656 (fold 1 = 0.8684824299485565, fold 2 = 0.8595095690601628, fold 3 = 0.8586083014400089, fold 4 = 0.864283457673154, fold 5 = 0.8570550008080277)\n",
      "CPU time: 218.4007704257965 seconds                                               \n",
      "##################################################### testing hyper-parameters... #####################################################\n",
      ">>> NA ENCODER :{'numerical_strategy': 0, 'categorical_strategy': '<NULL>'}       \n",
      ">>> CA ENCODER :{'strategy': 'random_projection'}                                 \n",
      ">>> FEATURE SELECTOR :{'strategy': 'l1', 'threshold': 0.13000452540780627}        \n",
      ">>> ESTIMATOR :{'strategy': 'LightGBM', 'max_depth': 11, 'n_estimators': 1200, 'boosting_type': 'gbdt', 'class_weight': None, 'colsample_bytree': 0.8, 'importance_type': 'split', 'learning_rate': 0.05, 'min_child_samples': 20, 'min_child_weight': 0.001, 'min_split_gain': 0.0, 'n_jobs': -1, 'num_leaves': 31, 'objective': None, 'random_state': None, 'reg_alpha': 0.0, 'reg_lambda': 0.0, 'silent': True, 'subsample': 0.9, 'subsample_for_bin': 200000, 'subsample_freq': 0, 'nthread': -1, 'seed': 0}\n",
      "MEAN SCORE : roc_auc = 0.8773851210459863                                         \n",
      "VARIANCE : 0.005510685410929001 (fold 1 = 0.8868827871470195, fold 2 = 0.8769723997419484, fold 3 = 0.8717322140468086, fold 4 = 0.8791054860739276, fold 5 = 0.8722327182202272)\n",
      "CPU time: 290.92406010627747 seconds                                              \n",
      "##################################################### testing hyper-parameters... #####################################################\n",
      ">>> NA ENCODER :{'numerical_strategy': 0, 'categorical_strategy': '<NULL>'}       \n",
      ">>> CA ENCODER :{'strategy': 'random_projection'}                                 \n",
      ">>> FEATURE SELECTOR :{'strategy': 'l1', 'threshold': 0.13691966007318712}        \n",
      ">>> ESTIMATOR :{'strategy': 'LightGBM', 'max_depth': 11, 'n_estimators': 1200, 'boosting_type': 'gbdt', 'class_weight': None, 'colsample_bytree': 0.8, 'importance_type': 'split', 'learning_rate': 0.05, 'min_child_samples': 20, 'min_child_weight': 0.001, 'min_split_gain': 0.0, 'n_jobs': -1, 'num_leaves': 31, 'objective': None, 'random_state': None, 'reg_alpha': 0.0, 'reg_lambda': 0.0, 'silent': True, 'subsample': 0.9, 'subsample_for_bin': 200000, 'subsample_freq': 0, 'nthread': -1, 'seed': 0}\n",
      "MEAN SCORE : roc_auc = 0.8773851210459863                                         \n",
      "VARIANCE : 0.005510685410929001 (fold 1 = 0.8868827871470195, fold 2 = 0.8769723997419484, fold 3 = 0.8717322140468086, fold 4 = 0.8791054860739276, fold 5 = 0.8722327182202272)\n",
      "CPU time: 313.0297830104828 seconds                                               \n",
      "##################################################### testing hyper-parameters... #####################################################\n",
      ">>> NA ENCODER :{'numerical_strategy': 0, 'categorical_strategy': '<NULL>'}       \n",
      ">>> CA ENCODER :{'strategy': 'random_projection'}                                 \n",
      ">>> FEATURE SELECTOR :{'strategy': 'l1', 'threshold': 0.1327464027895245}         \n",
      ">>> ESTIMATOR :{'strategy': 'LightGBM', 'max_depth': 11, 'n_estimators': 1200, 'boosting_type': 'gbdt', 'class_weight': None, 'colsample_bytree': 0.8, 'importance_type': 'split', 'learning_rate': 0.05, 'min_child_samples': 20, 'min_child_weight': 0.001, 'min_split_gain': 0.0, 'n_jobs': -1, 'num_leaves': 31, 'objective': None, 'random_state': None, 'reg_alpha': 0.0, 'reg_lambda': 0.0, 'silent': True, 'subsample': 0.9, 'subsample_for_bin': 200000, 'subsample_freq': 0, 'nthread': -1, 'seed': 0}\n",
      "MEAN SCORE : roc_auc = 0.8773851210459863                                         \n",
      "VARIANCE : 0.005510685410929001 (fold 1 = 0.8868827871470195, fold 2 = 0.8769723997419484, fold 3 = 0.8717322140468086, fold 4 = 0.8791054860739276, fold 5 = 0.8722327182202272)\n"
     ]
    },
    {
     "name": "stdout",
     "output_type": "stream",
     "text": [
      "CPU time: 277.21440267562866 seconds                                              \n",
      "##################################################### testing hyper-parameters... #####################################################\n",
      ">>> NA ENCODER :{'numerical_strategy': 0, 'categorical_strategy': '<NULL>'}       \n",
      ">>> CA ENCODER :{'strategy': 'random_projection'}                                 \n",
      ">>> FEATURE SELECTOR :{'strategy': 'l1', 'threshold': 0.10541346283811931}        \n",
      ">>> ESTIMATOR :{'strategy': 'LightGBM', 'max_depth': 11, 'n_estimators': 50, 'boosting_type': 'gbdt', 'class_weight': None, 'colsample_bytree': 0.8, 'importance_type': 'split', 'learning_rate': 0.05, 'min_child_samples': 20, 'min_child_weight': 0.001, 'min_split_gain': 0.0, 'n_jobs': -1, 'num_leaves': 31, 'objective': None, 'random_state': None, 'reg_alpha': 0.0, 'reg_lambda': 0.0, 'silent': True, 'subsample': 0.9, 'subsample_for_bin': 200000, 'subsample_freq': 0, 'nthread': -1, 'seed': 0}\n",
      "MEAN SCORE : roc_auc = 0.8536447043120216                                         \n",
      "VARIANCE : 0.004241801387835874 (fold 1 = 0.8606329512128116, fold 2 = 0.8510696973207482, fold 3 = 0.851334484539753, fold 4 = 0.8562640032191351, fold 5 = 0.8489223852676603)\n",
      "CPU time: 216.4987668991089 seconds                                               \n",
      "##################################################### testing hyper-parameters... #####################################################\n",
      ">>> NA ENCODER :{'numerical_strategy': 0, 'categorical_strategy': '<NULL>'}       \n",
      ">>> CA ENCODER :{'strategy': 'random_projection'}                                 \n",
      ">>> FEATURE SELECTOR :{'strategy': 'l1', 'threshold': 0.18198795739149032}        \n",
      ">>> ESTIMATOR :{'strategy': 'LightGBM', 'max_depth': 3, 'n_estimators': 800, 'boosting_type': 'gbdt', 'class_weight': None, 'colsample_bytree': 0.8, 'importance_type': 'split', 'learning_rate': 0.05, 'min_child_samples': 20, 'min_child_weight': 0.001, 'min_split_gain': 0.0, 'n_jobs': -1, 'num_leaves': 31, 'objective': None, 'random_state': None, 'reg_alpha': 0.0, 'reg_lambda': 0.0, 'silent': True, 'subsample': 0.9, 'subsample_for_bin': 200000, 'subsample_freq': 0, 'nthread': -1, 'seed': 0}\n",
      "MEAN SCORE : roc_auc = 0.8594088425918993                                         \n",
      "VARIANCE : 0.00472761041952127 (fold 1 = 0.8667308449534425, fold 2 = 0.8592652277560668, fold 3 = 0.8553494564229667, fold 4 = 0.8621374916771031, fold 5 = 0.8535611921499175)\n",
      "CPU time: 247.25627207756042 seconds                                              \n",
      "##################################################### testing hyper-parameters... #####################################################\n",
      ">>> NA ENCODER :{'numerical_strategy': 0, 'categorical_strategy': '<NULL>'}       \n",
      ">>> CA ENCODER :{'strategy': 'random_projection'}                                 \n",
      ">>> FEATURE SELECTOR :{'strategy': 'l1', 'threshold': 0.17758932183449688}        \n",
      ">>> ESTIMATOR :{'strategy': 'LightGBM', 'max_depth': 11, 'n_estimators': 100, 'boosting_type': 'gbdt', 'class_weight': None, 'colsample_bytree': 0.8, 'importance_type': 'split', 'learning_rate': 0.05, 'min_child_samples': 20, 'min_child_weight': 0.001, 'min_split_gain': 0.0, 'n_jobs': -1, 'num_leaves': 31, 'objective': None, 'random_state': None, 'reg_alpha': 0.0, 'reg_lambda': 0.0, 'silent': True, 'subsample': 0.9, 'subsample_for_bin': 200000, 'subsample_freq': 0, 'nthread': -1, 'seed': 0}\n",
      "MEAN SCORE : roc_auc = 0.861587751785982                                          \n",
      "VARIANCE : 0.004208211411746656 (fold 1 = 0.8684824299485565, fold 2 = 0.8595095690601628, fold 3 = 0.8586083014400089, fold 4 = 0.864283457673154, fold 5 = 0.8570550008080277)\n",
      "CPU time: 218.37248754501343 seconds                                              \n",
      "##################################################### testing hyper-parameters... #####################################################\n",
      ">>> NA ENCODER :{'numerical_strategy': 0, 'categorical_strategy': '<NULL>'}       \n",
      ">>> CA ENCODER :{'strategy': 'random_projection'}                                 \n",
      ">>> FEATURE SELECTOR :{'strategy': 'l1', 'threshold': 0.11326894848457573}        \n",
      ">>> ESTIMATOR :{'strategy': 'LightGBM', 'max_depth': 11, 'n_estimators': 1200, 'boosting_type': 'gbdt', 'class_weight': None, 'colsample_bytree': 0.8, 'importance_type': 'split', 'learning_rate': 0.05, 'min_child_samples': 20, 'min_child_weight': 0.001, 'min_split_gain': 0.0, 'n_jobs': -1, 'num_leaves': 31, 'objective': None, 'random_state': None, 'reg_alpha': 0.0, 'reg_lambda': 0.0, 'silent': True, 'subsample': 0.9, 'subsample_for_bin': 200000, 'subsample_freq': 0, 'nthread': -1, 'seed': 0}\n",
      "MEAN SCORE : roc_auc = 0.8773851210459863                                         \n",
      "VARIANCE : 0.005510685410929001 (fold 1 = 0.8868827871470195, fold 2 = 0.8769723997419484, fold 3 = 0.8717322140468086, fold 4 = 0.8791054860739276, fold 5 = 0.8722327182202272)\n",
      "CPU time: 285.39670276641846 seconds                                              \n",
      "##################################################### testing hyper-parameters... #####################################################\n",
      ">>> NA ENCODER :{'numerical_strategy': 0, 'categorical_strategy': '<NULL>'}       \n",
      ">>> CA ENCODER :{'strategy': 'random_projection'}                                 \n",
      ">>> FEATURE SELECTOR :{'strategy': 'l1', 'threshold': 0.08088376751298326}        \n",
      ">>> ESTIMATOR :{'strategy': 'LightGBM', 'max_depth': 11, 'n_estimators': 400, 'boosting_type': 'gbdt', 'class_weight': None, 'colsample_bytree': 0.8, 'importance_type': 'split', 'learning_rate': 0.05, 'min_child_samples': 20, 'min_child_weight': 0.001, 'min_split_gain': 0.0, 'n_jobs': -1, 'num_leaves': 31, 'objective': None, 'random_state': None, 'reg_alpha': 0.0, 'reg_lambda': 0.0, 'silent': True, 'subsample': 0.9, 'subsample_for_bin': 200000, 'subsample_freq': 0, 'nthread': -1, 'seed': 0}\n",
      "MEAN SCORE : roc_auc = 0.8733452845531563                                         \n",
      "VARIANCE : 0.004498296063467522 (fold 1 = 0.8812015540949494, fold 2 = 0.8725337231386645, fold 3 = 0.8697335494745971, fold 4 = 0.8747797067926059, fold 5 = 0.8684778892649639)\n",
      "CPU time: 245.2130000591278 seconds                                               \n",
      "##################################################### testing hyper-parameters... #####################################################\n",
      ">>> NA ENCODER :{'numerical_strategy': 0, 'categorical_strategy': '<NULL>'}       \n",
      ">>> CA ENCODER :{'strategy': 'random_projection'}                                 \n",
      ">>> FEATURE SELECTOR :{'strategy': 'l1', 'threshold': 0.14233956072607368}        \n",
      ">>> ESTIMATOR :{'strategy': 'LightGBM', 'max_depth': 11, 'n_estimators': 150, 'boosting_type': 'gbdt', 'class_weight': None, 'colsample_bytree': 0.8, 'importance_type': 'split', 'learning_rate': 0.05, 'min_child_samples': 20, 'min_child_weight': 0.001, 'min_split_gain': 0.0, 'n_jobs': -1, 'num_leaves': 31, 'objective': None, 'random_state': None, 'reg_alpha': 0.0, 'reg_lambda': 0.0, 'silent': True, 'subsample': 0.9, 'subsample_for_bin': 200000, 'subsample_freq': 0, 'nthread': -1, 'seed': 0}\n",
      "MEAN SCORE : roc_auc = 0.8654171822997079                                         \n",
      "VARIANCE : 0.004012038978397332 (fold 1 = 0.8721217546192159, fold 2 = 0.8643388038223101, fold 3 = 0.862663035911476, fold 4 = 0.8673470494709108, fold 5 = 0.8606152676746264)\n",
      "CPU time: 229.74945211410522 seconds                                              \n",
      "##################################################### testing hyper-parameters... #####################################################\n",
      ">>> NA ENCODER :{'numerical_strategy': 0, 'categorical_strategy': '<NULL>'}       \n",
      ">>> CA ENCODER :{'strategy': 'random_projection'}                                 \n",
      ">>> FEATURE SELECTOR :{'strategy': 'l1', 'threshold': 0.11515410121359584}        \n",
      ">>> ESTIMATOR :{'strategy': 'LightGBM', 'max_depth': 3, 'n_estimators': 50, 'boosting_type': 'gbdt', 'class_weight': None, 'colsample_bytree': 0.8, 'importance_type': 'split', 'learning_rate': 0.05, 'min_child_samples': 20, 'min_child_weight': 0.001, 'min_split_gain': 0.0, 'n_jobs': -1, 'num_leaves': 31, 'objective': None, 'random_state': None, 'reg_alpha': 0.0, 'reg_lambda': 0.0, 'silent': True, 'subsample': 0.9, 'subsample_for_bin': 200000, 'subsample_freq': 0, 'nthread': -1, 'seed': 0}\n"
     ]
    },
    {
     "name": "stdout",
     "output_type": "stream",
     "text": [
      "MEAN SCORE : roc_auc = 0.8290992273414608                                         \n",
      "VARIANCE : 0.005108149403007574 (fold 1 = 0.8369130363622934, fold 2 = 0.8232291100938786, fold 3 = 0.8275436631214681, fold 4 = 0.832933622461327, fold 5 = 0.8248767046683363)\n",
      "CPU time: 214.41054368019104 seconds                                              \n",
      "##################################################### testing hyper-parameters... #####################################################\n",
      ">>> NA ENCODER :{'numerical_strategy': 0, 'categorical_strategy': '<NULL>'}       \n",
      ">>> CA ENCODER :{'strategy': 'label_encoding'}                                    \n",
      ">>> FEATURE SELECTOR :{'strategy': 'l1', 'threshold': 0.13516993263784385}        \n",
      ">>> ESTIMATOR :{'strategy': 'LightGBM', 'max_depth': 11, 'n_estimators': 1200, 'boosting_type': 'gbdt', 'class_weight': None, 'colsample_bytree': 0.8, 'importance_type': 'split', 'learning_rate': 0.05, 'min_child_samples': 20, 'min_child_weight': 0.001, 'min_split_gain': 0.0, 'n_jobs': -1, 'num_leaves': 31, 'objective': None, 'random_state': None, 'reg_alpha': 0.0, 'reg_lambda': 0.0, 'silent': True, 'subsample': 0.9, 'subsample_for_bin': 200000, 'subsample_freq': 0, 'nthread': -1, 'seed': 0}\n",
      "MEAN SCORE : roc_auc = 0.8768808494914342                                         \n",
      "VARIANCE : 0.005630079317339047 (fold 1 = 0.8859124741546559, fold 2 = 0.8776688096571675, fold 3 = 0.8707042189527653, fold 4 = 0.8790287247825065, fold 5 = 0.8710900199100762)\n",
      "CPU time: 277.5210859775543 seconds                                               \n",
      "100%|██████████| 40/40 [2:59:35<00:00, 249.35s/it, best loss: -0.8773851210459863]\n",
      "\n",
      "\n",
      "~~~~~~~~~~~~~~~~~~~~~~~~~~~~~~~~~~~~~~~~~~~~~~~~~~~~~~~~~~~~~~~~~~~~~~~~~~~~~~~~~~~~~~~~~~~~~~~~~~~~~~~~~~~~~~~~~~~~~~~~~~~~~~~~~~~~~~~~~\n",
      "~~~~~~~~~~~~~~~~~~~~~~~~~~~~~~~~~~~~~~~~~~~~~~~~~~~~~~~~~ BEST HYPER-PARAMETERS ~~~~~~~~~~~~~~~~~~~~~~~~~~~~~~~~~~~~~~~~~~~~~~~~~~~~~~~~~\n",
      "~~~~~~~~~~~~~~~~~~~~~~~~~~~~~~~~~~~~~~~~~~~~~~~~~~~~~~~~~~~~~~~~~~~~~~~~~~~~~~~~~~~~~~~~~~~~~~~~~~~~~~~~~~~~~~~~~~~~~~~~~~~~~~~~~~~~~~~~~\n",
      "\n",
      "{'ce__strategy': 'random_projection', 'est__max_depth': 11, 'est__n_estimators': 1200, 'fs__threshold': 0.17540488667771706, 'ne__numerical_strategy': 0}\n"
     ]
    }
   ],
   "source": [
    "#%%capture cap --no-stderr\n",
    "space = {\n",
    "    \n",
    "        'ne__numerical_strategy':{\"search\":\"choice\",\n",
    "                                 \"space\":[0]},\n",
    "        'ce__strategy':{\"search\":\"choice\",\n",
    "                        \"space\":[\"label_encoding\",\"random_projection\", \"entity_embedding\"]}, \n",
    "        'fs__threshold':{\"search\":\"uniform\",\n",
    "                        \"space\":[0.01,0.3]},    \n",
    "        'est__max_depth':{\"search\":\"choice\",\n",
    "                                  \"space\":[3,5, 7, 9, 11, 13]},\n",
    "        'est__n_estimators': {'search':'choice', 'space':[50, 100, 150, 200, 400, 800, 1200]}\n",
    "    \n",
    "        }\n",
    "\n",
    "with warnings.catch_warnings():\n",
    "    warnings.simplefilter(\"ignore\")\n",
    "    best = opt.optimise(space, df)"
   ]
  },
  {
   "cell_type": "raw",
   "metadata": {},
   "source": [
    "with open(os.path.join(MLBOX_SAVE,'mlbox_optimize.txt'),\"w\") as f:\n",
    "    f.write(cap.stdout)"
   ]
  },
  {
   "cell_type": "code",
   "execution_count": 19,
   "metadata": {},
   "outputs": [
    {
     "data": {
      "text/plain": [
       "{'ce__strategy': 'random_projection',\n",
       " 'est__max_depth': 11,\n",
       " 'est__n_estimators': 1200,\n",
       " 'fs__threshold': 0.17540488667771706,\n",
       " 'ne__numerical_strategy': 0}"
      ]
     },
     "execution_count": 19,
     "metadata": {},
     "output_type": "execute_result"
    }
   ],
   "source": [
    "best"
   ]
  },
  {
   "cell_type": "code",
   "execution_count": 20,
   "metadata": {},
   "outputs": [
    {
     "name": "stdout",
     "output_type": "stream",
     "text": [
      "\n",
      "fitting the pipeline ...\n"
     ]
    },
    {
     "name": "stderr",
     "output_type": "stream",
     "text": [
      "/opt/conda/lib/python3.7/site-packages/sklearn/linear_model/logistic.py:432: FutureWarning: Default solver will be changed to 'lbfgs' in 0.22. Specify a solver to silence this warning.\n",
      "  FutureWarning)\n",
      "/opt/conda/lib/python3.7/site-packages/sklearn/linear_model/logistic.py:1544: UserWarning: 'n_jobs' > 1 does not have any effect when 'solver' is set to 'liblinear'. Got 'n_jobs' = 7.\n",
      "  \" = {}.\".format(effective_n_jobs(self.n_jobs)))\n"
     ]
    },
    {
     "name": "stdout",
     "output_type": "stream",
     "text": [
      "CPU time: 67.07253909111023 seconds\n"
     ]
    },
    {
     "data": {
      "image/png": "[encoded data removed]",
      "text/plain": [
       "<Figure size 1440x288 with 1 Axes>"
      ]
     },
     "metadata": {
      "needs_background": "light"
     },
     "output_type": "display_data"
    },
    {
     "name": "stdout",
     "output_type": "stream",
     "text": [
      "\n",
      "> Feature importances dumped into directory : mlbox_save\n",
      "\n",
      "predicting ...\n",
      "CPU time: 3.970404863357544 seconds\n",
      "\n",
      "> Overview on predictions : \n",
      "\n",
      "        0.0       1.0  isFraud_predicted\n",
      "0  0.995906  0.004094                  0\n",
      "1  0.978855  0.021145                  0\n",
      "2  0.978867  0.021133                  0\n",
      "3  0.993677  0.006323                  0\n",
      "4  0.992138  0.007862                  0\n",
      "5  0.859984  0.140016                  0\n",
      "6  0.966562  0.033438                  0\n",
      "7  0.995409  0.004591                  0\n",
      "8  0.983931  0.016069                  0\n",
      "9  0.826079  0.173921                  0\n",
      "\n",
      "dumping predictions into directory : mlbox_save ...\n"
     ]
    },
    {
     "data": {
      "text/plain": [
       "<mlbox.prediction.predictor.Predictor at 0x7faab4140518>"
      ]
     },
     "execution_count": 20,
     "metadata": {},
     "output_type": "execute_result"
    }
   ],
   "source": [
    "%matplotlib inline\n",
    "prd = Predictor(to_path=MLBOX_SAVE)\n",
    "prd.fit_predict(best, df)"
   ]
  },
  {
   "cell_type": "code",
   "execution_count": 21,
   "metadata": {},
   "outputs": [
    {
     "data": {
      "application/javascript": [
       "IPython.notebook.kernel.execute(`notebookName = '${IPython.notebook.notebook_name}'`);\n"
      ],
      "text/plain": [
       "<IPython.core.display.Javascript object>"
      ]
     },
     "metadata": {},
     "output_type": "display_data"
    }
   ],
   "source": [
    "%%javascript\n",
    "IPython.notebook.kernel.execute(`notebookName = '${IPython.notebook.notebook_name}'`);"
   ]
  },
  {
   "cell_type": "code",
   "execution_count": 22,
   "metadata": {},
   "outputs": [
    {
     "data": {
      "text/plain": [
       "'automl_mlbox_hyperparm.ipynb'"
      ]
     },
     "execution_count": 22,
     "metadata": {},
     "output_type": "execute_result"
    }
   ],
   "source": [
    "notebookName"
   ]
  },
  {
   "cell_type": "code",
   "execution_count": 23,
   "metadata": {},
   "outputs": [],
   "source": [
    "# remove joblib artifacts from MLBOX_SAVE, these are not needed\n",
    "shutil.rmtree(os.path.join(MLBOX_SAVE,'joblib'))"
   ]
  },
  {
   "cell_type": "code",
   "execution_count": 24,
   "metadata": {},
   "outputs": [],
   "source": [
    "# save sample as mlflow artifact\n",
    "experiment_id = mlflow.set_experiment('hyperparms')\n",
    "\n",
    "#%%\n",
    "with mlflow.start_run(experiment_id=experiment_id, run_name='mlbox_inital_hyperparm3'):\n",
    "    mlflow.log_param('notebook_name',notebookName)\n",
    "    mlflow.log_artifacts(MLBOX_SAVE)\n"
   ]
  },
  {
   "cell_type": "markdown",
   "metadata": {},
   "source": [
    "## Clean-up"
   ]
  },
  {
   "cell_type": "code",
   "execution_count": 25,
   "metadata": {},
   "outputs": [],
   "source": [
    "shutil.rmtree(TMPDIR)"
   ]
  },
  {
   "cell_type": "code",
   "execution_count": 26,
   "metadata": {},
   "outputs": [
    {
     "data": {
      "text/plain": [
       "'0.24.2'"
      ]
     },
     "execution_count": 26,
     "metadata": {},
     "output_type": "execute_result"
    }
   ],
   "source": [
    "pd.__version__"
   ]
  },
  {
   "cell_type": "code",
   "execution_count": 27,
   "metadata": {},
   "outputs": [
    {
     "name": "stdout",
     "output_type": "stream",
     "text": [
      "/opt/conda/bin:/usr/local/sbin:/usr/local/bin:/usr/sbin:/usr/bin:/sbin:/bin\r\n"
     ]
    }
   ],
   "source": [
    "!echo $PATH\n"
   ]
  },
  {
   "cell_type": "code",
   "execution_count": null,
   "metadata": {},
   "outputs": [],
   "source": []
  }
 ],
 "metadata": {
  "kernelspec": {
   "display_name": "Python 3",
   "language": "python",
   "name": "python3"
  },
  "language_info": {
   "codemirror_mode": {
    "name": "ipython",
    "version": 3
   },
   "file_extension": ".py",
   "mimetype": "text/x-python",
   "name": "python",
   "nbconvert_exporter": "python",
   "pygments_lexer": "ipython3",
   "version": "3.7.3"
  }
 },
 "nbformat": 4,
 "nbformat_minor": 2
}
