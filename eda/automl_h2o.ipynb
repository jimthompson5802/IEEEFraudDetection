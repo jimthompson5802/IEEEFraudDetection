{
 "cells": [
  {
   "cell_type": "markdown",
   "metadata": {},
   "source": [
    "# mlbox automl to test out models"
   ]
  },
  {
   "cell_type": "code",
   "execution_count": 1,
   "metadata": {},
   "outputs": [],
   "source": [
    "import pandas as pd\n",
    "import numpy as np\n",
    "import os\n",
    "import os.path\n",
    "import sys\n",
    "import tempfile\n",
    "import shutil\n",
    "\n",
    "import mlflow\n",
    "from sklearn.model_selection import train_test_split\n"
   ]
  },
  {
   "cell_type": "code",
   "execution_count": 2,
   "metadata": {},
   "outputs": [],
   "source": [
    "sys.path.append('..')\n",
    "from utils.kaggle import get_global_parameters\n",
    "from utils.mlflow_experiments import retrieve_artifacts, extract_run_data_for_experiment\n",
    "global_parms = get_global_parameters()"
   ]
  },
  {
   "cell_type": "code",
   "execution_count": 3,
   "metadata": {},
   "outputs": [
    {
     "data": {
      "text/plain": [
       "{'PROJ_DIR': '/opt/project'}"
      ]
     },
     "execution_count": 3,
     "metadata": {},
     "output_type": "execute_result"
    }
   ],
   "source": [
    "global_parms"
   ]
  },
  {
   "cell_type": "code",
   "execution_count": 4,
   "metadata": {},
   "outputs": [
    {
     "name": "stdout",
     "output_type": "stream",
     "text": [
      "Checking whether there is an H2O instance running at http://localhost:54321 ..... not found.\n",
      "Attempting to start a local H2O server...\n",
      "  Java Version: openjdk version \"1.8.0_222\"; OpenJDK Runtime Environment (build 1.8.0_222-8u222-b10-1~deb9u1-b10); OpenJDK 64-Bit Server VM (build 25.222-b10, mixed mode)\n",
      "  Starting server from /opt/conda/lib/python3.7/site-packages/h2o/backend/bin/h2o.jar\n",
      "  Ice root: /tmp/tmpljuafy9e\n",
      "  JVM stdout: /tmp/tmpljuafy9e/h2o_unknownUser_started_from_python.out\n",
      "  JVM stderr: /tmp/tmpljuafy9e/h2o_unknownUser_started_from_python.err\n",
      "  Server is running at http://127.0.0.1:54321\n",
      "Connecting to H2O server at http://127.0.0.1:54321 ... successful.\n"
     ]
    },
    {
     "data": {
      "text/html": [
       "<div style=\"overflow:auto\"><table style=\"width:50%\"><tr><td>H2O cluster uptime:</td>\n",
       "<td>02 secs</td></tr>\n",
       "<tr><td>H2O cluster timezone:</td>\n",
       "<td>Etc/UTC</td></tr>\n",
       "<tr><td>H2O data parsing timezone:</td>\n",
       "<td>UTC</td></tr>\n",
       "<tr><td>H2O cluster version:</td>\n",
       "<td>3.26.0.2</td></tr>\n",
       "<tr><td>H2O cluster version age:</td>\n",
       "<td>15 days </td></tr>\n",
       "<tr><td>H2O cluster name:</td>\n",
       "<td>H2O_from_python_unknownUser_yypcxi</td></tr>\n",
       "<tr><td>H2O cluster total nodes:</td>\n",
       "<td>1</td></tr>\n",
       "<tr><td>H2O cluster free memory:</td>\n",
       "<td>3.042 Gb</td></tr>\n",
       "<tr><td>H2O cluster total cores:</td>\n",
       "<td>7</td></tr>\n",
       "<tr><td>H2O cluster allowed cores:</td>\n",
       "<td>7</td></tr>\n",
       "<tr><td>H2O cluster status:</td>\n",
       "<td>accepting new members, healthy</td></tr>\n",
       "<tr><td>H2O connection url:</td>\n",
       "<td>http://127.0.0.1:54321</td></tr>\n",
       "<tr><td>H2O connection proxy:</td>\n",
       "<td>None</td></tr>\n",
       "<tr><td>H2O internal security:</td>\n",
       "<td>False</td></tr>\n",
       "<tr><td>H2O API Extensions:</td>\n",
       "<td>Amazon S3, XGBoost, Algos, AutoML, Core V3, Core V4</td></tr>\n",
       "<tr><td>Python version:</td>\n",
       "<td>3.7.3 final</td></tr></table></div>"
      ],
      "text/plain": [
       "--------------------------  ---------------------------------------------------\n",
       "H2O cluster uptime:         02 secs\n",
       "H2O cluster timezone:       Etc/UTC\n",
       "H2O data parsing timezone:  UTC\n",
       "H2O cluster version:        3.26.0.2\n",
       "H2O cluster version age:    15 days\n",
       "H2O cluster name:           H2O_from_python_unknownUser_yypcxi\n",
       "H2O cluster total nodes:    1\n",
       "H2O cluster free memory:    3.042 Gb\n",
       "H2O cluster total cores:    7\n",
       "H2O cluster allowed cores:  7\n",
       "H2O cluster status:         accepting new members, healthy\n",
       "H2O connection url:         http://127.0.0.1:54321\n",
       "H2O connection proxy:\n",
       "H2O internal security:      False\n",
       "H2O API Extensions:         Amazon S3, XGBoost, Algos, AutoML, Core V3, Core V4\n",
       "Python version:             3.7.3 final\n",
       "--------------------------  ---------------------------------------------------"
      ]
     },
     "metadata": {},
     "output_type": "display_data"
    }
   ],
   "source": [
    "import h2o\n",
    "from h2o.automl import H2OAutoML\n",
    "\n",
    "h2o.init()"
   ]
  },
  {
   "cell_type": "code",
   "execution_count": 5,
   "metadata": {},
   "outputs": [],
   "source": [
    "TMPDIR= tempfile.mkdtemp()"
   ]
  },
  {
   "cell_type": "markdown",
   "metadata": {},
   "source": [
    "## Retrieve training data"
   ]
  },
  {
   "cell_type": "code",
   "execution_count": 6,
   "metadata": {},
   "outputs": [],
   "source": [
    "# retrieve run_id for desired feature set to test\n",
    "run_info = extract_run_data_for_experiment('feature_set')\n",
    "RUN_ID = run_info.loc[run_info['mlflow.runName'] == 'feature_set_0'].run_id.values[0]\n",
    "\n",
    "retrieve_artifacts(RUN_ID, 'fs_train_df.pkl', TMPDIR)"
   ]
  },
  {
   "cell_type": "code",
   "execution_count": 7,
   "metadata": {},
   "outputs": [
    {
     "data": {
      "text/plain": [
       "['fs_train_df.pkl']"
      ]
     },
     "execution_count": 7,
     "metadata": {},
     "output_type": "execute_result"
    }
   ],
   "source": [
    "os.listdir(TMPDIR)"
   ]
  },
  {
   "cell_type": "markdown",
   "metadata": {},
   "source": [
    "## training data"
   ]
  },
  {
   "cell_type": "code",
   "execution_count": 8,
   "metadata": {},
   "outputs": [],
   "source": [
    "train_df = pd.read_pickle(os.path.join(TMPDIR,'fs_train_df.pkl'))"
   ]
  },
  {
   "cell_type": "code",
   "execution_count": 9,
   "metadata": {},
   "outputs": [
    {
     "name": "stdout",
     "output_type": "stream",
     "text": [
      "['isFraud', 'TransactionID', 'TransactionDT', 'M1', 'M2', 'M3', 'M4', 'M6', 'M7', 'M8', 'M9', 'ProductCD', 'id_12', 'id_15', 'id_16', 'id_28', 'id_29', 'id_35', 'id_36', 'id_37', 'id_38', 'C12', 'C4', 'C7', 'C8', 'D3', 'D5', 'D7', 'D8', 'V1', 'V101', 'V107', 'V108', 'V111', 'V112', 'V113', 'V117', 'V119', 'V120', 'V122', 'V123', 'V125', 'V126', 'V128', 'V132', 'V133', 'V134', 'V15', 'V16', 'V167', 'V17', 'V170', 'V171', 'V176', 'V177', 'V178', 'V18', 'V186', 'V187', 'V188', 'V189', 'V190', 'V191', 'V192', 'V193', 'V195', 'V196', 'V197', 'V198', 'V199', 'V200', 'V201', 'V202', 'V211', 'V212', 'V213', 'V217', 'V218', 'V219', 'V221', 'V222', 'V229', 'V23', 'V231', 'V232', 'V233', 'V24', 'V242', 'V243', 'V244', 'V245', 'V252', 'V253', 'V254', 'V255', 'V256', 'V257', 'V258', 'V259', 'V263', 'V264', 'V273', 'V274', 'V275', 'V283', 'V302', 'V305', 'V308', 'V33', 'V34', 'V43', 'V44', 'V45', 'V52', 'V57', 'V58', 'V59', 'V60', 'V64', 'V71', 'V72', 'V73', 'V74', 'V80', 'V81', 'V86', 'V87', 'V94', 'addr2', 'id_04', 'id_10', 'D9', 'V194', 'V50', 'addr1']\n"
     ]
    }
   ],
   "source": [
    "print(train_df.columns.tolist())"
   ]
  },
  {
   "cell_type": "code",
   "execution_count": 10,
   "metadata": {},
   "outputs": [
    {
     "name": "stderr",
     "output_type": "stream",
     "text": [
      "/opt/conda/lib/python3.7/site-packages/sklearn/model_selection/_split.py:2179: FutureWarning: From version 0.21, test_size will always complement train_size unless both are specified.\n",
      "  FutureWarning)\n"
     ]
    },
    {
     "data": {
      "text/plain": [
       "(1000, 135)"
      ]
     },
     "execution_count": 10,
     "metadata": {},
     "output_type": "execute_result"
    }
   ],
   "source": [
    "train, _ = train_test_split(train_df, train_size=1000, random_state=91, shuffle=True, stratify=train_df['isFraud'])\n",
    "\n",
    "train.shape"
   ]
  },
  {
   "cell_type": "code",
   "execution_count": 11,
   "metadata": {},
   "outputs": [
    {
     "name": "stdout",
     "output_type": "stream",
     "text": [
      "Parse progress: |█████████████████████████████████████████████████████████| 100%\n"
     ]
    }
   ],
   "source": [
    "train_h2o = h2o.H2OFrame(train)"
   ]
  },
  {
   "cell_type": "code",
   "execution_count": 12,
   "metadata": {},
   "outputs": [
    {
     "data": {
      "text/html": [
       "<table>\n",
       "<thead>\n",
       "<tr><th style=\"text-align: right;\">  isFraud</th><th style=\"text-align: right;\">  TransactionID</th><th style=\"text-align: right;\">   TransactionDT</th><th>M1  </th><th>M2  </th><th>M3  </th><th>M4  </th><th>M6  </th><th>M7  </th><th>M8  </th><th>M9  </th><th>ProductCD  </th><th>id_12   </th><th>id_15  </th><th>id_16   </th><th>id_28  </th><th>id_29   </th><th>id_35  </th><th>id_36  </th><th>id_37  </th><th>id_38  </th><th style=\"text-align: right;\">  C12</th><th style=\"text-align: right;\">  C4</th><th style=\"text-align: right;\">  C7</th><th style=\"text-align: right;\">  C8</th><th style=\"text-align: right;\">  D3</th><th style=\"text-align: right;\">  D5</th><th style=\"text-align: right;\">  D7</th><th style=\"text-align: right;\">  D8</th><th style=\"text-align: right;\">  V1</th><th style=\"text-align: right;\">  V101</th><th style=\"text-align: right;\">  V107</th><th style=\"text-align: right;\">  V108</th><th style=\"text-align: right;\">  V111</th><th style=\"text-align: right;\">  V112</th><th style=\"text-align: right;\">  V113</th><th style=\"text-align: right;\">  V117</th><th style=\"text-align: right;\">  V119</th><th style=\"text-align: right;\">  V120</th><th style=\"text-align: right;\">  V122</th><th style=\"text-align: right;\">  V123</th><th style=\"text-align: right;\">  V125</th><th style=\"text-align: right;\">  V126</th><th style=\"text-align: right;\">  V128</th><th style=\"text-align: right;\">  V132</th><th style=\"text-align: right;\">  V133</th><th style=\"text-align: right;\">  V134</th><th style=\"text-align: right;\">  V15</th><th style=\"text-align: right;\">  V16</th><th style=\"text-align: right;\">  V167</th><th style=\"text-align: right;\">  V17</th><th style=\"text-align: right;\">  V170</th><th style=\"text-align: right;\">  V171</th><th style=\"text-align: right;\">  V176</th><th style=\"text-align: right;\">  V177</th><th style=\"text-align: right;\">  V178</th><th style=\"text-align: right;\">  V18</th><th style=\"text-align: right;\">  V186</th><th style=\"text-align: right;\">  V187</th><th style=\"text-align: right;\">  V188</th><th style=\"text-align: right;\">  V189</th><th style=\"text-align: right;\">  V190</th><th style=\"text-align: right;\">  V191</th><th style=\"text-align: right;\">  V192</th><th style=\"text-align: right;\">  V193</th><th style=\"text-align: right;\">  V195</th><th style=\"text-align: right;\">  V196</th><th style=\"text-align: right;\">  V197</th><th style=\"text-align: right;\">  V198</th><th style=\"text-align: right;\">  V199</th><th style=\"text-align: right;\">  V200</th><th style=\"text-align: right;\">  V201</th><th style=\"text-align: right;\">  V202</th><th style=\"text-align: right;\">  V211</th><th style=\"text-align: right;\">  V212</th><th style=\"text-align: right;\">  V213</th><th style=\"text-align: right;\">  V217</th><th style=\"text-align: right;\">  V218</th><th style=\"text-align: right;\">  V219</th><th style=\"text-align: right;\">  V221</th><th style=\"text-align: right;\">  V222</th><th style=\"text-align: right;\">  V229</th><th style=\"text-align: right;\">  V23</th><th style=\"text-align: right;\">  V231</th><th style=\"text-align: right;\">  V232</th><th style=\"text-align: right;\">  V233</th><th style=\"text-align: right;\">  V24</th><th style=\"text-align: right;\">  V242</th><th style=\"text-align: right;\">  V243</th><th style=\"text-align: right;\">  V244</th><th style=\"text-align: right;\">  V245</th><th style=\"text-align: right;\">  V252</th><th style=\"text-align: right;\">  V253</th><th style=\"text-align: right;\">  V254</th><th style=\"text-align: right;\">  V255</th><th style=\"text-align: right;\">  V256</th><th style=\"text-align: right;\">  V257</th><th style=\"text-align: right;\">  V258</th><th style=\"text-align: right;\">  V259</th><th style=\"text-align: right;\">  V263</th><th style=\"text-align: right;\">  V264</th><th style=\"text-align: right;\">  V273</th><th style=\"text-align: right;\">  V274</th><th style=\"text-align: right;\">  V275</th><th style=\"text-align: right;\">  V283</th><th style=\"text-align: right;\">  V302</th><th style=\"text-align: right;\">  V305</th><th style=\"text-align: right;\">  V308</th><th style=\"text-align: right;\">  V33</th><th style=\"text-align: right;\">  V34</th><th style=\"text-align: right;\">  V43</th><th style=\"text-align: right;\">  V44</th><th style=\"text-align: right;\">  V45</th><th style=\"text-align: right;\">  V52</th><th style=\"text-align: right;\">  V57</th><th style=\"text-align: right;\">  V58</th><th style=\"text-align: right;\">  V59</th><th style=\"text-align: right;\">  V60</th><th style=\"text-align: right;\">  V64</th><th style=\"text-align: right;\">  V71</th><th style=\"text-align: right;\">  V72</th><th style=\"text-align: right;\">  V73</th><th style=\"text-align: right;\">  V74</th><th style=\"text-align: right;\">  V80</th><th style=\"text-align: right;\">  V81</th><th style=\"text-align: right;\">  V86</th><th style=\"text-align: right;\">  V87</th><th style=\"text-align: right;\">  V94</th><th style=\"text-align: right;\">  addr2</th><th style=\"text-align: right;\">  id_04</th><th style=\"text-align: right;\">  id_10</th><th style=\"text-align: right;\">  D9</th><th style=\"text-align: right;\">  V194</th><th style=\"text-align: right;\">  V50</th><th style=\"text-align: right;\">  addr1</th></tr>\n",
       "</thead>\n",
       "<tbody>\n",
       "<tr><td style=\"text-align: right;\">        0</td><td style=\"text-align: right;\">    3.02866e+06</td><td style=\"text-align: right;\">     1.01878e+06</td><td>T   </td><td>T   </td><td>T   </td><td>M0  </td><td>F   </td><td>nan </td><td>nan </td><td>nan </td><td>W          </td><td>nan     </td><td>nan    </td><td>nan     </td><td>nan    </td><td>nan     </td><td>nan    </td><td>nan    </td><td>nan    </td><td>nan    </td><td style=\"text-align: right;\">    0</td><td style=\"text-align: right;\">   0</td><td style=\"text-align: right;\">   0</td><td style=\"text-align: right;\">   0</td><td style=\"text-align: right;\"> nan</td><td style=\"text-align: right;\"> nan</td><td style=\"text-align: right;\"> nan</td><td style=\"text-align: right;\"> nan</td><td style=\"text-align: right;\">   1</td><td style=\"text-align: right;\">     0</td><td style=\"text-align: right;\">     1</td><td style=\"text-align: right;\">     1</td><td style=\"text-align: right;\">     1</td><td style=\"text-align: right;\">     1</td><td style=\"text-align: right;\">     1</td><td style=\"text-align: right;\">     1</td><td style=\"text-align: right;\">     1</td><td style=\"text-align: right;\">     1</td><td style=\"text-align: right;\">     1</td><td style=\"text-align: right;\">     1</td><td style=\"text-align: right;\">     1</td><td style=\"text-align: right;\">     0</td><td style=\"text-align: right;\">     0</td><td style=\"text-align: right;\">     0</td><td style=\"text-align: right;\">     0</td><td style=\"text-align: right;\">     0</td><td style=\"text-align: right;\">    0</td><td style=\"text-align: right;\">    0</td><td style=\"text-align: right;\">   nan</td><td style=\"text-align: right;\">    0</td><td style=\"text-align: right;\">   nan</td><td style=\"text-align: right;\">   nan</td><td style=\"text-align: right;\">   nan</td><td style=\"text-align: right;\">   nan</td><td style=\"text-align: right;\">   nan</td><td style=\"text-align: right;\">    0</td><td style=\"text-align: right;\">   nan</td><td style=\"text-align: right;\">   nan</td><td style=\"text-align: right;\">   nan</td><td style=\"text-align: right;\">   nan</td><td style=\"text-align: right;\">   nan</td><td style=\"text-align: right;\">   nan</td><td style=\"text-align: right;\">   nan</td><td style=\"text-align: right;\">   nan</td><td style=\"text-align: right;\">   nan</td><td style=\"text-align: right;\">   nan</td><td style=\"text-align: right;\">   nan</td><td style=\"text-align: right;\">   nan</td><td style=\"text-align: right;\">   nan</td><td style=\"text-align: right;\">   nan</td><td style=\"text-align: right;\">   nan</td><td style=\"text-align: right;\">   nan</td><td style=\"text-align: right;\">   nan</td><td style=\"text-align: right;\">   nan</td><td style=\"text-align: right;\">   nan</td><td style=\"text-align: right;\">   nan</td><td style=\"text-align: right;\">   nan</td><td style=\"text-align: right;\">   nan</td><td style=\"text-align: right;\">   nan</td><td style=\"text-align: right;\">   nan</td><td style=\"text-align: right;\">   nan</td><td style=\"text-align: right;\">    1</td><td style=\"text-align: right;\">   nan</td><td style=\"text-align: right;\">   nan</td><td style=\"text-align: right;\">   nan</td><td style=\"text-align: right;\">    1</td><td style=\"text-align: right;\">   nan</td><td style=\"text-align: right;\">   nan</td><td style=\"text-align: right;\">   nan</td><td style=\"text-align: right;\">   nan</td><td style=\"text-align: right;\">   nan</td><td style=\"text-align: right;\">   nan</td><td style=\"text-align: right;\">   nan</td><td style=\"text-align: right;\">   nan</td><td style=\"text-align: right;\">   nan</td><td style=\"text-align: right;\">   nan</td><td style=\"text-align: right;\">   nan</td><td style=\"text-align: right;\">   nan</td><td style=\"text-align: right;\">   nan</td><td style=\"text-align: right;\">   nan</td><td style=\"text-align: right;\">   nan</td><td style=\"text-align: right;\">   nan</td><td style=\"text-align: right;\">   nan</td><td style=\"text-align: right;\">     1</td><td style=\"text-align: right;\">     0</td><td style=\"text-align: right;\">     1</td><td style=\"text-align: right;\">     0</td><td style=\"text-align: right;\">    0</td><td style=\"text-align: right;\">    0</td><td style=\"text-align: right;\">    0</td><td style=\"text-align: right;\">    1</td><td style=\"text-align: right;\">    1</td><td style=\"text-align: right;\">    0</td><td style=\"text-align: right;\">    0</td><td style=\"text-align: right;\">    0</td><td style=\"text-align: right;\">    0</td><td style=\"text-align: right;\">    0</td><td style=\"text-align: right;\">    0</td><td style=\"text-align: right;\">    0</td><td style=\"text-align: right;\">    0</td><td style=\"text-align: right;\">    0</td><td style=\"text-align: right;\">    0</td><td style=\"text-align: right;\">    0</td><td style=\"text-align: right;\">    0</td><td style=\"text-align: right;\">    1</td><td style=\"text-align: right;\">    1</td><td style=\"text-align: right;\">    0</td><td style=\"text-align: right;\">     87</td><td style=\"text-align: right;\">    nan</td><td style=\"text-align: right;\">    nan</td><td style=\"text-align: right;\"> nan</td><td style=\"text-align: right;\">   nan</td><td style=\"text-align: right;\">    0</td><td style=\"text-align: right;\">    231</td></tr>\n",
       "<tr><td style=\"text-align: right;\">        0</td><td style=\"text-align: right;\">    3.0315e+06 </td><td style=\"text-align: right;\">     1.0686e+06 </td><td>nan </td><td>nan </td><td>nan </td><td>nan </td><td>nan </td><td>nan </td><td>nan </td><td>nan </td><td>S          </td><td>NotFound</td><td>New    </td><td>NotFound</td><td>New    </td><td>NotFound</td><td>T      </td><td>F      </td><td>T      </td><td>T      </td><td style=\"text-align: right;\">    0</td><td style=\"text-align: right;\">   3</td><td style=\"text-align: right;\">   0</td><td style=\"text-align: right;\">   3</td><td style=\"text-align: right;\"> nan</td><td style=\"text-align: right;\"> nan</td><td style=\"text-align: right;\"> nan</td><td style=\"text-align: right;\"> nan</td><td style=\"text-align: right;\"> nan</td><td style=\"text-align: right;\">     0</td><td style=\"text-align: right;\">     1</td><td style=\"text-align: right;\">     1</td><td style=\"text-align: right;\">     1</td><td style=\"text-align: right;\">     1</td><td style=\"text-align: right;\">     1</td><td style=\"text-align: right;\">     1</td><td style=\"text-align: right;\">     1</td><td style=\"text-align: right;\">     1</td><td style=\"text-align: right;\">     1</td><td style=\"text-align: right;\">     1</td><td style=\"text-align: right;\">     1</td><td style=\"text-align: right;\">     0</td><td style=\"text-align: right;\">     0</td><td style=\"text-align: right;\">     0</td><td style=\"text-align: right;\">     0</td><td style=\"text-align: right;\">     0</td><td style=\"text-align: right;\">  nan</td><td style=\"text-align: right;\">  nan</td><td style=\"text-align: right;\">     0</td><td style=\"text-align: right;\">  nan</td><td style=\"text-align: right;\">     1</td><td style=\"text-align: right;\">     1</td><td style=\"text-align: right;\">     1</td><td style=\"text-align: right;\">     0</td><td style=\"text-align: right;\">     0</td><td style=\"text-align: right;\">  nan</td><td style=\"text-align: right;\">     1</td><td style=\"text-align: right;\">     1</td><td style=\"text-align: right;\">     1</td><td style=\"text-align: right;\">     1</td><td style=\"text-align: right;\">     1</td><td style=\"text-align: right;\">     1</td><td style=\"text-align: right;\">     1</td><td style=\"text-align: right;\">     1</td><td style=\"text-align: right;\">     1</td><td style=\"text-align: right;\">     1</td><td style=\"text-align: right;\">     1</td><td style=\"text-align: right;\">     1</td><td style=\"text-align: right;\">     1</td><td style=\"text-align: right;\">     1</td><td style=\"text-align: right;\">     1</td><td style=\"text-align: right;\">     0</td><td style=\"text-align: right;\">     0</td><td style=\"text-align: right;\">     0</td><td style=\"text-align: right;\">     0</td><td style=\"text-align: right;\">     0</td><td style=\"text-align: right;\">     0</td><td style=\"text-align: right;\">     0</td><td style=\"text-align: right;\">     0</td><td style=\"text-align: right;\">     0</td><td style=\"text-align: right;\">     1</td><td style=\"text-align: right;\">  nan</td><td style=\"text-align: right;\">     0</td><td style=\"text-align: right;\">     0</td><td style=\"text-align: right;\">     0</td><td style=\"text-align: right;\">  nan</td><td style=\"text-align: right;\">     1</td><td style=\"text-align: right;\">     1</td><td style=\"text-align: right;\">     1</td><td style=\"text-align: right;\">     0</td><td style=\"text-align: right;\">     1</td><td style=\"text-align: right;\">     1</td><td style=\"text-align: right;\">     1</td><td style=\"text-align: right;\">     0</td><td style=\"text-align: right;\">     0</td><td style=\"text-align: right;\">     1</td><td style=\"text-align: right;\">     1</td><td style=\"text-align: right;\">     0</td><td style=\"text-align: right;\">     0</td><td style=\"text-align: right;\">     0</td><td style=\"text-align: right;\">     0</td><td style=\"text-align: right;\">     0</td><td style=\"text-align: right;\">     0</td><td style=\"text-align: right;\">     0</td><td style=\"text-align: right;\">     1</td><td style=\"text-align: right;\">     1</td><td style=\"text-align: right;\">     0</td><td style=\"text-align: right;\">  nan</td><td style=\"text-align: right;\">  nan</td><td style=\"text-align: right;\">  nan</td><td style=\"text-align: right;\">  nan</td><td style=\"text-align: right;\">  nan</td><td style=\"text-align: right;\">  nan</td><td style=\"text-align: right;\">  nan</td><td style=\"text-align: right;\">  nan</td><td style=\"text-align: right;\">  nan</td><td style=\"text-align: right;\">  nan</td><td style=\"text-align: right;\">  nan</td><td style=\"text-align: right;\">  nan</td><td style=\"text-align: right;\">  nan</td><td style=\"text-align: right;\">  nan</td><td style=\"text-align: right;\">  nan</td><td style=\"text-align: right;\">  nan</td><td style=\"text-align: right;\">  nan</td><td style=\"text-align: right;\">  nan</td><td style=\"text-align: right;\">  nan</td><td style=\"text-align: right;\">  nan</td><td style=\"text-align: right;\">     87</td><td style=\"text-align: right;\">    nan</td><td style=\"text-align: right;\">    nan</td><td style=\"text-align: right;\"> nan</td><td style=\"text-align: right;\">     1</td><td style=\"text-align: right;\">  nan</td><td style=\"text-align: right;\">    330</td></tr>\n",
       "<tr><td style=\"text-align: right;\">        0</td><td style=\"text-align: right;\">    3.06456e+06</td><td style=\"text-align: right;\">     1.70158e+06</td><td>T   </td><td>T   </td><td>T   </td><td>nan </td><td>F   </td><td>F   </td><td>T   </td><td>T   </td><td>W          </td><td>nan     </td><td>nan    </td><td>nan     </td><td>nan    </td><td>nan     </td><td>nan    </td><td>nan    </td><td>nan    </td><td>nan    </td><td style=\"text-align: right;\">    0</td><td style=\"text-align: right;\">   0</td><td style=\"text-align: right;\">   0</td><td style=\"text-align: right;\">   0</td><td style=\"text-align: right;\"> nan</td><td style=\"text-align: right;\"> 173</td><td style=\"text-align: right;\"> nan</td><td style=\"text-align: right;\"> nan</td><td style=\"text-align: right;\">   1</td><td style=\"text-align: right;\">     0</td><td style=\"text-align: right;\">     1</td><td style=\"text-align: right;\">     1</td><td style=\"text-align: right;\">     1</td><td style=\"text-align: right;\">     1</td><td style=\"text-align: right;\">     1</td><td style=\"text-align: right;\">     1</td><td style=\"text-align: right;\">     1</td><td style=\"text-align: right;\">     1</td><td style=\"text-align: right;\">     1</td><td style=\"text-align: right;\">     1</td><td style=\"text-align: right;\">     1</td><td style=\"text-align: right;\">     0</td><td style=\"text-align: right;\">     0</td><td style=\"text-align: right;\">     0</td><td style=\"text-align: right;\">     0</td><td style=\"text-align: right;\">     0</td><td style=\"text-align: right;\">    0</td><td style=\"text-align: right;\">    0</td><td style=\"text-align: right;\">   nan</td><td style=\"text-align: right;\">    0</td><td style=\"text-align: right;\">   nan</td><td style=\"text-align: right;\">   nan</td><td style=\"text-align: right;\">   nan</td><td style=\"text-align: right;\">   nan</td><td style=\"text-align: right;\">   nan</td><td style=\"text-align: right;\">    0</td><td style=\"text-align: right;\">   nan</td><td style=\"text-align: right;\">   nan</td><td style=\"text-align: right;\">   nan</td><td style=\"text-align: right;\">   nan</td><td style=\"text-align: right;\">   nan</td><td style=\"text-align: right;\">   nan</td><td style=\"text-align: right;\">   nan</td><td style=\"text-align: right;\">   nan</td><td style=\"text-align: right;\">   nan</td><td style=\"text-align: right;\">   nan</td><td style=\"text-align: right;\">   nan</td><td style=\"text-align: right;\">   nan</td><td style=\"text-align: right;\">   nan</td><td style=\"text-align: right;\">   nan</td><td style=\"text-align: right;\">   nan</td><td style=\"text-align: right;\">   nan</td><td style=\"text-align: right;\">   nan</td><td style=\"text-align: right;\">   nan</td><td style=\"text-align: right;\">   nan</td><td style=\"text-align: right;\">   nan</td><td style=\"text-align: right;\">   nan</td><td style=\"text-align: right;\">   nan</td><td style=\"text-align: right;\">   nan</td><td style=\"text-align: right;\">   nan</td><td style=\"text-align: right;\">   nan</td><td style=\"text-align: right;\">    1</td><td style=\"text-align: right;\">   nan</td><td style=\"text-align: right;\">   nan</td><td style=\"text-align: right;\">   nan</td><td style=\"text-align: right;\">    1</td><td style=\"text-align: right;\">   nan</td><td style=\"text-align: right;\">   nan</td><td style=\"text-align: right;\">   nan</td><td style=\"text-align: right;\">   nan</td><td style=\"text-align: right;\">   nan</td><td style=\"text-align: right;\">   nan</td><td style=\"text-align: right;\">   nan</td><td style=\"text-align: right;\">   nan</td><td style=\"text-align: right;\">   nan</td><td style=\"text-align: right;\">   nan</td><td style=\"text-align: right;\">   nan</td><td style=\"text-align: right;\">   nan</td><td style=\"text-align: right;\">   nan</td><td style=\"text-align: right;\">   nan</td><td style=\"text-align: right;\">   nan</td><td style=\"text-align: right;\">   nan</td><td style=\"text-align: right;\">   nan</td><td style=\"text-align: right;\">     1</td><td style=\"text-align: right;\">     0</td><td style=\"text-align: right;\">     1</td><td style=\"text-align: right;\">     0</td><td style=\"text-align: right;\">    0</td><td style=\"text-align: right;\">    0</td><td style=\"text-align: right;\">    0</td><td style=\"text-align: right;\">    1</td><td style=\"text-align: right;\">    1</td><td style=\"text-align: right;\">    0</td><td style=\"text-align: right;\">    0</td><td style=\"text-align: right;\">    0</td><td style=\"text-align: right;\">    0</td><td style=\"text-align: right;\">    0</td><td style=\"text-align: right;\">    0</td><td style=\"text-align: right;\">    0</td><td style=\"text-align: right;\">    0</td><td style=\"text-align: right;\">    0</td><td style=\"text-align: right;\">    0</td><td style=\"text-align: right;\">    0</td><td style=\"text-align: right;\">    0</td><td style=\"text-align: right;\">    1</td><td style=\"text-align: right;\">    1</td><td style=\"text-align: right;\">    0</td><td style=\"text-align: right;\">     87</td><td style=\"text-align: right;\">    nan</td><td style=\"text-align: right;\">    nan</td><td style=\"text-align: right;\"> nan</td><td style=\"text-align: right;\">   nan</td><td style=\"text-align: right;\">    0</td><td style=\"text-align: right;\">    204</td></tr>\n",
       "<tr><td style=\"text-align: right;\">        0</td><td style=\"text-align: right;\">    3.36484e+06</td><td style=\"text-align: right;\">     9.46339e+06</td><td>T   </td><td>T   </td><td>T   </td><td>nan </td><td>T   </td><td>F   </td><td>F   </td><td>T   </td><td>W          </td><td>nan     </td><td>nan    </td><td>nan     </td><td>nan    </td><td>nan     </td><td>nan    </td><td>nan    </td><td>nan    </td><td>nan    </td><td style=\"text-align: right;\">    0</td><td style=\"text-align: right;\">   0</td><td style=\"text-align: right;\">   0</td><td style=\"text-align: right;\">   0</td><td style=\"text-align: right;\">  24</td><td style=\"text-align: right;\">  24</td><td style=\"text-align: right;\"> nan</td><td style=\"text-align: right;\"> nan</td><td style=\"text-align: right;\">   1</td><td style=\"text-align: right;\">     0</td><td style=\"text-align: right;\">     1</td><td style=\"text-align: right;\">     1</td><td style=\"text-align: right;\">     1</td><td style=\"text-align: right;\">     1</td><td style=\"text-align: right;\">     1</td><td style=\"text-align: right;\">     1</td><td style=\"text-align: right;\">     1</td><td style=\"text-align: right;\">     1</td><td style=\"text-align: right;\">     1</td><td style=\"text-align: right;\">     1</td><td style=\"text-align: right;\">     1</td><td style=\"text-align: right;\">     0</td><td style=\"text-align: right;\">     0</td><td style=\"text-align: right;\">     0</td><td style=\"text-align: right;\">     0</td><td style=\"text-align: right;\">     0</td><td style=\"text-align: right;\">    0</td><td style=\"text-align: right;\">    0</td><td style=\"text-align: right;\">   nan</td><td style=\"text-align: right;\">    0</td><td style=\"text-align: right;\">   nan</td><td style=\"text-align: right;\">   nan</td><td style=\"text-align: right;\">   nan</td><td style=\"text-align: right;\">   nan</td><td style=\"text-align: right;\">   nan</td><td style=\"text-align: right;\">    0</td><td style=\"text-align: right;\">   nan</td><td style=\"text-align: right;\">   nan</td><td style=\"text-align: right;\">   nan</td><td style=\"text-align: right;\">   nan</td><td style=\"text-align: right;\">   nan</td><td style=\"text-align: right;\">   nan</td><td style=\"text-align: right;\">   nan</td><td style=\"text-align: right;\">   nan</td><td style=\"text-align: right;\">   nan</td><td style=\"text-align: right;\">   nan</td><td style=\"text-align: right;\">   nan</td><td style=\"text-align: right;\">   nan</td><td style=\"text-align: right;\">   nan</td><td style=\"text-align: right;\">   nan</td><td style=\"text-align: right;\">   nan</td><td style=\"text-align: right;\">   nan</td><td style=\"text-align: right;\">   nan</td><td style=\"text-align: right;\">   nan</td><td style=\"text-align: right;\">   nan</td><td style=\"text-align: right;\">   nan</td><td style=\"text-align: right;\">   nan</td><td style=\"text-align: right;\">   nan</td><td style=\"text-align: right;\">   nan</td><td style=\"text-align: right;\">   nan</td><td style=\"text-align: right;\">   nan</td><td style=\"text-align: right;\">    1</td><td style=\"text-align: right;\">   nan</td><td style=\"text-align: right;\">   nan</td><td style=\"text-align: right;\">   nan</td><td style=\"text-align: right;\">    1</td><td style=\"text-align: right;\">   nan</td><td style=\"text-align: right;\">   nan</td><td style=\"text-align: right;\">   nan</td><td style=\"text-align: right;\">   nan</td><td style=\"text-align: right;\">   nan</td><td style=\"text-align: right;\">   nan</td><td style=\"text-align: right;\">   nan</td><td style=\"text-align: right;\">   nan</td><td style=\"text-align: right;\">   nan</td><td style=\"text-align: right;\">   nan</td><td style=\"text-align: right;\">   nan</td><td style=\"text-align: right;\">   nan</td><td style=\"text-align: right;\">   nan</td><td style=\"text-align: right;\">   nan</td><td style=\"text-align: right;\">   nan</td><td style=\"text-align: right;\">   nan</td><td style=\"text-align: right;\">   nan</td><td style=\"text-align: right;\">     1</td><td style=\"text-align: right;\">     0</td><td style=\"text-align: right;\">     1</td><td style=\"text-align: right;\">     0</td><td style=\"text-align: right;\">    0</td><td style=\"text-align: right;\">    0</td><td style=\"text-align: right;\">    0</td><td style=\"text-align: right;\">    1</td><td style=\"text-align: right;\">    1</td><td style=\"text-align: right;\">    0</td><td style=\"text-align: right;\">    0</td><td style=\"text-align: right;\">    0</td><td style=\"text-align: right;\">    0</td><td style=\"text-align: right;\">    0</td><td style=\"text-align: right;\">    0</td><td style=\"text-align: right;\">    0</td><td style=\"text-align: right;\">    0</td><td style=\"text-align: right;\">    0</td><td style=\"text-align: right;\">    0</td><td style=\"text-align: right;\">    0</td><td style=\"text-align: right;\">    0</td><td style=\"text-align: right;\">    1</td><td style=\"text-align: right;\">    1</td><td style=\"text-align: right;\">    0</td><td style=\"text-align: right;\">     87</td><td style=\"text-align: right;\">    nan</td><td style=\"text-align: right;\">    nan</td><td style=\"text-align: right;\"> nan</td><td style=\"text-align: right;\">   nan</td><td style=\"text-align: right;\">    0</td><td style=\"text-align: right;\">    204</td></tr>\n",
       "<tr><td style=\"text-align: right;\">        0</td><td style=\"text-align: right;\">    3.32303e+06</td><td style=\"text-align: right;\">     8.2755e+06 </td><td>nan </td><td>nan </td><td>nan </td><td>nan </td><td>F   </td><td>nan </td><td>nan </td><td>nan </td><td>W          </td><td>nan     </td><td>nan    </td><td>nan     </td><td>nan    </td><td>nan     </td><td>nan    </td><td>nan    </td><td>nan    </td><td>nan    </td><td style=\"text-align: right;\">    0</td><td style=\"text-align: right;\">   0</td><td style=\"text-align: right;\">   0</td><td style=\"text-align: right;\">   0</td><td style=\"text-align: right;\"> nan</td><td style=\"text-align: right;\"> nan</td><td style=\"text-align: right;\"> nan</td><td style=\"text-align: right;\"> nan</td><td style=\"text-align: right;\"> nan</td><td style=\"text-align: right;\">     0</td><td style=\"text-align: right;\">     1</td><td style=\"text-align: right;\">     1</td><td style=\"text-align: right;\">     1</td><td style=\"text-align: right;\">     1</td><td style=\"text-align: right;\">     1</td><td style=\"text-align: right;\">     1</td><td style=\"text-align: right;\">     1</td><td style=\"text-align: right;\">     1</td><td style=\"text-align: right;\">     1</td><td style=\"text-align: right;\">     1</td><td style=\"text-align: right;\">     1</td><td style=\"text-align: right;\">     0</td><td style=\"text-align: right;\">     0</td><td style=\"text-align: right;\">     0</td><td style=\"text-align: right;\">     0</td><td style=\"text-align: right;\">     0</td><td style=\"text-align: right;\">    0</td><td style=\"text-align: right;\">    0</td><td style=\"text-align: right;\">   nan</td><td style=\"text-align: right;\">    0</td><td style=\"text-align: right;\">   nan</td><td style=\"text-align: right;\">   nan</td><td style=\"text-align: right;\">   nan</td><td style=\"text-align: right;\">   nan</td><td style=\"text-align: right;\">   nan</td><td style=\"text-align: right;\">    0</td><td style=\"text-align: right;\">   nan</td><td style=\"text-align: right;\">   nan</td><td style=\"text-align: right;\">   nan</td><td style=\"text-align: right;\">   nan</td><td style=\"text-align: right;\">   nan</td><td style=\"text-align: right;\">   nan</td><td style=\"text-align: right;\">   nan</td><td style=\"text-align: right;\">   nan</td><td style=\"text-align: right;\">   nan</td><td style=\"text-align: right;\">   nan</td><td style=\"text-align: right;\">   nan</td><td style=\"text-align: right;\">   nan</td><td style=\"text-align: right;\">   nan</td><td style=\"text-align: right;\">   nan</td><td style=\"text-align: right;\">   nan</td><td style=\"text-align: right;\">   nan</td><td style=\"text-align: right;\">   nan</td><td style=\"text-align: right;\">   nan</td><td style=\"text-align: right;\">   nan</td><td style=\"text-align: right;\">   nan</td><td style=\"text-align: right;\">   nan</td><td style=\"text-align: right;\">   nan</td><td style=\"text-align: right;\">   nan</td><td style=\"text-align: right;\">   nan</td><td style=\"text-align: right;\">   nan</td><td style=\"text-align: right;\">    1</td><td style=\"text-align: right;\">   nan</td><td style=\"text-align: right;\">   nan</td><td style=\"text-align: right;\">   nan</td><td style=\"text-align: right;\">    1</td><td style=\"text-align: right;\">   nan</td><td style=\"text-align: right;\">   nan</td><td style=\"text-align: right;\">   nan</td><td style=\"text-align: right;\">   nan</td><td style=\"text-align: right;\">   nan</td><td style=\"text-align: right;\">   nan</td><td style=\"text-align: right;\">   nan</td><td style=\"text-align: right;\">   nan</td><td style=\"text-align: right;\">   nan</td><td style=\"text-align: right;\">   nan</td><td style=\"text-align: right;\">   nan</td><td style=\"text-align: right;\">   nan</td><td style=\"text-align: right;\">   nan</td><td style=\"text-align: right;\">   nan</td><td style=\"text-align: right;\">   nan</td><td style=\"text-align: right;\">   nan</td><td style=\"text-align: right;\">   nan</td><td style=\"text-align: right;\">     1</td><td style=\"text-align: right;\">     0</td><td style=\"text-align: right;\">     1</td><td style=\"text-align: right;\">     0</td><td style=\"text-align: right;\">    0</td><td style=\"text-align: right;\">    0</td><td style=\"text-align: right;\">  nan</td><td style=\"text-align: right;\">  nan</td><td style=\"text-align: right;\">  nan</td><td style=\"text-align: right;\">  nan</td><td style=\"text-align: right;\">    0</td><td style=\"text-align: right;\">    0</td><td style=\"text-align: right;\">    0</td><td style=\"text-align: right;\">    0</td><td style=\"text-align: right;\">    0</td><td style=\"text-align: right;\">    0</td><td style=\"text-align: right;\">    0</td><td style=\"text-align: right;\">    0</td><td style=\"text-align: right;\">    0</td><td style=\"text-align: right;\">    0</td><td style=\"text-align: right;\">    0</td><td style=\"text-align: right;\">    1</td><td style=\"text-align: right;\">    1</td><td style=\"text-align: right;\">    0</td><td style=\"text-align: right;\">     87</td><td style=\"text-align: right;\">    nan</td><td style=\"text-align: right;\">    nan</td><td style=\"text-align: right;\"> nan</td><td style=\"text-align: right;\">   nan</td><td style=\"text-align: right;\">  nan</td><td style=\"text-align: right;\">    205</td></tr>\n",
       "<tr><td style=\"text-align: right;\">        0</td><td style=\"text-align: right;\">    3.50371e+06</td><td style=\"text-align: right;\">     1.35406e+07</td><td>T   </td><td>T   </td><td>T   </td><td>M0  </td><td>F   </td><td>F   </td><td>F   </td><td>T   </td><td>W          </td><td>nan     </td><td>nan    </td><td>nan     </td><td>nan    </td><td>nan     </td><td>nan    </td><td>nan    </td><td>nan    </td><td>nan    </td><td style=\"text-align: right;\">    0</td><td style=\"text-align: right;\">   0</td><td style=\"text-align: right;\">   0</td><td style=\"text-align: right;\">   0</td><td style=\"text-align: right;\">   0</td><td style=\"text-align: right;\">   0</td><td style=\"text-align: right;\"> nan</td><td style=\"text-align: right;\"> nan</td><td style=\"text-align: right;\">   1</td><td style=\"text-align: right;\">     0</td><td style=\"text-align: right;\">     1</td><td style=\"text-align: right;\">     1</td><td style=\"text-align: right;\">     1</td><td style=\"text-align: right;\">     1</td><td style=\"text-align: right;\">     1</td><td style=\"text-align: right;\">     1</td><td style=\"text-align: right;\">     1</td><td style=\"text-align: right;\">     1</td><td style=\"text-align: right;\">     1</td><td style=\"text-align: right;\">     1</td><td style=\"text-align: right;\">     1</td><td style=\"text-align: right;\">    59</td><td style=\"text-align: right;\">    59</td><td style=\"text-align: right;\">     0</td><td style=\"text-align: right;\">     0</td><td style=\"text-align: right;\">     0</td><td style=\"text-align: right;\">    0</td><td style=\"text-align: right;\">    0</td><td style=\"text-align: right;\">   nan</td><td style=\"text-align: right;\">    0</td><td style=\"text-align: right;\">   nan</td><td style=\"text-align: right;\">   nan</td><td style=\"text-align: right;\">   nan</td><td style=\"text-align: right;\">   nan</td><td style=\"text-align: right;\">   nan</td><td style=\"text-align: right;\">    0</td><td style=\"text-align: right;\">   nan</td><td style=\"text-align: right;\">   nan</td><td style=\"text-align: right;\">   nan</td><td style=\"text-align: right;\">   nan</td><td style=\"text-align: right;\">   nan</td><td style=\"text-align: right;\">   nan</td><td style=\"text-align: right;\">   nan</td><td style=\"text-align: right;\">   nan</td><td style=\"text-align: right;\">   nan</td><td style=\"text-align: right;\">   nan</td><td style=\"text-align: right;\">   nan</td><td style=\"text-align: right;\">   nan</td><td style=\"text-align: right;\">   nan</td><td style=\"text-align: right;\">   nan</td><td style=\"text-align: right;\">   nan</td><td style=\"text-align: right;\">   nan</td><td style=\"text-align: right;\">   nan</td><td style=\"text-align: right;\">   nan</td><td style=\"text-align: right;\">   nan</td><td style=\"text-align: right;\">   nan</td><td style=\"text-align: right;\">   nan</td><td style=\"text-align: right;\">   nan</td><td style=\"text-align: right;\">   nan</td><td style=\"text-align: right;\">   nan</td><td style=\"text-align: right;\">   nan</td><td style=\"text-align: right;\">    1</td><td style=\"text-align: right;\">   nan</td><td style=\"text-align: right;\">   nan</td><td style=\"text-align: right;\">   nan</td><td style=\"text-align: right;\">    1</td><td style=\"text-align: right;\">   nan</td><td style=\"text-align: right;\">   nan</td><td style=\"text-align: right;\">   nan</td><td style=\"text-align: right;\">   nan</td><td style=\"text-align: right;\">   nan</td><td style=\"text-align: right;\">   nan</td><td style=\"text-align: right;\">   nan</td><td style=\"text-align: right;\">   nan</td><td style=\"text-align: right;\">   nan</td><td style=\"text-align: right;\">   nan</td><td style=\"text-align: right;\">   nan</td><td style=\"text-align: right;\">   nan</td><td style=\"text-align: right;\">   nan</td><td style=\"text-align: right;\">   nan</td><td style=\"text-align: right;\">   nan</td><td style=\"text-align: right;\">   nan</td><td style=\"text-align: right;\">   nan</td><td style=\"text-align: right;\">     2</td><td style=\"text-align: right;\">     0</td><td style=\"text-align: right;\">     1</td><td style=\"text-align: right;\">    59</td><td style=\"text-align: right;\">    0</td><td style=\"text-align: right;\">    0</td><td style=\"text-align: right;\">    0</td><td style=\"text-align: right;\">    1</td><td style=\"text-align: right;\">    1</td><td style=\"text-align: right;\">    0</td><td style=\"text-align: right;\">    0</td><td style=\"text-align: right;\">    0</td><td style=\"text-align: right;\">    0</td><td style=\"text-align: right;\">    0</td><td style=\"text-align: right;\">    0</td><td style=\"text-align: right;\">    0</td><td style=\"text-align: right;\">    0</td><td style=\"text-align: right;\">    0</td><td style=\"text-align: right;\">    0</td><td style=\"text-align: right;\">    0</td><td style=\"text-align: right;\">    0</td><td style=\"text-align: right;\">    1</td><td style=\"text-align: right;\">    1</td><td style=\"text-align: right;\">    0</td><td style=\"text-align: right;\">     87</td><td style=\"text-align: right;\">    nan</td><td style=\"text-align: right;\">    nan</td><td style=\"text-align: right;\"> nan</td><td style=\"text-align: right;\">   nan</td><td style=\"text-align: right;\">    0</td><td style=\"text-align: right;\">    204</td></tr>\n",
       "<tr><td style=\"text-align: right;\">        0</td><td style=\"text-align: right;\">    3.03828e+06</td><td style=\"text-align: right;\">     1.20532e+06</td><td>T   </td><td>F   </td><td>F   </td><td>M0  </td><td>F   </td><td>F   </td><td>F   </td><td>F   </td><td>W          </td><td>nan     </td><td>nan    </td><td>nan     </td><td>nan    </td><td>nan     </td><td>nan    </td><td>nan    </td><td>nan    </td><td>nan    </td><td style=\"text-align: right;\">    0</td><td style=\"text-align: right;\">   0</td><td style=\"text-align: right;\">   0</td><td style=\"text-align: right;\">   0</td><td style=\"text-align: right;\">   2</td><td style=\"text-align: right;\">   2</td><td style=\"text-align: right;\"> nan</td><td style=\"text-align: right;\"> nan</td><td style=\"text-align: right;\">   1</td><td style=\"text-align: right;\">     0</td><td style=\"text-align: right;\">     1</td><td style=\"text-align: right;\">     1</td><td style=\"text-align: right;\">     1</td><td style=\"text-align: right;\">     1</td><td style=\"text-align: right;\">     1</td><td style=\"text-align: right;\">     1</td><td style=\"text-align: right;\">     1</td><td style=\"text-align: right;\">     1</td><td style=\"text-align: right;\">     1</td><td style=\"text-align: right;\">     1</td><td style=\"text-align: right;\">     1</td><td style=\"text-align: right;\">     0</td><td style=\"text-align: right;\">    54</td><td style=\"text-align: right;\">     0</td><td style=\"text-align: right;\">     0</td><td style=\"text-align: right;\">     0</td><td style=\"text-align: right;\">    0</td><td style=\"text-align: right;\">    0</td><td style=\"text-align: right;\">   nan</td><td style=\"text-align: right;\">    0</td><td style=\"text-align: right;\">   nan</td><td style=\"text-align: right;\">   nan</td><td style=\"text-align: right;\">   nan</td><td style=\"text-align: right;\">   nan</td><td style=\"text-align: right;\">   nan</td><td style=\"text-align: right;\">    0</td><td style=\"text-align: right;\">   nan</td><td style=\"text-align: right;\">   nan</td><td style=\"text-align: right;\">   nan</td><td style=\"text-align: right;\">   nan</td><td style=\"text-align: right;\">   nan</td><td style=\"text-align: right;\">   nan</td><td style=\"text-align: right;\">   nan</td><td style=\"text-align: right;\">   nan</td><td style=\"text-align: right;\">   nan</td><td style=\"text-align: right;\">   nan</td><td style=\"text-align: right;\">   nan</td><td style=\"text-align: right;\">   nan</td><td style=\"text-align: right;\">   nan</td><td style=\"text-align: right;\">   nan</td><td style=\"text-align: right;\">   nan</td><td style=\"text-align: right;\">   nan</td><td style=\"text-align: right;\">   nan</td><td style=\"text-align: right;\">   nan</td><td style=\"text-align: right;\">   nan</td><td style=\"text-align: right;\">   nan</td><td style=\"text-align: right;\">   nan</td><td style=\"text-align: right;\">   nan</td><td style=\"text-align: right;\">   nan</td><td style=\"text-align: right;\">   nan</td><td style=\"text-align: right;\">   nan</td><td style=\"text-align: right;\">    1</td><td style=\"text-align: right;\">   nan</td><td style=\"text-align: right;\">   nan</td><td style=\"text-align: right;\">   nan</td><td style=\"text-align: right;\">    1</td><td style=\"text-align: right;\">   nan</td><td style=\"text-align: right;\">   nan</td><td style=\"text-align: right;\">   nan</td><td style=\"text-align: right;\">   nan</td><td style=\"text-align: right;\">   nan</td><td style=\"text-align: right;\">   nan</td><td style=\"text-align: right;\">   nan</td><td style=\"text-align: right;\">   nan</td><td style=\"text-align: right;\">   nan</td><td style=\"text-align: right;\">   nan</td><td style=\"text-align: right;\">   nan</td><td style=\"text-align: right;\">   nan</td><td style=\"text-align: right;\">   nan</td><td style=\"text-align: right;\">   nan</td><td style=\"text-align: right;\">   nan</td><td style=\"text-align: right;\">   nan</td><td style=\"text-align: right;\">   nan</td><td style=\"text-align: right;\">     1</td><td style=\"text-align: right;\">     0</td><td style=\"text-align: right;\">     1</td><td style=\"text-align: right;\">    54</td><td style=\"text-align: right;\">    0</td><td style=\"text-align: right;\">    0</td><td style=\"text-align: right;\">    0</td><td style=\"text-align: right;\">    1</td><td style=\"text-align: right;\">    1</td><td style=\"text-align: right;\">    0</td><td style=\"text-align: right;\">    0</td><td style=\"text-align: right;\">    0</td><td style=\"text-align: right;\">    0</td><td style=\"text-align: right;\">    0</td><td style=\"text-align: right;\">    0</td><td style=\"text-align: right;\">    0</td><td style=\"text-align: right;\">    0</td><td style=\"text-align: right;\">    0</td><td style=\"text-align: right;\">    0</td><td style=\"text-align: right;\">    0</td><td style=\"text-align: right;\">    0</td><td style=\"text-align: right;\">    1</td><td style=\"text-align: right;\">    1</td><td style=\"text-align: right;\">    0</td><td style=\"text-align: right;\">     87</td><td style=\"text-align: right;\">    nan</td><td style=\"text-align: right;\">    nan</td><td style=\"text-align: right;\"> nan</td><td style=\"text-align: right;\">   nan</td><td style=\"text-align: right;\">    0</td><td style=\"text-align: right;\">    264</td></tr>\n",
       "<tr><td style=\"text-align: right;\">        0</td><td style=\"text-align: right;\">    3.10498e+06</td><td style=\"text-align: right;\">     2.30836e+06</td><td>nan </td><td>nan </td><td>nan </td><td>M0  </td><td>F   </td><td>nan </td><td>nan </td><td>nan </td><td>W          </td><td>nan     </td><td>nan    </td><td>nan     </td><td>nan    </td><td>nan     </td><td>nan    </td><td>nan    </td><td>nan    </td><td>nan    </td><td style=\"text-align: right;\">    0</td><td style=\"text-align: right;\">   0</td><td style=\"text-align: right;\">   0</td><td style=\"text-align: right;\">   0</td><td style=\"text-align: right;\">   1</td><td style=\"text-align: right;\"> nan</td><td style=\"text-align: right;\"> nan</td><td style=\"text-align: right;\"> nan</td><td style=\"text-align: right;\"> nan</td><td style=\"text-align: right;\">     0</td><td style=\"text-align: right;\">     1</td><td style=\"text-align: right;\">     1</td><td style=\"text-align: right;\">     1</td><td style=\"text-align: right;\">     1</td><td style=\"text-align: right;\">     1</td><td style=\"text-align: right;\">     1</td><td style=\"text-align: right;\">     1</td><td style=\"text-align: right;\">     1</td><td style=\"text-align: right;\">     1</td><td style=\"text-align: right;\">     1</td><td style=\"text-align: right;\">     1</td><td style=\"text-align: right;\">    77</td><td style=\"text-align: right;\">    77</td><td style=\"text-align: right;\">     0</td><td style=\"text-align: right;\">     0</td><td style=\"text-align: right;\">     0</td><td style=\"text-align: right;\">    0</td><td style=\"text-align: right;\">    0</td><td style=\"text-align: right;\">   nan</td><td style=\"text-align: right;\">    0</td><td style=\"text-align: right;\">   nan</td><td style=\"text-align: right;\">   nan</td><td style=\"text-align: right;\">   nan</td><td style=\"text-align: right;\">   nan</td><td style=\"text-align: right;\">   nan</td><td style=\"text-align: right;\">    0</td><td style=\"text-align: right;\">   nan</td><td style=\"text-align: right;\">   nan</td><td style=\"text-align: right;\">   nan</td><td style=\"text-align: right;\">   nan</td><td style=\"text-align: right;\">   nan</td><td style=\"text-align: right;\">   nan</td><td style=\"text-align: right;\">   nan</td><td style=\"text-align: right;\">   nan</td><td style=\"text-align: right;\">   nan</td><td style=\"text-align: right;\">   nan</td><td style=\"text-align: right;\">   nan</td><td style=\"text-align: right;\">   nan</td><td style=\"text-align: right;\">   nan</td><td style=\"text-align: right;\">   nan</td><td style=\"text-align: right;\">   nan</td><td style=\"text-align: right;\">   nan</td><td style=\"text-align: right;\">   nan</td><td style=\"text-align: right;\">   nan</td><td style=\"text-align: right;\">   nan</td><td style=\"text-align: right;\">   nan</td><td style=\"text-align: right;\">   nan</td><td style=\"text-align: right;\">   nan</td><td style=\"text-align: right;\">   nan</td><td style=\"text-align: right;\">   nan</td><td style=\"text-align: right;\">   nan</td><td style=\"text-align: right;\">    1</td><td style=\"text-align: right;\">   nan</td><td style=\"text-align: right;\">   nan</td><td style=\"text-align: right;\">   nan</td><td style=\"text-align: right;\">    1</td><td style=\"text-align: right;\">   nan</td><td style=\"text-align: right;\">   nan</td><td style=\"text-align: right;\">   nan</td><td style=\"text-align: right;\">   nan</td><td style=\"text-align: right;\">   nan</td><td style=\"text-align: right;\">   nan</td><td style=\"text-align: right;\">   nan</td><td style=\"text-align: right;\">   nan</td><td style=\"text-align: right;\">   nan</td><td style=\"text-align: right;\">   nan</td><td style=\"text-align: right;\">   nan</td><td style=\"text-align: right;\">   nan</td><td style=\"text-align: right;\">   nan</td><td style=\"text-align: right;\">   nan</td><td style=\"text-align: right;\">   nan</td><td style=\"text-align: right;\">   nan</td><td style=\"text-align: right;\">   nan</td><td style=\"text-align: right;\">     2</td><td style=\"text-align: right;\">     0</td><td style=\"text-align: right;\">     1</td><td style=\"text-align: right;\">    77</td><td style=\"text-align: right;\">    0</td><td style=\"text-align: right;\">    0</td><td style=\"text-align: right;\">    0</td><td style=\"text-align: right;\">    1</td><td style=\"text-align: right;\">    1</td><td style=\"text-align: right;\">    0</td><td style=\"text-align: right;\">    0</td><td style=\"text-align: right;\">    0</td><td style=\"text-align: right;\">    0</td><td style=\"text-align: right;\">    0</td><td style=\"text-align: right;\">    0</td><td style=\"text-align: right;\">    0</td><td style=\"text-align: right;\">    0</td><td style=\"text-align: right;\">    0</td><td style=\"text-align: right;\">    0</td><td style=\"text-align: right;\">    0</td><td style=\"text-align: right;\">    0</td><td style=\"text-align: right;\">    1</td><td style=\"text-align: right;\">    1</td><td style=\"text-align: right;\">    0</td><td style=\"text-align: right;\">     87</td><td style=\"text-align: right;\">    nan</td><td style=\"text-align: right;\">    nan</td><td style=\"text-align: right;\"> nan</td><td style=\"text-align: right;\">   nan</td><td style=\"text-align: right;\">    0</td><td style=\"text-align: right;\">    231</td></tr>\n",
       "<tr><td style=\"text-align: right;\">        0</td><td style=\"text-align: right;\">    3.44596e+06</td><td style=\"text-align: right;\">     1.17548e+07</td><td>T   </td><td>T   </td><td>T   </td><td>nan </td><td>F   </td><td>F   </td><td>T   </td><td>T   </td><td>W          </td><td>nan     </td><td>nan    </td><td>nan     </td><td>nan    </td><td>nan     </td><td>nan    </td><td>nan    </td><td>nan    </td><td>nan    </td><td style=\"text-align: right;\">    0</td><td style=\"text-align: right;\">   0</td><td style=\"text-align: right;\">   0</td><td style=\"text-align: right;\">   0</td><td style=\"text-align: right;\">  48</td><td style=\"text-align: right;\">   9</td><td style=\"text-align: right;\"> nan</td><td style=\"text-align: right;\"> nan</td><td style=\"text-align: right;\">   1</td><td style=\"text-align: right;\">     0</td><td style=\"text-align: right;\">     1</td><td style=\"text-align: right;\">     1</td><td style=\"text-align: right;\">     1</td><td style=\"text-align: right;\">     1</td><td style=\"text-align: right;\">     1</td><td style=\"text-align: right;\">     1</td><td style=\"text-align: right;\">     1</td><td style=\"text-align: right;\">     1</td><td style=\"text-align: right;\">     1</td><td style=\"text-align: right;\">     1</td><td style=\"text-align: right;\">     1</td><td style=\"text-align: right;\">     0</td><td style=\"text-align: right;\">     0</td><td style=\"text-align: right;\">     0</td><td style=\"text-align: right;\">     0</td><td style=\"text-align: right;\">     0</td><td style=\"text-align: right;\">    0</td><td style=\"text-align: right;\">    0</td><td style=\"text-align: right;\">   nan</td><td style=\"text-align: right;\">    0</td><td style=\"text-align: right;\">   nan</td><td style=\"text-align: right;\">   nan</td><td style=\"text-align: right;\">   nan</td><td style=\"text-align: right;\">   nan</td><td style=\"text-align: right;\">   nan</td><td style=\"text-align: right;\">    0</td><td style=\"text-align: right;\">   nan</td><td style=\"text-align: right;\">   nan</td><td style=\"text-align: right;\">   nan</td><td style=\"text-align: right;\">   nan</td><td style=\"text-align: right;\">   nan</td><td style=\"text-align: right;\">   nan</td><td style=\"text-align: right;\">   nan</td><td style=\"text-align: right;\">   nan</td><td style=\"text-align: right;\">   nan</td><td style=\"text-align: right;\">   nan</td><td style=\"text-align: right;\">   nan</td><td style=\"text-align: right;\">   nan</td><td style=\"text-align: right;\">   nan</td><td style=\"text-align: right;\">   nan</td><td style=\"text-align: right;\">   nan</td><td style=\"text-align: right;\">   nan</td><td style=\"text-align: right;\">   nan</td><td style=\"text-align: right;\">   nan</td><td style=\"text-align: right;\">   nan</td><td style=\"text-align: right;\">   nan</td><td style=\"text-align: right;\">   nan</td><td style=\"text-align: right;\">   nan</td><td style=\"text-align: right;\">   nan</td><td style=\"text-align: right;\">   nan</td><td style=\"text-align: right;\">   nan</td><td style=\"text-align: right;\">    1</td><td style=\"text-align: right;\">   nan</td><td style=\"text-align: right;\">   nan</td><td style=\"text-align: right;\">   nan</td><td style=\"text-align: right;\">    1</td><td style=\"text-align: right;\">   nan</td><td style=\"text-align: right;\">   nan</td><td style=\"text-align: right;\">   nan</td><td style=\"text-align: right;\">   nan</td><td style=\"text-align: right;\">   nan</td><td style=\"text-align: right;\">   nan</td><td style=\"text-align: right;\">   nan</td><td style=\"text-align: right;\">   nan</td><td style=\"text-align: right;\">   nan</td><td style=\"text-align: right;\">   nan</td><td style=\"text-align: right;\">   nan</td><td style=\"text-align: right;\">   nan</td><td style=\"text-align: right;\">   nan</td><td style=\"text-align: right;\">   nan</td><td style=\"text-align: right;\">   nan</td><td style=\"text-align: right;\">   nan</td><td style=\"text-align: right;\">   nan</td><td style=\"text-align: right;\">     0</td><td style=\"text-align: right;\">     0</td><td style=\"text-align: right;\">     1</td><td style=\"text-align: right;\">     0</td><td style=\"text-align: right;\">    0</td><td style=\"text-align: right;\">    0</td><td style=\"text-align: right;\">    0</td><td style=\"text-align: right;\">    1</td><td style=\"text-align: right;\">    1</td><td style=\"text-align: right;\">    0</td><td style=\"text-align: right;\">    0</td><td style=\"text-align: right;\">    0</td><td style=\"text-align: right;\">    0</td><td style=\"text-align: right;\">    0</td><td style=\"text-align: right;\">    0</td><td style=\"text-align: right;\">    0</td><td style=\"text-align: right;\">    0</td><td style=\"text-align: right;\">    0</td><td style=\"text-align: right;\">    0</td><td style=\"text-align: right;\">    0</td><td style=\"text-align: right;\">    0</td><td style=\"text-align: right;\">    1</td><td style=\"text-align: right;\">    1</td><td style=\"text-align: right;\">    0</td><td style=\"text-align: right;\">     87</td><td style=\"text-align: right;\">    nan</td><td style=\"text-align: right;\">    nan</td><td style=\"text-align: right;\"> nan</td><td style=\"text-align: right;\">   nan</td><td style=\"text-align: right;\">    0</td><td style=\"text-align: right;\">    184</td></tr>\n",
       "<tr><td style=\"text-align: right;\">        0</td><td style=\"text-align: right;\">    3.01109e+06</td><td style=\"text-align: right;\">609031          </td><td>nan </td><td>nan </td><td>nan </td><td>nan </td><td>nan </td><td>nan </td><td>nan </td><td>nan </td><td>S          </td><td>NotFound</td><td>New    </td><td>NotFound</td><td>New    </td><td>NotFound</td><td>T      </td><td>T      </td><td>F      </td><td>T      </td><td style=\"text-align: right;\">    0</td><td style=\"text-align: right;\">   1</td><td style=\"text-align: right;\">   0</td><td style=\"text-align: right;\">   1</td><td style=\"text-align: right;\"> nan</td><td style=\"text-align: right;\"> nan</td><td style=\"text-align: right;\"> nan</td><td style=\"text-align: right;\"> nan</td><td style=\"text-align: right;\"> nan</td><td style=\"text-align: right;\">     0</td><td style=\"text-align: right;\">     1</td><td style=\"text-align: right;\">     1</td><td style=\"text-align: right;\">     1</td><td style=\"text-align: right;\">     1</td><td style=\"text-align: right;\">     1</td><td style=\"text-align: right;\">     1</td><td style=\"text-align: right;\">     1</td><td style=\"text-align: right;\">     1</td><td style=\"text-align: right;\">     1</td><td style=\"text-align: right;\">     1</td><td style=\"text-align: right;\">     1</td><td style=\"text-align: right;\">     0</td><td style=\"text-align: right;\">     0</td><td style=\"text-align: right;\">     0</td><td style=\"text-align: right;\">     0</td><td style=\"text-align: right;\">     0</td><td style=\"text-align: right;\">  nan</td><td style=\"text-align: right;\">  nan</td><td style=\"text-align: right;\">     0</td><td style=\"text-align: right;\">  nan</td><td style=\"text-align: right;\">     1</td><td style=\"text-align: right;\">     1</td><td style=\"text-align: right;\">     1</td><td style=\"text-align: right;\">     0</td><td style=\"text-align: right;\">     0</td><td style=\"text-align: right;\">  nan</td><td style=\"text-align: right;\">     1</td><td style=\"text-align: right;\">     1</td><td style=\"text-align: right;\">     1</td><td style=\"text-align: right;\">     1</td><td style=\"text-align: right;\">     1</td><td style=\"text-align: right;\">     1</td><td style=\"text-align: right;\">     1</td><td style=\"text-align: right;\">     1</td><td style=\"text-align: right;\">     1</td><td style=\"text-align: right;\">     1</td><td style=\"text-align: right;\">     1</td><td style=\"text-align: right;\">     1</td><td style=\"text-align: right;\">     1</td><td style=\"text-align: right;\">     1</td><td style=\"text-align: right;\">     1</td><td style=\"text-align: right;\">     0</td><td style=\"text-align: right;\">     0</td><td style=\"text-align: right;\">     0</td><td style=\"text-align: right;\">     0</td><td style=\"text-align: right;\">     0</td><td style=\"text-align: right;\">     0</td><td style=\"text-align: right;\">     0</td><td style=\"text-align: right;\">     1</td><td style=\"text-align: right;\">     1</td><td style=\"text-align: right;\">     1</td><td style=\"text-align: right;\">  nan</td><td style=\"text-align: right;\">     0</td><td style=\"text-align: right;\">     0</td><td style=\"text-align: right;\">     0</td><td style=\"text-align: right;\">  nan</td><td style=\"text-align: right;\">     1</td><td style=\"text-align: right;\">     1</td><td style=\"text-align: right;\">     1</td><td style=\"text-align: right;\">     1</td><td style=\"text-align: right;\">     1</td><td style=\"text-align: right;\">     1</td><td style=\"text-align: right;\">     1</td><td style=\"text-align: right;\">     1</td><td style=\"text-align: right;\">     1</td><td style=\"text-align: right;\">     1</td><td style=\"text-align: right;\">     1</td><td style=\"text-align: right;\">     1</td><td style=\"text-align: right;\">     0</td><td style=\"text-align: right;\">     0</td><td style=\"text-align: right;\">     0</td><td style=\"text-align: right;\">     0</td><td style=\"text-align: right;\">     0</td><td style=\"text-align: right;\">     0</td><td style=\"text-align: right;\">     1</td><td style=\"text-align: right;\">     1</td><td style=\"text-align: right;\">     0</td><td style=\"text-align: right;\">  nan</td><td style=\"text-align: right;\">  nan</td><td style=\"text-align: right;\">  nan</td><td style=\"text-align: right;\">  nan</td><td style=\"text-align: right;\">  nan</td><td style=\"text-align: right;\">  nan</td><td style=\"text-align: right;\">  nan</td><td style=\"text-align: right;\">  nan</td><td style=\"text-align: right;\">  nan</td><td style=\"text-align: right;\">  nan</td><td style=\"text-align: right;\">  nan</td><td style=\"text-align: right;\">  nan</td><td style=\"text-align: right;\">  nan</td><td style=\"text-align: right;\">  nan</td><td style=\"text-align: right;\">  nan</td><td style=\"text-align: right;\">  nan</td><td style=\"text-align: right;\">  nan</td><td style=\"text-align: right;\">  nan</td><td style=\"text-align: right;\">  nan</td><td style=\"text-align: right;\">  nan</td><td style=\"text-align: right;\">     87</td><td style=\"text-align: right;\">    nan</td><td style=\"text-align: right;\">    nan</td><td style=\"text-align: right;\"> nan</td><td style=\"text-align: right;\">     1</td><td style=\"text-align: right;\">  nan</td><td style=\"text-align: right;\">    330</td></tr>\n",
       "</tbody>\n",
       "</table>"
      ]
     },
     "metadata": {},
     "output_type": "display_data"
    },
    {
     "data": {
      "text/plain": []
     },
     "execution_count": 12,
     "metadata": {},
     "output_type": "execute_result"
    }
   ],
   "source": [
    "train_h2o"
   ]
  },
  {
   "cell_type": "code",
   "execution_count": 13,
   "metadata": {},
   "outputs": [],
   "source": [
    "train_h2o['isFraud'] = train_h2o['isFraud'].asfactor()"
   ]
  },
  {
   "cell_type": "code",
   "execution_count": 15,
   "metadata": {},
   "outputs": [
    {
     "name": "stdout",
     "output_type": "stream",
     "text": [
      "AutoML progress: |████████████████████████████████████████████████████████| 100%\n"
     ]
    }
   ],
   "source": [
    "\n",
    "aml = H2OAutoML(max_models=20, seed=1, exclude_algos=['DeepLearning'])\n",
    "aml.train( y='isFraud', training_frame=train_h2o)"
   ]
  },
  {
   "cell_type": "code",
   "execution_count": 16,
   "metadata": {},
   "outputs": [
    {
     "data": {
      "text/html": [
       "<table>\n",
       "<thead>\n",
       "<tr><th>model_id                                           </th><th style=\"text-align: right;\">     auc</th><th style=\"text-align: right;\">  logloss</th><th style=\"text-align: right;\">  mean_per_class_error</th><th style=\"text-align: right;\">    rmse</th><th style=\"text-align: right;\">      mse</th></tr>\n",
       "</thead>\n",
       "<tbody>\n",
       "<tr><td>XGBoost_grid_1_AutoML_20190811_220904_model_6      </td><td style=\"text-align: right;\">0.746188</td><td style=\"text-align: right;\"> 0.136099</td><td style=\"text-align: right;\">              0.357883</td><td style=\"text-align: right;\">0.176149</td><td style=\"text-align: right;\">0.0310285</td></tr>\n",
       "<tr><td>XGBoost_grid_1_AutoML_20190811_220904_model_1      </td><td style=\"text-align: right;\">0.743286</td><td style=\"text-align: right;\"> 0.133796</td><td style=\"text-align: right;\">              0.366987</td><td style=\"text-align: right;\">0.176299</td><td style=\"text-align: right;\">0.0310813</td></tr>\n",
       "<tr><td>XGBoost_grid_1_AutoML_20190811_220904_model_4      </td><td style=\"text-align: right;\">0.739704</td><td style=\"text-align: right;\"> 0.132634</td><td style=\"text-align: right;\">              0.380755</td><td style=\"text-align: right;\">0.174842</td><td style=\"text-align: right;\">0.0305696</td></tr>\n",
       "<tr><td>XGBoost_grid_1_AutoML_20190811_220904_model_2      </td><td style=\"text-align: right;\">0.734952</td><td style=\"text-align: right;\"> 0.135109</td><td style=\"text-align: right;\">              0.360474</td><td style=\"text-align: right;\">0.176605</td><td style=\"text-align: right;\">0.0311893</td></tr>\n",
       "<tr><td>XGBoost_grid_1_AutoML_20190811_220904_model_3      </td><td style=\"text-align: right;\">0.725774</td><td style=\"text-align: right;\"> 0.134466</td><td style=\"text-align: right;\">              0.355292</td><td style=\"text-align: right;\">0.175852</td><td style=\"text-align: right;\">0.030924 </td></tr>\n",
       "<tr><td>XGBoost_1_AutoML_20190811_220841                   </td><td style=\"text-align: right;\">0.725418</td><td style=\"text-align: right;\"> 0.134409</td><td style=\"text-align: right;\">              0.355292</td><td style=\"text-align: right;\">0.17675 </td><td style=\"text-align: right;\">0.0312406</td></tr>\n",
       "<tr><td>XGBoost_1_AutoML_20190811_220904                   </td><td style=\"text-align: right;\">0.725418</td><td style=\"text-align: right;\"> 0.134409</td><td style=\"text-align: right;\">              0.355292</td><td style=\"text-align: right;\">0.17675 </td><td style=\"text-align: right;\">0.0312406</td></tr>\n",
       "<tr><td>XGBoost_3_AutoML_20190811_220904                   </td><td style=\"text-align: right;\">0.719423</td><td style=\"text-align: right;\"> 0.133247</td><td style=\"text-align: right;\">              0.366469</td><td style=\"text-align: right;\">0.17418 </td><td style=\"text-align: right;\">0.0303388</td></tr>\n",
       "<tr><td>XGBoost_3_AutoML_20190811_220841                   </td><td style=\"text-align: right;\">0.719423</td><td style=\"text-align: right;\"> 0.133247</td><td style=\"text-align: right;\">              0.366469</td><td style=\"text-align: right;\">0.17418 </td><td style=\"text-align: right;\">0.0303388</td></tr>\n",
       "<tr><td>XRT_1_AutoML_20190811_220904                       </td><td style=\"text-align: right;\">0.698505</td><td style=\"text-align: right;\"> 0.178651</td><td style=\"text-align: right;\">              0.363064</td><td style=\"text-align: right;\">0.181953</td><td style=\"text-align: right;\">0.0331071</td></tr>\n",
       "<tr><td>DRF_1_AutoML_20190811_220904                       </td><td style=\"text-align: right;\">0.685818</td><td style=\"text-align: right;\"> 0.155962</td><td style=\"text-align: right;\">              0.397113</td><td style=\"text-align: right;\">0.181885</td><td style=\"text-align: right;\">0.033082 </td></tr>\n",
       "<tr><td>GLM_grid_1_AutoML_20190811_220904_model_1          </td><td style=\"text-align: right;\">0.672598</td><td style=\"text-align: right;\"> 0.135373</td><td style=\"text-align: right;\">              0.355292</td><td style=\"text-align: right;\">0.176334</td><td style=\"text-align: right;\">0.0310938</td></tr>\n",
       "<tr><td>XGBoost_2_AutoML_20190811_220841                   </td><td style=\"text-align: right;\">0.668882</td><td style=\"text-align: right;\"> 0.143247</td><td style=\"text-align: right;\">              0.385418</td><td style=\"text-align: right;\">0.181251</td><td style=\"text-align: right;\">0.0328518</td></tr>\n",
       "<tr><td>XGBoost_2_AutoML_20190811_220904                   </td><td style=\"text-align: right;\">0.668882</td><td style=\"text-align: right;\"> 0.143247</td><td style=\"text-align: right;\">              0.385418</td><td style=\"text-align: right;\">0.181251</td><td style=\"text-align: right;\">0.0328518</td></tr>\n",
       "<tr><td>StackedEnsemble_BestOfFamily_AutoML_20190811_220904</td><td style=\"text-align: right;\">0.667594</td><td style=\"text-align: right;\"> 0.140329</td><td style=\"text-align: right;\">              0.358919</td><td style=\"text-align: right;\">0.179215</td><td style=\"text-align: right;\">0.0321179</td></tr>\n",
       "<tr><td>GBM_5_AutoML_20190811_220904                       </td><td style=\"text-align: right;\">0.658845</td><td style=\"text-align: right;\"> 0.148552</td><td style=\"text-align: right;\">              0.395781</td><td style=\"text-align: right;\">0.182491</td><td style=\"text-align: right;\">0.0333029</td></tr>\n",
       "<tr><td>GBM_4_AutoML_20190811_220904                       </td><td style=\"text-align: right;\">0.635159</td><td style=\"text-align: right;\"> 0.170538</td><td style=\"text-align: right;\">              0.421021</td><td style=\"text-align: right;\">0.186461</td><td style=\"text-align: right;\">0.0347676</td></tr>\n",
       "<tr><td>GBM_1_AutoML_20190811_220904                       </td><td style=\"text-align: right;\">0.629193</td><td style=\"text-align: right;\"> 0.158774</td><td style=\"text-align: right;\">              0.391414</td><td style=\"text-align: right;\">0.184472</td><td style=\"text-align: right;\">0.0340299</td></tr>\n",
       "<tr><td>GBM_3_AutoML_20190811_220904                       </td><td style=\"text-align: right;\">0.62829 </td><td style=\"text-align: right;\"> 0.162211</td><td style=\"text-align: right;\">              0.411399</td><td style=\"text-align: right;\">0.183997</td><td style=\"text-align: right;\">0.0338549</td></tr>\n",
       "<tr><td>GBM_grid_1_AutoML_20190811_220904_model_1          </td><td style=\"text-align: right;\">0.615292</td><td style=\"text-align: right;\"> 0.590984</td><td style=\"text-align: right;\">              0.445152</td><td style=\"text-align: right;\">0.207897</td><td style=\"text-align: right;\">0.0432213</td></tr>\n",
       "<tr><td>GBM_2_AutoML_20190811_220904                       </td><td style=\"text-align: right;\">0.590096</td><td style=\"text-align: right;\"> 0.168728</td><td style=\"text-align: right;\">              0.420725</td><td style=\"text-align: right;\">0.186564</td><td style=\"text-align: right;\">0.0348062</td></tr>\n",
       "<tr><td>XGBoost_grid_1_AutoML_20190811_220904_model_5      </td><td style=\"text-align: right;\">0.580355</td><td style=\"text-align: right;\"> 0.150816</td><td style=\"text-align: right;\">              0.462842</td><td style=\"text-align: right;\">0.183581</td><td style=\"text-align: right;\">0.0337019</td></tr>\n",
       "<tr><td>GBM_grid_1_AutoML_20190811_220904_model_3          </td><td style=\"text-align: right;\">0.53809 </td><td style=\"text-align: right;\"> 0.145148</td><td style=\"text-align: right;\">              0.417913</td><td style=\"text-align: right;\">0.181092</td><td style=\"text-align: right;\">0.0327945</td></tr>\n",
       "<tr><td>GBM_grid_1_AutoML_20190811_220904_model_2          </td><td style=\"text-align: right;\">0.49285 </td><td style=\"text-align: right;\"> 0.152104</td><td style=\"text-align: right;\">              0.438416</td><td style=\"text-align: right;\">0.18383 </td><td style=\"text-align: right;\">0.0337936</td></tr>\n",
       "</tbody>\n",
       "</table>"
      ]
     },
     "metadata": {},
     "output_type": "display_data"
    },
    {
     "data": {
      "text/plain": []
     },
     "execution_count": 16,
     "metadata": {},
     "output_type": "execute_result"
    }
   ],
   "source": [
    "lb = aml.leaderboard\n",
    "lb.head(rows=lb.nrows)"
   ]
  },
  {
   "cell_type": "code",
   "execution_count": 17,
   "metadata": {},
   "outputs": [],
   "source": [
    "# Get model ids for all models in the AutoML Leaderboard\n",
    "model_ids = list(aml.leaderboard['model_id'].as_data_frame().iloc[:,0])"
   ]
  },
  {
   "cell_type": "code",
   "execution_count": 18,
   "metadata": {},
   "outputs": [
    {
     "data": {
      "text/plain": [
       "['XGBoost_grid_1_AutoML_20190811_220904_model_6',\n",
       " 'XGBoost_grid_1_AutoML_20190811_220904_model_1',\n",
       " 'XGBoost_grid_1_AutoML_20190811_220904_model_4',\n",
       " 'XGBoost_grid_1_AutoML_20190811_220904_model_2',\n",
       " 'XGBoost_grid_1_AutoML_20190811_220904_model_3',\n",
       " 'XGBoost_1_AutoML_20190811_220841',\n",
       " 'XGBoost_1_AutoML_20190811_220904',\n",
       " 'XGBoost_3_AutoML_20190811_220904',\n",
       " 'XGBoost_3_AutoML_20190811_220841',\n",
       " 'XRT_1_AutoML_20190811_220904',\n",
       " 'DRF_1_AutoML_20190811_220904',\n",
       " 'GLM_grid_1_AutoML_20190811_220904_model_1',\n",
       " 'XGBoost_2_AutoML_20190811_220841',\n",
       " 'XGBoost_2_AutoML_20190811_220904',\n",
       " 'StackedEnsemble_BestOfFamily_AutoML_20190811_220904',\n",
       " 'GBM_5_AutoML_20190811_220904',\n",
       " 'GBM_4_AutoML_20190811_220904',\n",
       " 'GBM_1_AutoML_20190811_220904',\n",
       " 'GBM_3_AutoML_20190811_220904',\n",
       " 'GBM_grid_1_AutoML_20190811_220904_model_1',\n",
       " 'GBM_2_AutoML_20190811_220904',\n",
       " 'XGBoost_grid_1_AutoML_20190811_220904_model_5',\n",
       " 'GBM_grid_1_AutoML_20190811_220904_model_3',\n",
       " 'GBM_grid_1_AutoML_20190811_220904_model_2']"
      ]
     },
     "execution_count": 18,
     "metadata": {},
     "output_type": "execute_result"
    }
   ],
   "source": [
    "model_ids"
   ]
  },
  {
   "cell_type": "code",
   "execution_count": 19,
   "metadata": {},
   "outputs": [
    {
     "data": {
      "text/plain": [
       "['GBM_5_AutoML_20190811_220904',\n",
       " 'GBM_4_AutoML_20190811_220904',\n",
       " 'GBM_1_AutoML_20190811_220904',\n",
       " 'GBM_3_AutoML_20190811_220904',\n",
       " 'GBM_grid_1_AutoML_20190811_220904_model_1',\n",
       " 'GBM_2_AutoML_20190811_220904',\n",
       " 'GBM_grid_1_AutoML_20190811_220904_model_3',\n",
       " 'GBM_grid_1_AutoML_20190811_220904_model_2']"
      ]
     },
     "execution_count": 19,
     "metadata": {},
     "output_type": "execute_result"
    }
   ],
   "source": [
    "[mid for mid in model_ids if \"GBM\" in mid]"
   ]
  },
  {
   "cell_type": "code",
   "execution_count": 21,
   "metadata": {},
   "outputs": [
    {
     "ename": "IndexError",
     "evalue": "list index out of range",
     "output_type": "error",
     "traceback": [
      "\u001b[0;31m---------------------------------------------------------------------------\u001b[0m",
      "\u001b[0;31mIndexError\u001b[0m                                Traceback (most recent call last)",
      "\u001b[0;32m<ipython-input-21-27d9813b0961>\u001b[0m in \u001b[0;36m<module>\u001b[0;34m\u001b[0m\n\u001b[1;32m      1\u001b[0m \u001b[0;31m# Get the \"All Models\" Stacked Ensemble model\u001b[0m\u001b[0;34m\u001b[0m\u001b[0;34m\u001b[0m\u001b[0;34m\u001b[0m\u001b[0m\n\u001b[0;32m----> 2\u001b[0;31m \u001b[0mse\u001b[0m \u001b[0;34m=\u001b[0m \u001b[0mh2o\u001b[0m\u001b[0;34m.\u001b[0m\u001b[0mget_model\u001b[0m\u001b[0;34m(\u001b[0m\u001b[0;34m[\u001b[0m\u001b[0mmid\u001b[0m \u001b[0;32mfor\u001b[0m \u001b[0mmid\u001b[0m \u001b[0;32min\u001b[0m \u001b[0mmodel_ids\u001b[0m \u001b[0;32mif\u001b[0m \u001b[0;34m\"StackedEnsemble_AllModels\"\u001b[0m \u001b[0;32min\u001b[0m \u001b[0mmid\u001b[0m\u001b[0;34m]\u001b[0m\u001b[0;34m[\u001b[0m\u001b[0;36m0\u001b[0m\u001b[0;34m]\u001b[0m\u001b[0;34m)\u001b[0m\u001b[0;34m\u001b[0m\u001b[0;34m\u001b[0m\u001b[0m\n\u001b[0m",
      "\u001b[0;31mIndexError\u001b[0m: list index out of range"
     ]
    }
   ],
   "source": [
    "# Get the \"All Models\" Stacked Ensemble model\n",
    "se = h2o.get_model([mid for mid in model_ids if \"StackedEnsemble_AllModels\" in mid][0])"
   ]
  },
  {
   "cell_type": "code",
   "execution_count": 22,
   "metadata": {},
   "outputs": [
    {
     "ename": "NameError",
     "evalue": "name 'se' is not defined",
     "output_type": "error",
     "traceback": [
      "\u001b[0;31m---------------------------------------------------------------------------\u001b[0m",
      "\u001b[0;31mNameError\u001b[0m                                 Traceback (most recent call last)",
      "\u001b[0;32m<ipython-input-22-6e4e2f8febcd>\u001b[0m in \u001b[0;36m<module>\u001b[0;34m\u001b[0m\n\u001b[1;32m      1\u001b[0m \u001b[0;31m# Get the Stacked Ensemble metalearner model\u001b[0m\u001b[0;34m\u001b[0m\u001b[0;34m\u001b[0m\u001b[0;34m\u001b[0m\u001b[0m\n\u001b[0;32m----> 2\u001b[0;31m \u001b[0mmetalearner\u001b[0m \u001b[0;34m=\u001b[0m \u001b[0mh2o\u001b[0m\u001b[0;34m.\u001b[0m\u001b[0mget_model\u001b[0m\u001b[0;34m(\u001b[0m\u001b[0mse\u001b[0m\u001b[0;34m.\u001b[0m\u001b[0mmetalearner\u001b[0m\u001b[0;34m(\u001b[0m\u001b[0;34m)\u001b[0m\u001b[0;34m[\u001b[0m\u001b[0;34m'name'\u001b[0m\u001b[0;34m]\u001b[0m\u001b[0;34m)\u001b[0m\u001b[0;34m\u001b[0m\u001b[0;34m\u001b[0m\u001b[0m\n\u001b[0m",
      "\u001b[0;31mNameError\u001b[0m: name 'se' is not defined"
     ]
    }
   ],
   "source": [
    "# Get the Stacked Ensemble metalearner model\n",
    "metalearner = h2o.get_model(se.metalearner()['name'])"
   ]
  },
  {
   "cell_type": "code",
   "execution_count": 24,
   "metadata": {},
   "outputs": [],
   "source": [
    "mdl = h2o.get_model('XGBoost_grid_1_AutoML_20190811_220904_model_6')"
   ]
  },
  {
   "cell_type": "code",
   "execution_count": 25,
   "metadata": {},
   "outputs": [
    {
     "name": "stdout",
     "output_type": "stream",
     "text": [
      "Model Details\n",
      "=============\n",
      "H2OXGBoostEstimator :  XGBoost\n",
      "Model Key:  XGBoost_grid_1_AutoML_20190811_220904_model_6\n",
      "\n",
      "Model Summary: \n"
     ]
    },
    {
     "data": {
      "text/html": [
       "<div style=\"overflow:auto\"><table style=\"width:50%\"><tr><td><b></b></td>\n",
       "<td><b>number_of_trees</b></td></tr>\n",
       "<tr><td></td>\n",
       "<td>103.0</td></tr></table></div>"
      ],
      "text/plain": [
       "    number_of_trees\n",
       "--  -----------------\n",
       "    103"
      ]
     },
     "metadata": {},
     "output_type": "display_data"
    },
    {
     "name": "stdout",
     "output_type": "stream",
     "text": [
      "\n",
      "\n",
      "ModelMetricsBinomial: xgboost\n",
      "** Reported on train data. **\n",
      "\n",
      "MSE: 0.0059752581483292115\n",
      "RMSE: 0.07729979397339434\n",
      "LogLoss: 0.030269519343287636\n",
      "Mean Per-Class Error: 0.0\n",
      "AUC: 1.0\n",
      "pr_auc: 0.9714285714285714\n",
      "Gini: 1.0\n",
      "Confusion Matrix (Act/Pred) for max f1 @ threshold = 0.19777031242847443: \n"
     ]
    },
    {
     "data": {
      "text/html": [
       "<div style=\"overflow:auto\"><table style=\"width:50%\"><tr><td><b></b></td>\n",
       "<td><b>0</b></td>\n",
       "<td><b>1</b></td>\n",
       "<td><b>Error</b></td>\n",
       "<td><b>Rate</b></td></tr>\n",
       "<tr><td>0</td>\n",
       "<td>965.0</td>\n",
       "<td>0.0</td>\n",
       "<td>0.0</td>\n",
       "<td> (0.0/965.0)</td></tr>\n",
       "<tr><td>1</td>\n",
       "<td>0.0</td>\n",
       "<td>35.0</td>\n",
       "<td>0.0</td>\n",
       "<td> (0.0/35.0)</td></tr>\n",
       "<tr><td>Total</td>\n",
       "<td>965.0</td>\n",
       "<td>35.0</td>\n",
       "<td>0.0</td>\n",
       "<td> (0.0/1000.0)</td></tr></table></div>"
      ],
      "text/plain": [
       "       0    1    Error    Rate\n",
       "-----  ---  ---  -------  ------------\n",
       "0      965  0    0        (0.0/965.0)\n",
       "1      0    35   0        (0.0/35.0)\n",
       "Total  965  35   0        (0.0/1000.0)"
      ]
     },
     "metadata": {},
     "output_type": "display_data"
    },
    {
     "name": "stdout",
     "output_type": "stream",
     "text": [
      "Maximum Metrics: Maximum metrics at their respective thresholds\n",
      "\n"
     ]
    },
    {
     "data": {
      "text/html": [
       "<div style=\"overflow:auto\"><table style=\"width:50%\"><tr><td><b>metric</b></td>\n",
       "<td><b>threshold</b></td>\n",
       "<td><b>value</b></td>\n",
       "<td><b>idx</b></td></tr>\n",
       "<tr><td>max f1</td>\n",
       "<td>0.1977703</td>\n",
       "<td>1.0</td>\n",
       "<td>34.0</td></tr>\n",
       "<tr><td>max f2</td>\n",
       "<td>0.1977703</td>\n",
       "<td>1.0</td>\n",
       "<td>34.0</td></tr>\n",
       "<tr><td>max f0point5</td>\n",
       "<td>0.1977703</td>\n",
       "<td>1.0</td>\n",
       "<td>34.0</td></tr>\n",
       "<tr><td>max accuracy</td>\n",
       "<td>0.1977703</td>\n",
       "<td>1.0</td>\n",
       "<td>34.0</td></tr>\n",
       "<tr><td>max precision</td>\n",
       "<td>0.9656714</td>\n",
       "<td>1.0</td>\n",
       "<td>0.0</td></tr>\n",
       "<tr><td>max recall</td>\n",
       "<td>0.1977703</td>\n",
       "<td>1.0</td>\n",
       "<td>34.0</td></tr>\n",
       "<tr><td>max specificity</td>\n",
       "<td>0.9656714</td>\n",
       "<td>1.0</td>\n",
       "<td>0.0</td></tr>\n",
       "<tr><td>max absolute_mcc</td>\n",
       "<td>0.1977703</td>\n",
       "<td>1.0</td>\n",
       "<td>34.0</td></tr>\n",
       "<tr><td>max min_per_class_accuracy</td>\n",
       "<td>0.1977703</td>\n",
       "<td>1.0</td>\n",
       "<td>34.0</td></tr>\n",
       "<tr><td>max mean_per_class_accuracy</td>\n",
       "<td>0.1977703</td>\n",
       "<td>1.0</td>\n",
       "<td>34.0</td></tr></table></div>"
      ],
      "text/plain": [
       "metric                       threshold    value    idx\n",
       "---------------------------  -----------  -------  -----\n",
       "max f1                       0.19777      1        34\n",
       "max f2                       0.19777      1        34\n",
       "max f0point5                 0.19777      1        34\n",
       "max accuracy                 0.19777      1        34\n",
       "max precision                0.965671     1        0\n",
       "max recall                   0.19777      1        34\n",
       "max specificity              0.965671     1        0\n",
       "max absolute_mcc             0.19777      1        34\n",
       "max min_per_class_accuracy   0.19777      1        34\n",
       "max mean_per_class_accuracy  0.19777      1        34"
      ]
     },
     "metadata": {},
     "output_type": "display_data"
    },
    {
     "name": "stdout",
     "output_type": "stream",
     "text": [
      "Gains/Lift Table: Avg response rate:  3.50 %, avg score:  3.61 %\n",
      "\n"
     ]
    },
    {
     "data": {
      "text/html": [
       "<div style=\"overflow:auto\"><table style=\"width:50%\"><tr><td><b></b></td>\n",
       "<td><b>group</b></td>\n",
       "<td><b>cumulative_data_fraction</b></td>\n",
       "<td><b>lower_threshold</b></td>\n",
       "<td><b>lift</b></td>\n",
       "<td><b>cumulative_lift</b></td>\n",
       "<td><b>response_rate</b></td>\n",
       "<td><b>score</b></td>\n",
       "<td><b>cumulative_response_rate</b></td>\n",
       "<td><b>cumulative_score</b></td>\n",
       "<td><b>capture_rate</b></td>\n",
       "<td><b>cumulative_capture_rate</b></td>\n",
       "<td><b>gain</b></td>\n",
       "<td><b>cumulative_gain</b></td></tr>\n",
       "<tr><td></td>\n",
       "<td>1</td>\n",
       "<td>0.01</td>\n",
       "<td>0.7547129</td>\n",
       "<td>28.5714286</td>\n",
       "<td>28.5714286</td>\n",
       "<td>1.0</td>\n",
       "<td>0.8935814</td>\n",
       "<td>1.0</td>\n",
       "<td>0.8935814</td>\n",
       "<td>0.2857143</td>\n",
       "<td>0.2857143</td>\n",
       "<td>2757.1428571</td>\n",
       "<td>2757.1428571</td></tr>\n",
       "<tr><td></td>\n",
       "<td>2</td>\n",
       "<td>0.02</td>\n",
       "<td>0.6268649</td>\n",
       "<td>28.5714286</td>\n",
       "<td>28.5714286</td>\n",
       "<td>1.0</td>\n",
       "<td>0.7049984</td>\n",
       "<td>1.0</td>\n",
       "<td>0.7992899</td>\n",
       "<td>0.2857143</td>\n",
       "<td>0.5714286</td>\n",
       "<td>2757.1428571</td>\n",
       "<td>2757.1428571</td></tr>\n",
       "<tr><td></td>\n",
       "<td>3</td>\n",
       "<td>0.03</td>\n",
       "<td>0.3909585</td>\n",
       "<td>28.5714286</td>\n",
       "<td>28.5714286</td>\n",
       "<td>1.0</td>\n",
       "<td>0.5268752</td>\n",
       "<td>1.0</td>\n",
       "<td>0.7084850</td>\n",
       "<td>0.2857143</td>\n",
       "<td>0.8571429</td>\n",
       "<td>2757.1428571</td>\n",
       "<td>2757.1428571</td></tr>\n",
       "<tr><td></td>\n",
       "<td>4</td>\n",
       "<td>0.04</td>\n",
       "<td>0.1022621</td>\n",
       "<td>14.2857143</td>\n",
       "<td>25.0000000</td>\n",
       "<td>0.5</td>\n",
       "<td>0.2383092</td>\n",
       "<td>0.875</td>\n",
       "<td>0.5909410</td>\n",
       "<td>0.1428571</td>\n",
       "<td>1.0</td>\n",
       "<td>1328.5714286</td>\n",
       "<td>2400.0000000</td></tr>\n",
       "<tr><td></td>\n",
       "<td>5</td>\n",
       "<td>0.05</td>\n",
       "<td>0.0566517</td>\n",
       "<td>0.0</td>\n",
       "<td>20.0000000</td>\n",
       "<td>0.0</td>\n",
       "<td>0.0761581</td>\n",
       "<td>0.7</td>\n",
       "<td>0.4879845</td>\n",
       "<td>0.0</td>\n",
       "<td>1.0</td>\n",
       "<td>-100.0</td>\n",
       "<td>1900.0000000</td></tr>\n",
       "<tr><td></td>\n",
       "<td>6</td>\n",
       "<td>0.1</td>\n",
       "<td>0.0303629</td>\n",
       "<td>0.0</td>\n",
       "<td>10.0000000</td>\n",
       "<td>0.0</td>\n",
       "<td>0.0405046</td>\n",
       "<td>0.35</td>\n",
       "<td>0.2642445</td>\n",
       "<td>0.0</td>\n",
       "<td>1.0</td>\n",
       "<td>-100.0</td>\n",
       "<td>900.0000000</td></tr>\n",
       "<tr><td></td>\n",
       "<td>7</td>\n",
       "<td>0.15</td>\n",
       "<td>0.0229090</td>\n",
       "<td>0.0</td>\n",
       "<td>6.6666667</td>\n",
       "<td>0.0</td>\n",
       "<td>0.0258469</td>\n",
       "<td>0.2333333</td>\n",
       "<td>0.1847787</td>\n",
       "<td>0.0</td>\n",
       "<td>1.0</td>\n",
       "<td>-100.0</td>\n",
       "<td>566.6666667</td></tr>\n",
       "<tr><td></td>\n",
       "<td>8</td>\n",
       "<td>0.2</td>\n",
       "<td>0.0186610</td>\n",
       "<td>0.0</td>\n",
       "<td>5.0000000</td>\n",
       "<td>0.0</td>\n",
       "<td>0.0208001</td>\n",
       "<td>0.175</td>\n",
       "<td>0.1437840</td>\n",
       "<td>0.0</td>\n",
       "<td>1.0</td>\n",
       "<td>-100.0</td>\n",
       "<td>400.0000000</td></tr>\n",
       "<tr><td></td>\n",
       "<td>9</td>\n",
       "<td>0.3</td>\n",
       "<td>0.0137132</td>\n",
       "<td>0.0</td>\n",
       "<td>3.3333333</td>\n",
       "<td>0.0</td>\n",
       "<td>0.0158102</td>\n",
       "<td>0.1166667</td>\n",
       "<td>0.1011261</td>\n",
       "<td>0.0</td>\n",
       "<td>1.0</td>\n",
       "<td>-100.0</td>\n",
       "<td>233.3333333</td></tr>\n",
       "<tr><td></td>\n",
       "<td>10</td>\n",
       "<td>0.4</td>\n",
       "<td>0.0113536</td>\n",
       "<td>0.0</td>\n",
       "<td>2.5000000</td>\n",
       "<td>0.0</td>\n",
       "<td>0.0124083</td>\n",
       "<td>0.0875</td>\n",
       "<td>0.0789466</td>\n",
       "<td>0.0</td>\n",
       "<td>1.0</td>\n",
       "<td>-100.0</td>\n",
       "<td>150.0000000</td></tr>\n",
       "<tr><td></td>\n",
       "<td>11</td>\n",
       "<td>0.5</td>\n",
       "<td>0.0094337</td>\n",
       "<td>0.0</td>\n",
       "<td>2.0</td>\n",
       "<td>0.0</td>\n",
       "<td>0.0101978</td>\n",
       "<td>0.07</td>\n",
       "<td>0.0651969</td>\n",
       "<td>0.0</td>\n",
       "<td>1.0</td>\n",
       "<td>-100.0</td>\n",
       "<td>100.0</td></tr>\n",
       "<tr><td></td>\n",
       "<td>12</td>\n",
       "<td>0.6</td>\n",
       "<td>0.0082896</td>\n",
       "<td>0.0</td>\n",
       "<td>1.6666667</td>\n",
       "<td>0.0</td>\n",
       "<td>0.0088116</td>\n",
       "<td>0.0583333</td>\n",
       "<td>0.0557993</td>\n",
       "<td>0.0</td>\n",
       "<td>1.0</td>\n",
       "<td>-100.0</td>\n",
       "<td>66.6666667</td></tr>\n",
       "<tr><td></td>\n",
       "<td>13</td>\n",
       "<td>0.7</td>\n",
       "<td>0.0074814</td>\n",
       "<td>0.0</td>\n",
       "<td>1.4285714</td>\n",
       "<td>0.0</td>\n",
       "<td>0.0078683</td>\n",
       "<td>0.05</td>\n",
       "<td>0.0489520</td>\n",
       "<td>0.0</td>\n",
       "<td>1.0</td>\n",
       "<td>-100.0</td>\n",
       "<td>42.8571429</td></tr>\n",
       "<tr><td></td>\n",
       "<td>14</td>\n",
       "<td>0.8</td>\n",
       "<td>0.0067830</td>\n",
       "<td>0.0</td>\n",
       "<td>1.2500000</td>\n",
       "<td>0.0</td>\n",
       "<td>0.0071533</td>\n",
       "<td>0.04375</td>\n",
       "<td>0.0437272</td>\n",
       "<td>0.0</td>\n",
       "<td>1.0</td>\n",
       "<td>-100.0</td>\n",
       "<td>25.0000000</td></tr>\n",
       "<tr><td></td>\n",
       "<td>15</td>\n",
       "<td>0.901</td>\n",
       "<td>0.0057234</td>\n",
       "<td>0.0</td>\n",
       "<td>1.1098779</td>\n",
       "<td>0.0</td>\n",
       "<td>0.0062282</td>\n",
       "<td>0.0388457</td>\n",
       "<td>0.0395236</td>\n",
       "<td>0.0</td>\n",
       "<td>1.0</td>\n",
       "<td>-100.0</td>\n",
       "<td>10.9877913</td></tr>\n",
       "<tr><td></td>\n",
       "<td>16</td>\n",
       "<td>1.0</td>\n",
       "<td>0.0047495</td>\n",
       "<td>0.0</td>\n",
       "<td>1.0</td>\n",
       "<td>0.0</td>\n",
       "<td>0.0052531</td>\n",
       "<td>0.035</td>\n",
       "<td>0.0361309</td>\n",
       "<td>0.0</td>\n",
       "<td>1.0</td>\n",
       "<td>-100.0</td>\n",
       "<td>0.0</td></tr></table></div>"
      ],
      "text/plain": [
       "    group    cumulative_data_fraction    lower_threshold    lift     cumulative_lift    response_rate    score       cumulative_response_rate    cumulative_score    capture_rate    cumulative_capture_rate    gain     cumulative_gain\n",
       "--  -------  --------------------------  -----------------  -------  -----------------  ---------------  ----------  --------------------------  ------------------  --------------  -------------------------  -------  -----------------\n",
       "    1        0.01                        0.754713           28.5714  28.5714            1                0.893581    1                           0.893581            0.285714        0.285714                   2757.14  2757.14\n",
       "    2        0.02                        0.626865           28.5714  28.5714            1                0.704998    1                           0.79929             0.285714        0.571429                   2757.14  2757.14\n",
       "    3        0.03                        0.390958           28.5714  28.5714            1                0.526875    1                           0.708485            0.285714        0.857143                   2757.14  2757.14\n",
       "    4        0.04                        0.102262           14.2857  25                 0.5              0.238309    0.875                       0.590941            0.142857        1                          1328.57  2400\n",
       "    5        0.05                        0.0566517          0        20                 0                0.0761581   0.7                         0.487984            0               1                          -100     1900\n",
       "    6        0.1                         0.0303629          0        10                 0                0.0405046   0.35                        0.264245            0               1                          -100     900\n",
       "    7        0.15                        0.022909           0        6.66667            0                0.0258469   0.233333                    0.184779            0               1                          -100     566.667\n",
       "    8        0.2                         0.018661           0        5                  0                0.0208001   0.175                       0.143784            0               1                          -100     400\n",
       "    9        0.3                         0.0137132          0        3.33333            0                0.0158102   0.116667                    0.101126            0               1                          -100     233.333\n",
       "    10       0.4                         0.0113536          0        2.5                0                0.0124083   0.0875                      0.0789466           0               1                          -100     150\n",
       "    11       0.5                         0.00943366         0        2                  0                0.0101978   0.07                        0.0651969           0               1                          -100     100\n",
       "    12       0.6                         0.00828959         0        1.66667            0                0.00881158  0.0583333                   0.0557993           0               1                          -100     66.6667\n",
       "    13       0.7                         0.00748141         0        1.42857            0                0.00786832  0.05                        0.048952            0               1                          -100     42.8571\n",
       "    14       0.8                         0.00678301         0        1.25               0                0.00715334  0.04375                     0.0437272           0               1                          -100     25\n",
       "    15       0.901                       0.00572339         0        1.10988            0                0.00622817  0.0388457                   0.0395236           0               1                          -100     10.9878\n",
       "    16       1                           0.00474946         0        1                  0                0.00525307  0.035                       0.0361309           0               1                          -100     0"
      ]
     },
     "metadata": {},
     "output_type": "display_data"
    },
    {
     "name": "stdout",
     "output_type": "stream",
     "text": [
      "\n",
      "\n",
      "ModelMetricsBinomial: xgboost\n",
      "** Reported on cross-validation data. **\n",
      "\n",
      "MSE: 0.0310285357831\n",
      "RMSE: 0.17614918615508843\n",
      "LogLoss: 0.13609851949362703\n",
      "Mean Per-Class Error: 0.2946706143597335\n",
      "AUC: 0.7461880088823094\n",
      "pr_auc: 0.1869303932990314\n",
      "Gini: 0.4923760177646188\n",
      "Confusion Matrix (Act/Pred) for max f1 @ threshold = 0.09644685685634613: \n"
     ]
    },
    {
     "data": {
      "text/html": [
       "<div style=\"overflow:auto\"><table style=\"width:50%\"><tr><td><b></b></td>\n",
       "<td><b>0</b></td>\n",
       "<td><b>1</b></td>\n",
       "<td><b>Error</b></td>\n",
       "<td><b>Rate</b></td></tr>\n",
       "<tr><td>0</td>\n",
       "<td>936.0</td>\n",
       "<td>29.0</td>\n",
       "<td>0.0301</td>\n",
       "<td> (29.0/965.0)</td></tr>\n",
       "<tr><td>1</td>\n",
       "<td>24.0</td>\n",
       "<td>11.0</td>\n",
       "<td>0.6857</td>\n",
       "<td> (24.0/35.0)</td></tr>\n",
       "<tr><td>Total</td>\n",
       "<td>960.0</td>\n",
       "<td>40.0</td>\n",
       "<td>0.053</td>\n",
       "<td> (53.0/1000.0)</td></tr></table></div>"
      ],
      "text/plain": [
       "       0    1    Error    Rate\n",
       "-----  ---  ---  -------  -------------\n",
       "0      936  29   0.0301   (29.0/965.0)\n",
       "1      24   11   0.6857   (24.0/35.0)\n",
       "Total  960  40   0.053    (53.0/1000.0)"
      ]
     },
     "metadata": {},
     "output_type": "display_data"
    },
    {
     "name": "stdout",
     "output_type": "stream",
     "text": [
      "Maximum Metrics: Maximum metrics at their respective thresholds\n",
      "\n"
     ]
    },
    {
     "data": {
      "text/html": [
       "<div style=\"overflow:auto\"><table style=\"width:50%\"><tr><td><b>metric</b></td>\n",
       "<td><b>threshold</b></td>\n",
       "<td><b>value</b></td>\n",
       "<td><b>idx</b></td></tr>\n",
       "<tr><td>max f1</td>\n",
       "<td>0.0964469</td>\n",
       "<td>0.2933333</td>\n",
       "<td>39.0</td></tr>\n",
       "<tr><td>max f2</td>\n",
       "<td>0.0725301</td>\n",
       "<td>0.3061224</td>\n",
       "<td>55.0</td></tr>\n",
       "<tr><td>max f0point5</td>\n",
       "<td>0.5139326</td>\n",
       "<td>0.3968254</td>\n",
       "<td>6.0</td></tr>\n",
       "<tr><td>max accuracy</td>\n",
       "<td>0.5139326</td>\n",
       "<td>0.968</td>\n",
       "<td>6.0</td></tr>\n",
       "<tr><td>max precision</td>\n",
       "<td>0.9189045</td>\n",
       "<td>1.0</td>\n",
       "<td>0.0</td></tr>\n",
       "<tr><td>max recall</td>\n",
       "<td>0.0059843</td>\n",
       "<td>1.0</td>\n",
       "<td>359.0</td></tr>\n",
       "<tr><td>max specificity</td>\n",
       "<td>0.9189045</td>\n",
       "<td>1.0</td>\n",
       "<td>0.0</td></tr>\n",
       "<tr><td>max absolute_mcc</td>\n",
       "<td>0.5139326</td>\n",
       "<td>0.3103339</td>\n",
       "<td>6.0</td></tr>\n",
       "<tr><td>max min_per_class_accuracy</td>\n",
       "<td>0.0183080</td>\n",
       "<td>0.6963731</td>\n",
       "<td>212.0</td></tr>\n",
       "<tr><td>max mean_per_class_accuracy</td>\n",
       "<td>0.0183080</td>\n",
       "<td>0.7053294</td>\n",
       "<td>212.0</td></tr></table></div>"
      ],
      "text/plain": [
       "metric                       threshold    value     idx\n",
       "---------------------------  -----------  --------  -----\n",
       "max f1                       0.0964469    0.293333  39\n",
       "max f2                       0.0725301    0.306122  55\n",
       "max f0point5                 0.513933     0.396825  6\n",
       "max accuracy                 0.513933     0.968     6\n",
       "max precision                0.918905     1         0\n",
       "max recall                   0.00598433   1         359\n",
       "max specificity              0.918905     1         0\n",
       "max absolute_mcc             0.513933     0.310334  6\n",
       "max min_per_class_accuracy   0.018308     0.696373  212\n",
       "max mean_per_class_accuracy  0.018308     0.705329  212"
      ]
     },
     "metadata": {},
     "output_type": "display_data"
    },
    {
     "name": "stdout",
     "output_type": "stream",
     "text": [
      "Gains/Lift Table: Avg response rate:  3.50 %, avg score:  2.71 %\n",
      "\n"
     ]
    },
    {
     "data": {
      "text/html": [
       "<div style=\"overflow:auto\"><table style=\"width:50%\"><tr><td><b></b></td>\n",
       "<td><b>group</b></td>\n",
       "<td><b>cumulative_data_fraction</b></td>\n",
       "<td><b>lower_threshold</b></td>\n",
       "<td><b>lift</b></td>\n",
       "<td><b>cumulative_lift</b></td>\n",
       "<td><b>response_rate</b></td>\n",
       "<td><b>score</b></td>\n",
       "<td><b>cumulative_response_rate</b></td>\n",
       "<td><b>cumulative_score</b></td>\n",
       "<td><b>capture_rate</b></td>\n",
       "<td><b>cumulative_capture_rate</b></td>\n",
       "<td><b>gain</b></td>\n",
       "<td><b>cumulative_gain</b></td></tr>\n",
       "<tr><td></td>\n",
       "<td>1</td>\n",
       "<td>0.01</td>\n",
       "<td>0.3648427</td>\n",
       "<td>14.2857143</td>\n",
       "<td>14.2857143</td>\n",
       "<td>0.5</td>\n",
       "<td>0.6228217</td>\n",
       "<td>0.5</td>\n",
       "<td>0.6228217</td>\n",
       "<td>0.1428571</td>\n",
       "<td>0.1428571</td>\n",
       "<td>1328.5714286</td>\n",
       "<td>1328.5714286</td></tr>\n",
       "<tr><td></td>\n",
       "<td>2</td>\n",
       "<td>0.02</td>\n",
       "<td>0.1677810</td>\n",
       "<td>2.8571429</td>\n",
       "<td>8.5714286</td>\n",
       "<td>0.1</td>\n",
       "<td>0.2344985</td>\n",
       "<td>0.3</td>\n",
       "<td>0.4286601</td>\n",
       "<td>0.0285714</td>\n",
       "<td>0.1714286</td>\n",
       "<td>185.7142857</td>\n",
       "<td>757.1428571</td></tr>\n",
       "<tr><td></td>\n",
       "<td>3</td>\n",
       "<td>0.03</td>\n",
       "<td>0.1141361</td>\n",
       "<td>5.7142857</td>\n",
       "<td>7.6190476</td>\n",
       "<td>0.2</td>\n",
       "<td>0.1371207</td>\n",
       "<td>0.2666667</td>\n",
       "<td>0.3314803</td>\n",
       "<td>0.0571429</td>\n",
       "<td>0.2285714</td>\n",
       "<td>471.4285714</td>\n",
       "<td>661.9047619</td></tr>\n",
       "<tr><td></td>\n",
       "<td>4</td>\n",
       "<td>0.04</td>\n",
       "<td>0.0959603</td>\n",
       "<td>8.5714286</td>\n",
       "<td>7.8571429</td>\n",
       "<td>0.3</td>\n",
       "<td>0.1060868</td>\n",
       "<td>0.275</td>\n",
       "<td>0.2751319</td>\n",
       "<td>0.0857143</td>\n",
       "<td>0.3142857</td>\n",
       "<td>757.1428571</td>\n",
       "<td>685.7142857</td></tr>\n",
       "<tr><td></td>\n",
       "<td>5</td>\n",
       "<td>0.05</td>\n",
       "<td>0.0813334</td>\n",
       "<td>0.0</td>\n",
       "<td>6.2857143</td>\n",
       "<td>0.0</td>\n",
       "<td>0.0882574</td>\n",
       "<td>0.22</td>\n",
       "<td>0.2377570</td>\n",
       "<td>0.0</td>\n",
       "<td>0.3142857</td>\n",
       "<td>-100.0</td>\n",
       "<td>528.5714286</td></tr>\n",
       "<tr><td></td>\n",
       "<td>6</td>\n",
       "<td>0.1</td>\n",
       "<td>0.0454427</td>\n",
       "<td>0.5714286</td>\n",
       "<td>3.4285714</td>\n",
       "<td>0.02</td>\n",
       "<td>0.0583092</td>\n",
       "<td>0.12</td>\n",
       "<td>0.1480331</td>\n",
       "<td>0.0285714</td>\n",
       "<td>0.3428571</td>\n",
       "<td>-42.8571429</td>\n",
       "<td>242.8571429</td></tr>\n",
       "<tr><td></td>\n",
       "<td>7</td>\n",
       "<td>0.15</td>\n",
       "<td>0.0302382</td>\n",
       "<td>1.1428571</td>\n",
       "<td>2.6666667</td>\n",
       "<td>0.04</td>\n",
       "<td>0.0367276</td>\n",
       "<td>0.0933333</td>\n",
       "<td>0.1109313</td>\n",
       "<td>0.0571429</td>\n",
       "<td>0.4</td>\n",
       "<td>14.2857143</td>\n",
       "<td>166.6666667</td></tr>\n",
       "<tr><td></td>\n",
       "<td>8</td>\n",
       "<td>0.2</td>\n",
       "<td>0.0241350</td>\n",
       "<td>1.1428571</td>\n",
       "<td>2.2857143</td>\n",
       "<td>0.04</td>\n",
       "<td>0.0269649</td>\n",
       "<td>0.08</td>\n",
       "<td>0.0899397</td>\n",
       "<td>0.0571429</td>\n",
       "<td>0.4571429</td>\n",
       "<td>14.2857143</td>\n",
       "<td>128.5714286</td></tr>\n",
       "<tr><td></td>\n",
       "<td>9</td>\n",
       "<td>0.3</td>\n",
       "<td>0.0188787</td>\n",
       "<td>2.0</td>\n",
       "<td>2.1904762</td>\n",
       "<td>0.07</td>\n",
       "<td>0.0211004</td>\n",
       "<td>0.0766667</td>\n",
       "<td>0.0669932</td>\n",
       "<td>0.2</td>\n",
       "<td>0.6571429</td>\n",
       "<td>100.0</td>\n",
       "<td>119.0476190</td></tr>\n",
       "<tr><td></td>\n",
       "<td>10</td>\n",
       "<td>0.4</td>\n",
       "<td>0.0163179</td>\n",
       "<td>0.8571429</td>\n",
       "<td>1.8571429</td>\n",
       "<td>0.03</td>\n",
       "<td>0.0174317</td>\n",
       "<td>0.065</td>\n",
       "<td>0.0546028</td>\n",
       "<td>0.0857143</td>\n",
       "<td>0.7428571</td>\n",
       "<td>-14.2857143</td>\n",
       "<td>85.7142857</td></tr>\n",
       "<tr><td></td>\n",
       "<td>11</td>\n",
       "<td>0.5</td>\n",
       "<td>0.0121854</td>\n",
       "<td>0.8571429</td>\n",
       "<td>1.6571429</td>\n",
       "<td>0.03</td>\n",
       "<td>0.0143550</td>\n",
       "<td>0.058</td>\n",
       "<td>0.0465533</td>\n",
       "<td>0.0857143</td>\n",
       "<td>0.8285714</td>\n",
       "<td>-14.2857143</td>\n",
       "<td>65.7142857</td></tr>\n",
       "<tr><td></td>\n",
       "<td>12</td>\n",
       "<td>0.6</td>\n",
       "<td>0.0100838</td>\n",
       "<td>0.2857143</td>\n",
       "<td>1.4285714</td>\n",
       "<td>0.01</td>\n",
       "<td>0.0110403</td>\n",
       "<td>0.05</td>\n",
       "<td>0.0406344</td>\n",
       "<td>0.0285714</td>\n",
       "<td>0.8571429</td>\n",
       "<td>-71.4285714</td>\n",
       "<td>42.8571429</td></tr>\n",
       "<tr><td></td>\n",
       "<td>13</td>\n",
       "<td>0.7</td>\n",
       "<td>0.0085892</td>\n",
       "<td>0.8571429</td>\n",
       "<td>1.3469388</td>\n",
       "<td>0.03</td>\n",
       "<td>0.0092505</td>\n",
       "<td>0.0471429</td>\n",
       "<td>0.0361510</td>\n",
       "<td>0.0857143</td>\n",
       "<td>0.9428571</td>\n",
       "<td>-14.2857143</td>\n",
       "<td>34.6938776</td></tr>\n",
       "<tr><td></td>\n",
       "<td>14</td>\n",
       "<td>0.8</td>\n",
       "<td>0.0070053</td>\n",
       "<td>0.0</td>\n",
       "<td>1.1785714</td>\n",
       "<td>0.0</td>\n",
       "<td>0.0078119</td>\n",
       "<td>0.04125</td>\n",
       "<td>0.0326086</td>\n",
       "<td>0.0</td>\n",
       "<td>0.9428571</td>\n",
       "<td>-100.0</td>\n",
       "<td>17.8571429</td></tr>\n",
       "<tr><td></td>\n",
       "<td>15</td>\n",
       "<td>0.9</td>\n",
       "<td>0.0049596</td>\n",
       "<td>0.5714286</td>\n",
       "<td>1.1111111</td>\n",
       "<td>0.02</td>\n",
       "<td>0.0058952</td>\n",
       "<td>0.0388889</td>\n",
       "<td>0.0296405</td>\n",
       "<td>0.0571429</td>\n",
       "<td>1.0</td>\n",
       "<td>-42.8571429</td>\n",
       "<td>11.1111111</td></tr>\n",
       "<tr><td></td>\n",
       "<td>16</td>\n",
       "<td>1.0</td>\n",
       "<td>0.0027480</td>\n",
       "<td>0.0</td>\n",
       "<td>1.0</td>\n",
       "<td>0.0</td>\n",
       "<td>0.0038670</td>\n",
       "<td>0.035</td>\n",
       "<td>0.0270631</td>\n",
       "<td>0.0</td>\n",
       "<td>1.0</td>\n",
       "<td>-100.0</td>\n",
       "<td>0.0</td></tr></table></div>"
      ],
      "text/plain": [
       "    group    cumulative_data_fraction    lower_threshold    lift      cumulative_lift    response_rate    score       cumulative_response_rate    cumulative_score    capture_rate    cumulative_capture_rate    gain      cumulative_gain\n",
       "--  -------  --------------------------  -----------------  --------  -----------------  ---------------  ----------  --------------------------  ------------------  --------------  -------------------------  --------  -----------------\n",
       "    1        0.01                        0.364843           14.2857   14.2857            0.5              0.622822    0.5                         0.622822            0.142857        0.142857                   1328.57   1328.57\n",
       "    2        0.02                        0.167781           2.85714   8.57143            0.1              0.234498    0.3                         0.42866             0.0285714       0.171429                   185.714   757.143\n",
       "    3        0.03                        0.114136           5.71429   7.61905            0.2              0.137121    0.266667                    0.33148             0.0571429       0.228571                   471.429   661.905\n",
       "    4        0.04                        0.0959603          8.57143   7.85714            0.3              0.106087    0.275                       0.275132            0.0857143       0.314286                   757.143   685.714\n",
       "    5        0.05                        0.0813334          0         6.28571            0                0.0882574   0.22                        0.237757            0               0.314286                   -100      528.571\n",
       "    6        0.1                         0.0454427          0.571429  3.42857            0.02             0.0583092   0.12                        0.148033            0.0285714       0.342857                   -42.8571  242.857\n",
       "    7        0.15                        0.0302382          1.14286   2.66667            0.04             0.0367276   0.0933333                   0.110931            0.0571429       0.4                        14.2857   166.667\n",
       "    8        0.2                         0.024135           1.14286   2.28571            0.04             0.0269649   0.08                        0.0899397           0.0571429       0.457143                   14.2857   128.571\n",
       "    9        0.3                         0.0188787          2         2.19048            0.07             0.0211004   0.0766667                   0.0669932           0.2             0.657143                   100       119.048\n",
       "    10       0.4                         0.0163179          0.857143  1.85714            0.03             0.0174317   0.065                       0.0546028           0.0857143       0.742857                   -14.2857  85.7143\n",
       "    11       0.5                         0.0121854          0.857143  1.65714            0.03             0.014355    0.058                       0.0465533           0.0857143       0.828571                   -14.2857  65.7143\n",
       "    12       0.6                         0.0100838          0.285714  1.42857            0.01             0.0110403   0.05                        0.0406344           0.0285714       0.857143                   -71.4286  42.8571\n",
       "    13       0.7                         0.00858917         0.857143  1.34694            0.03             0.00925048  0.0471429                   0.036151            0.0857143       0.942857                   -14.2857  34.6939\n",
       "    14       0.8                         0.00700532         0         1.17857            0                0.00781185  0.04125                     0.0326086           0               0.942857                   -100      17.8571\n",
       "    15       0.9                         0.00495965         0.571429  1.11111            0.02             0.00589519  0.0388889                   0.0296405           0.0571429       1                          -42.8571  11.1111\n",
       "    16       1                           0.00274797         0         1                  0                0.003867    0.035                       0.0270631           0               1                          -100      0"
      ]
     },
     "metadata": {},
     "output_type": "display_data"
    },
    {
     "name": "stdout",
     "output_type": "stream",
     "text": [
      "\n",
      "Cross-Validation Metrics Summary: \n"
     ]
    },
    {
     "data": {
      "text/html": [
       "<div style=\"overflow:auto\"><table style=\"width:50%\"><tr><td><b></b></td>\n",
       "<td><b>mean</b></td>\n",
       "<td><b>sd</b></td>\n",
       "<td><b>cv_1_valid</b></td>\n",
       "<td><b>cv_2_valid</b></td>\n",
       "<td><b>cv_3_valid</b></td>\n",
       "<td><b>cv_4_valid</b></td>\n",
       "<td><b>cv_5_valid</b></td></tr>\n",
       "<tr><td>accuracy</td>\n",
       "<td>0.876</td>\n",
       "<td>0.1419401</td>\n",
       "<td>0.975</td>\n",
       "<td>0.475</td>\n",
       "<td>0.96</td>\n",
       "<td>0.98</td>\n",
       "<td>0.99</td></tr>\n",
       "<tr><td>auc</td>\n",
       "<td>0.7300846</td>\n",
       "<td>0.0748035</td>\n",
       "<td>0.8398438</td>\n",
       "<td>0.6041366</td>\n",
       "<td>0.7405468</td>\n",
       "<td>0.6147959</td>\n",
       "<td>0.8510998</td></tr>\n",
       "<tr><td>err</td>\n",
       "<td>0.124</td>\n",
       "<td>0.1419401</td>\n",
       "<td>0.025</td>\n",
       "<td>0.525</td>\n",
       "<td>0.04</td>\n",
       "<td>0.02</td>\n",
       "<td>0.01</td></tr>\n",
       "<tr><td>err_count</td>\n",
       "<td>24.8</td>\n",
       "<td>28.388025</td>\n",
       "<td>5.0</td>\n",
       "<td>105.0</td>\n",
       "<td>8.0</td>\n",
       "<td>4.0</td>\n",
       "<td>2.0</td></tr>\n",
       "<tr><td>f0point5</td>\n",
       "<td>0.4946007</td>\n",
       "<td>0.1570242</td>\n",
       "<td>0.6944444</td>\n",
       "<td>0.1070664</td>\n",
       "<td>0.5405405</td>\n",
       "<td>0.4166667</td>\n",
       "<td>0.7142857</td></tr>\n",
       "<tr><td>f1</td>\n",
       "<td>0.432</td>\n",
       "<td>0.1216699</td>\n",
       "<td>0.6666667</td>\n",
       "<td>0.16</td>\n",
       "<td>0.5</td>\n",
       "<td>0.3333333</td>\n",
       "<td>0.5</td></tr>\n",
       "<tr><td>f2</td>\n",
       "<td>0.4169982</td>\n",
       "<td>0.0911282</td>\n",
       "<td>0.6410257</td>\n",
       "<td>0.3164557</td>\n",
       "<td>0.4651163</td>\n",
       "<td>0.2777778</td>\n",
       "<td>0.3846154</td></tr>\n",
       "<tr><td>lift_top_group</td>\n",
       "<td>18.88889</td>\n",
       "<td>8.370289</td>\n",
       "<td>25.0</td>\n",
       "<td>0.0</td>\n",
       "<td>11.111111</td>\n",
       "<td>25.0</td>\n",
       "<td>33.333332</td></tr>\n",
       "<tr><td>logloss</td>\n",
       "<td>0.1360985</td>\n",
       "<td>0.0424018</td>\n",
       "<td>0.1198581</td>\n",
       "<td>0.2402356</td>\n",
       "<td>0.1568427</td>\n",
       "<td>0.0981966</td>\n",
       "<td>0.0653596</td></tr>\n",
       "<tr><td>max_per_class_error</td>\n",
       "<td>0.5794973</td>\n",
       "<td>0.0893961</td>\n",
       "<td>0.375</td>\n",
       "<td>0.5502645</td>\n",
       "<td>0.5555556</td>\n",
       "<td>0.75</td>\n",
       "<td>0.6666667</td></tr>\n",
       "<tr><td>mcc</td>\n",
       "<td>0.4446389</td>\n",
       "<td>0.1228118</td>\n",
       "<td>0.6553129</td>\n",
       "<td>0.1652380</td>\n",
       "<td>0.4836174</td>\n",
       "<td>0.3445844</td>\n",
       "<td>0.5744417</td></tr>\n",
       "<tr><td>mean_per_class_accuracy</td>\n",
       "<td>0.6980379</td>\n",
       "<td>0.0438723</td>\n",
       "<td>0.8072917</td>\n",
       "<td>0.6794132</td>\n",
       "<td>0.7143688</td>\n",
       "<td>0.622449</td>\n",
       "<td>0.6666667</td></tr>\n",
       "<tr><td>mean_per_class_error</td>\n",
       "<td>0.3019621</td>\n",
       "<td>0.0438723</td>\n",
       "<td>0.1927083</td>\n",
       "<td>0.3205868</td>\n",
       "<td>0.2856312</td>\n",
       "<td>0.3775510</td>\n",
       "<td>0.3333333</td></tr>\n",
       "<tr><td>mse</td>\n",
       "<td>0.0310285</td>\n",
       "<td>0.0103494</td>\n",
       "<td>0.0282765</td>\n",
       "<td>0.0559275</td>\n",
       "<td>0.0364028</td>\n",
       "<td>0.0215093</td>\n",
       "<td>0.0130265</td></tr>\n",
       "<tr><td>precision</td>\n",
       "<td>0.5746867</td>\n",
       "<td>0.2105007</td>\n",
       "<td>0.7142857</td>\n",
       "<td>0.0877193</td>\n",
       "<td>0.5714286</td>\n",
       "<td>0.5</td>\n",
       "<td>1.0</td></tr>\n",
       "<tr><td>r2</td>\n",
       "<td>0.0722886</td>\n",
       "<td>0.0979986</td>\n",
       "<td>0.2636322</td>\n",
       "<td>-0.0760461</td>\n",
       "<td>0.1529296</td>\n",
       "<td>-0.0974114</td>\n",
       "<td>0.1183389</td></tr>\n",
       "<tr><td>recall</td>\n",
       "<td>0.5123737</td>\n",
       "<td>0.1660057</td>\n",
       "<td>0.625</td>\n",
       "<td>0.9090909</td>\n",
       "<td>0.4444444</td>\n",
       "<td>0.25</td>\n",
       "<td>0.3333333</td></tr>\n",
       "<tr><td>rmse</td>\n",
       "<td>0.1712471</td>\n",
       "<td>0.0291800</td>\n",
       "<td>0.1681563</td>\n",
       "<td>0.2364900</td>\n",
       "<td>0.1907953</td>\n",
       "<td>0.1466604</td>\n",
       "<td>0.1141339</td></tr>\n",
       "<tr><td>specificity</td>\n",
       "<td>0.883702</td>\n",
       "<td>0.1534751</td>\n",
       "<td>0.9895833</td>\n",
       "<td>0.4497355</td>\n",
       "<td>0.9842932</td>\n",
       "<td>0.9948980</td>\n",
       "<td>1.0</td></tr></table></div>"
      ],
      "text/plain": [
       "                         mean       sd         cv_1_valid    cv_2_valid    cv_3_valid    cv_4_valid    cv_5_valid\n",
       "-----------------------  ---------  ---------  ------------  ------------  ------------  ------------  ------------\n",
       "accuracy                 0.876      0.14194    0.975         0.475         0.96          0.98          0.99\n",
       "auc                      0.730085   0.0748035  0.839844      0.604137      0.740547      0.614796      0.8511\n",
       "err                      0.124      0.14194    0.025         0.525         0.04          0.02          0.01\n",
       "err_count                24.8       28.388     5             105           8             4             2\n",
       "f0point5                 0.494601   0.157024   0.694444      0.107066      0.54054       0.416667      0.714286\n",
       "f1                       0.432      0.12167    0.666667      0.16          0.5           0.333333      0.5\n",
       "f2                       0.416998   0.0911282  0.641026      0.316456      0.465116      0.277778      0.384615\n",
       "lift_top_group           18.8889    8.37029    25            0             11.1111       25            33.3333\n",
       "logloss                  0.136099   0.0424018  0.119858      0.240236      0.156843      0.0981966     0.0653596\n",
       "max_per_class_error      0.579497   0.0893961  0.375         0.550265      0.555556      0.75          0.666667\n",
       "mcc                      0.444639   0.122812   0.655313      0.165238      0.483617      0.344584      0.574442\n",
       "mean_per_class_accuracy  0.698038   0.0438723  0.807292      0.679413      0.714369      0.622449      0.666667\n",
       "mean_per_class_error     0.301962   0.0438723  0.192708      0.320587      0.285631      0.377551      0.333333\n",
       "mse                      0.0310285  0.0103494  0.0282765     0.0559275     0.0364028     0.0215093     0.0130265\n",
       "precision                0.574687   0.210501   0.714286      0.0877193     0.571429      0.5           1\n",
       "r2                       0.0722886  0.0979986  0.263632      -0.0760461    0.15293       -0.0974114    0.118339\n",
       "recall                   0.512374   0.166006   0.625         0.909091      0.444444      0.25          0.333333\n",
       "rmse                     0.171247   0.02918    0.168156      0.23649       0.190795      0.14666       0.114134\n",
       "specificity              0.883702   0.153475   0.989583      0.449735      0.984293      0.994898      1"
      ]
     },
     "metadata": {},
     "output_type": "display_data"
    },
    {
     "name": "stdout",
     "output_type": "stream",
     "text": [
      "Scoring History: \n"
     ]
    },
    {
     "data": {
      "text/html": [
       "<div style=\"overflow:auto\"><table style=\"width:50%\"><tr><td><b></b></td>\n",
       "<td><b>timestamp</b></td>\n",
       "<td><b>duration</b></td>\n",
       "<td><b>number_of_trees</b></td>\n",
       "<td><b>training_rmse</b></td>\n",
       "<td><b>training_logloss</b></td>\n",
       "<td><b>training_auc</b></td>\n",
       "<td><b>training_pr_auc</b></td>\n",
       "<td><b>training_lift</b></td>\n",
       "<td><b>training_classification_error</b></td></tr>\n",
       "<tr><td></td>\n",
       "<td>2019-08-11 22:10:07</td>\n",
       "<td>20.171 sec</td>\n",
       "<td>0.0</td>\n",
       "<td>0.5</td>\n",
       "<td>0.6931472</td>\n",
       "<td>0.5</td>\n",
       "<td>0.0</td>\n",
       "<td>1.0</td>\n",
       "<td>0.965</td></tr>\n",
       "<tr><td></td>\n",
       "<td>2019-08-11 22:10:08</td>\n",
       "<td>20.233 sec</td>\n",
       "<td>5.0</td>\n",
       "<td>0.3988401</td>\n",
       "<td>0.5085146</td>\n",
       "<td>0.8125833</td>\n",
       "<td>0.5541959</td>\n",
       "<td>25.7142857</td>\n",
       "<td>0.025</td></tr>\n",
       "<tr><td></td>\n",
       "<td>2019-08-11 22:10:08</td>\n",
       "<td>20.286 sec</td>\n",
       "<td>10.0</td>\n",
       "<td>0.3225793</td>\n",
       "<td>0.3873722</td>\n",
       "<td>0.8383864</td>\n",
       "<td>0.6151308</td>\n",
       "<td>28.5714286</td>\n",
       "<td>0.02</td></tr>\n",
       "<tr><td></td>\n",
       "<td>2019-08-11 22:10:08</td>\n",
       "<td>20.343 sec</td>\n",
       "<td>15.0</td>\n",
       "<td>0.2658090</td>\n",
       "<td>0.3036547</td>\n",
       "<td>0.8486306</td>\n",
       "<td>0.6494421</td>\n",
       "<td>28.5714286</td>\n",
       "<td>0.019</td></tr>\n",
       "<tr><td></td>\n",
       "<td>2019-08-11 22:10:08</td>\n",
       "<td>20.396 sec</td>\n",
       "<td>20.0</td>\n",
       "<td>0.2245352</td>\n",
       "<td>0.2443473</td>\n",
       "<td>0.8489563</td>\n",
       "<td>0.6580803</td>\n",
       "<td>28.5714286</td>\n",
       "<td>0.018</td></tr>\n",
       "<tr><td>---</td>\n",
       "<td>---</td>\n",
       "<td>---</td>\n",
       "<td>---</td>\n",
       "<td>---</td>\n",
       "<td>---</td>\n",
       "<td>---</td>\n",
       "<td>---</td>\n",
       "<td>---</td>\n",
       "<td>---</td></tr>\n",
       "<tr><td></td>\n",
       "<td>2019-08-11 22:10:09</td>\n",
       "<td>21.336 sec</td>\n",
       "<td>85.0</td>\n",
       "<td>0.0871425</td>\n",
       "<td>0.0393001</td>\n",
       "<td>0.9999408</td>\n",
       "<td>0.9698627</td>\n",
       "<td>28.5714286</td>\n",
       "<td>0.001</td></tr>\n",
       "<tr><td></td>\n",
       "<td>2019-08-11 22:10:09</td>\n",
       "<td>21.427 sec</td>\n",
       "<td>90.0</td>\n",
       "<td>0.0834040</td>\n",
       "<td>0.0361845</td>\n",
       "<td>0.9999704</td>\n",
       "<td>0.9706236</td>\n",
       "<td>28.5714286</td>\n",
       "<td>0.001</td></tr>\n",
       "<tr><td></td>\n",
       "<td>2019-08-11 22:10:09</td>\n",
       "<td>21.519 sec</td>\n",
       "<td>95.0</td>\n",
       "<td>0.0813838</td>\n",
       "<td>0.0336461</td>\n",
       "<td>0.9999704</td>\n",
       "<td>0.9706236</td>\n",
       "<td>28.5714286</td>\n",
       "<td>0.001</td></tr>\n",
       "<tr><td></td>\n",
       "<td>2019-08-11 22:10:09</td>\n",
       "<td>21.617 sec</td>\n",
       "<td>100.0</td>\n",
       "<td>0.0780753</td>\n",
       "<td>0.0313897</td>\n",
       "<td>1.0</td>\n",
       "<td>0.9714286</td>\n",
       "<td>28.5714286</td>\n",
       "<td>0.0</td></tr>\n",
       "<tr><td></td>\n",
       "<td>2019-08-11 22:10:09</td>\n",
       "<td>21.686 sec</td>\n",
       "<td>103.0</td>\n",
       "<td>0.0772998</td>\n",
       "<td>0.0302695</td>\n",
       "<td>1.0</td>\n",
       "<td>0.9714286</td>\n",
       "<td>28.5714286</td>\n",
       "<td>0.0</td></tr></table></div>"
      ],
      "text/plain": [
       "     timestamp            duration    number_of_trees    training_rmse        training_logloss      training_auc        training_pr_auc     training_lift      training_classification_error\n",
       "---  -------------------  ----------  -----------------  -------------------  --------------------  ------------------  ------------------  -----------------  -------------------------------\n",
       "     2019-08-11 22:10:07  20.171 sec  0.0                0.5                  0.6931471805599322    0.5                 0.0                 1.0                0.965\n",
       "     2019-08-11 22:10:08  20.233 sec  5.0                0.3988400590066441   0.5085146270503673    0.8125832716506292  0.5541959058682835  25.71428571428571  0.025\n",
       "     2019-08-11 22:10:08  20.286 sec  10.0               0.3225793367815386   0.38737223738247456   0.8383863804589192  0.6151307837346405  28.57142857142857  0.02\n",
       "     2019-08-11 22:10:08  20.343 sec  15.0               0.26580896585236874  0.30365467773502425   0.8486306439674316  0.6494420999720781  28.57142857142857  0.019\n",
       "     2019-08-11 22:10:08  20.396 sec  20.0               0.2245351625547327   0.24434727692516603   0.8489563286454478  0.6580802976798277  28.57142857142857  0.018\n",
       "---  ---                  ---         ---                ---                  ---                   ---                 ---                 ---                ---\n",
       "     2019-08-11 22:10:09  21.336 sec  85.0               0.08714246797920462  0.03930010607058573   0.999940784603997   0.9698627198627199  28.57142857142857  0.001\n",
       "     2019-08-11 22:10:09  21.427 sec  90.0               0.08340400468038899  0.036184482826674205  0.9999703923019985  0.9706235827664399  28.57142857142857  0.001\n",
       "     2019-08-11 22:10:09  21.519 sec  95.0               0.08138382900444387  0.033646119412110424  0.9999703923019985  0.9706235827664399  28.57142857142857  0.001\n",
       "     2019-08-11 22:10:09  21.617 sec  100.0              0.07807530848209306  0.03138969135977759   1.0                 0.9714285714285714  28.57142857142857  0.0\n",
       "     2019-08-11 22:10:09  21.686 sec  103.0              0.07729979397339434  0.030269519343287636  1.0                 0.9714285714285714  28.57142857142857  0.0"
      ]
     },
     "metadata": {},
     "output_type": "display_data"
    },
    {
     "name": "stdout",
     "output_type": "stream",
     "text": [
      "\n",
      "See the whole table with table.as_data_frame()\n",
      "Variable Importances: \n"
     ]
    },
    {
     "data": {
      "text/html": [
       "<div style=\"overflow:auto\"><table style=\"width:50%\"><tr><td><b>variable</b></td>\n",
       "<td><b>relative_importance</b></td>\n",
       "<td><b>scaled_importance</b></td>\n",
       "<td><b>percentage</b></td></tr>\n",
       "<tr><td>TransactionID</td>\n",
       "<td>161.4985199</td>\n",
       "<td>1.0</td>\n",
       "<td>0.0900993</td></tr>\n",
       "<tr><td>addr1</td>\n",
       "<td>90.9828949</td>\n",
       "<td>0.5633667</td>\n",
       "<td>0.0507589</td></tr>\n",
       "<tr><td>TransactionDT</td>\n",
       "<td>61.3004379</td>\n",
       "<td>0.3795728</td>\n",
       "<td>0.0341992</td></tr>\n",
       "<tr><td>V44</td>\n",
       "<td>58.1841202</td>\n",
       "<td>0.3602765</td>\n",
       "<td>0.0324606</td></tr>\n",
       "<tr><td>V308</td>\n",
       "<td>56.8192596</td>\n",
       "<td>0.3518253</td>\n",
       "<td>0.0316992</td></tr>\n",
       "<tr><td>---</td>\n",
       "<td>---</td>\n",
       "<td>---</td>\n",
       "<td>---</td></tr>\n",
       "<tr><td>D8.260.58334350585943</td>\n",
       "<td>0.0414741</td>\n",
       "<td>0.0002568</td>\n",
       "<td>0.0000231</td></tr>\n",
       "<tr><td>D5.44.0</td>\n",
       "<td>0.0184128</td>\n",
       "<td>0.0001140</td>\n",
       "<td>0.0000103</td></tr>\n",
       "<tr><td>D9.0.7083330154418945</td>\n",
       "<td>0.0164975</td>\n",
       "<td>0.0001022</td>\n",
       "<td>0.0000092</td></tr>\n",
       "<tr><td>V264.55.5015983581543</td>\n",
       "<td>0.0164009</td>\n",
       "<td>0.0001016</td>\n",
       "<td>0.0000091</td></tr>\n",
       "<tr><td>D9.0.16666600108146667</td>\n",
       "<td>0.0052292</td>\n",
       "<td>0.0000324</td>\n",
       "<td>0.0000029</td></tr></table></div>"
      ],
      "text/plain": [
       "variable                relative_importance    scaled_importance       percentage\n",
       "----------------------  ---------------------  ----------------------  ----------------------\n",
       "TransactionID           161.49851989746094     1.0                     0.09009925344813123\n",
       "addr1                   90.98289489746094      0.5633667414117977      0.05075892281870937\n",
       "TransactionDT           61.300437927246094     0.3795727537699239      0.03419922174392148\n",
       "V44                     58.184120178222656     0.3602764917917828      0.03246064294535141\n",
       "V308                    56.81925964355469      0.3518252655171733      0.03169919376728786\n",
       "---                     ---                    ---                     ---\n",
       "D8.260.58334350585943   0.041474103927612305   0.0002568079506483722   2.3138204632962865e-05\n",
       "D5.44.0                 0.018412791192531586   0.00011401213586491247  1.027240832545552e-05\n",
       "D9.0.7083330154418945   0.016497457399964333   0.00010215237520714704  9.203852744117338e-06\n",
       "V264.55.5015983581543   0.016400877386331558   0.00010155435106615742  9.149971215470214e-06\n",
       "D9.0.16666600108146667  0.005229238420724869   3.2379482016584615e-05  2.9173671567314643e-06"
      ]
     },
     "metadata": {},
     "output_type": "display_data"
    },
    {
     "name": "stdout",
     "output_type": "stream",
     "text": [
      "\n",
      "See the whole table with table.as_data_frame()\n",
      "\n"
     ]
    }
   ],
   "source": [
    "print(mdl)"
   ]
  },
  {
   "cell_type": "code",
   "execution_count": 26,
   "metadata": {},
   "outputs": [],
   "source": [
    "mdl_params = mdl.get_params()"
   ]
  },
  {
   "cell_type": "code",
   "execution_count": 27,
   "metadata": {},
   "outputs": [
    {
     "name": "stdout",
     "output_type": "stream",
     "text": [
      "['model_id', 'training_frame', 'validation_frame', 'nfolds', 'keep_cross_validation_models', 'keep_cross_validation_predictions', 'keep_cross_validation_fold_assignment', 'score_each_iteration', 'fold_assignment', 'fold_column', 'response_column', 'ignored_columns', 'ignore_const_cols', 'offset_column', 'weights_column', 'stopping_rounds', 'stopping_metric', 'stopping_tolerance', 'max_runtime_secs', 'seed', 'distribution', 'tweedie_power', 'categorical_encoding', 'quiet_mode', 'export_checkpoints_dir', 'ntrees', 'max_depth', 'min_rows', 'min_child_weight', 'learn_rate', 'eta', 'sample_rate', 'subsample', 'col_sample_rate', 'colsample_bylevel', 'col_sample_rate_per_tree', 'colsample_bytree', 'max_abs_leafnode_pred', 'max_delta_step', 'monotone_constraints', 'score_tree_interval', 'min_split_improvement', 'gamma', 'nthread', 'max_bins', 'max_leaves', 'min_sum_hessian_in_leaf', 'min_data_in_leaf', 'sample_type', 'normalize_type', 'rate_drop', 'one_drop', 'skip_drop', 'tree_method', 'grow_policy', 'booster', 'reg_lambda', 'reg_alpha', 'dmatrix_type', 'backend', 'gpu_id']\n"
     ]
    }
   ],
   "source": [
    "print([k for k in mdl_params.keys()])"
   ]
  },
  {
   "cell_type": "code",
   "execution_count": 28,
   "metadata": {},
   "outputs": [
    {
     "data": {
      "text/plain": [
       "{'__meta': {'schema_version': 3,\n",
       "  'schema_name': 'ModelParameterSchemaV3',\n",
       "  'schema_type': 'Iced'},\n",
       " 'name': 'max_depth',\n",
       " 'label': 'max_depth',\n",
       " 'help': 'Maximum tree depth.',\n",
       " 'required': False,\n",
       " 'type': 'int',\n",
       " 'default_value': 6,\n",
       " 'actual_value': 15,\n",
       " 'level': 'critical',\n",
       " 'values': [],\n",
       " 'is_member_of_frames': [],\n",
       " 'is_mutually_exclusive_with': [],\n",
       " 'gridable': True}"
      ]
     },
     "execution_count": 28,
     "metadata": {},
     "output_type": "execute_result"
    }
   ],
   "source": [
    "mdl_params['max_depth']"
   ]
  },
  {
   "cell_type": "code",
   "execution_count": 29,
   "metadata": {},
   "outputs": [
    {
     "data": {
      "text/plain": [
       "{'__meta': {'schema_version': 3,\n",
       "  'schema_name': 'ModelParameterSchemaV3',\n",
       "  'schema_type': 'Iced'},\n",
       " 'name': 'ntrees',\n",
       " 'label': 'ntrees',\n",
       " 'help': '(same as n_estimators) Number of trees.',\n",
       " 'required': False,\n",
       " 'type': 'int',\n",
       " 'default_value': 50,\n",
       " 'actual_value': 103,\n",
       " 'level': 'critical',\n",
       " 'values': [],\n",
       " 'is_member_of_frames': [],\n",
       " 'is_mutually_exclusive_with': [],\n",
       " 'gridable': True}"
      ]
     },
     "execution_count": 29,
     "metadata": {},
     "output_type": "execute_result"
    }
   ],
   "source": [
    "mdl_params['ntrees']"
   ]
  },
  {
   "cell_type": "code",
   "execution_count": 30,
   "metadata": {},
   "outputs": [
    {
     "name": "stdout",
     "output_type": "stream",
     "text": [
      "['rate_drop', 'one_drop', 'skip_drop']\n"
     ]
    }
   ],
   "source": [
    "print([k for k in mdl_params.keys() if 'drop' in k])"
   ]
  },
  {
   "cell_type": "markdown",
   "metadata": {},
   "source": [
    "## Clean-up"
   ]
  },
  {
   "cell_type": "code",
   "execution_count": 31,
   "metadata": {},
   "outputs": [],
   "source": [
    "shutil.rmtree(TMPDIR)"
   ]
  },
  {
   "cell_type": "code",
   "execution_count": 32,
   "metadata": {},
   "outputs": [
    {
     "data": {
      "text/plain": [
       "'0.24.2'"
      ]
     },
     "execution_count": 32,
     "metadata": {},
     "output_type": "execute_result"
    }
   ],
   "source": [
    "pd.__version__"
   ]
  },
  {
   "cell_type": "code",
   "execution_count": null,
   "metadata": {},
   "outputs": [],
   "source": [
    "dir(aml)"
   ]
  },
  {
   "cell_type": "code",
   "execution_count": null,
   "metadata": {},
   "outputs": [],
   "source": []
  }
 ],
 "metadata": {
  "kernelspec": {
   "display_name": "Python 3",
   "language": "python",
   "name": "python3"
  },
  "language_info": {
   "codemirror_mode": {
    "name": "ipython",
    "version": 3
   },
   "file_extension": ".py",
   "mimetype": "text/x-python",
   "name": "python",
   "nbconvert_exporter": "python",
   "pygments_lexer": "ipython3",
   "version": "3.7.3"
  }
 },
 "nbformat": 4,
 "nbformat_minor": 2
}
